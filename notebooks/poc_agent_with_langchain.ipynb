{
 "cells": [
  {
   "cell_type": "markdown",
   "metadata": {},
   "source": [
    "# Introduction\n",
    "\n",
    "**Table of Contents**\n",
    "1. Create a Simplified Agent Manually\n",
    "    - 1.1. Create Manually a Simplified Agent without Memory\n",
    "    - 1.2. Create Manually a Simplified Agent with Memory\n",
    "2. Create an Agent via Built-in Methods\n",
    "    - 2.1. Create an OpenAI Tools Agent"
   ]
  },
  {
   "cell_type": "code",
   "execution_count": 1,
   "metadata": {},
   "outputs": [],
   "source": [
    "#!pip install python-dotenv \\\n",
    "#             langchain==0.2.5 \\\n",
    "#             langchain_core==0.2.9 \\\n",
    "#             langchain_groq==0.1.6\n",
    "#             langchain_openai==0.1.16 \\\n",
    "#             wikipedia==1.4.0"
   ]
  },
  {
   "cell_type": "code",
   "execution_count": 2,
   "metadata": {},
   "outputs": [
    {
     "data": {
      "text/plain": [
       "'d:\\\\Projects\\\\agentic-rag-chatbot'"
      ]
     },
     "execution_count": 2,
     "metadata": {},
     "output_type": "execute_result"
    }
   ],
   "source": [
    "# Change the current working directory to the pachage root\n",
    "# That's step is due to the way settings.py is defined\n",
    "\n",
    "import os\n",
    "\n",
    "\n",
    "ROOT_DIR = os.path.join(*os.path.split(os.getcwd())[:-1])\n",
    "os.chdir(ROOT_DIR)\n",
    "os.getcwd()"
   ]
  },
  {
   "cell_type": "code",
   "execution_count": 3,
   "metadata": {},
   "outputs": [],
   "source": [
    "from dotenv import load_dotenv\n",
    "\n",
    "conf_dir = os.path.join(\"conf\")\n",
    "conf_file = \".env\"\n",
    "\n",
    "conf_path = os.path.join(conf_dir, conf_file)\n",
    "_ = load_dotenv(conf_path)"
   ]
  },
  {
   "cell_type": "code",
   "execution_count": 4,
   "metadata": {},
   "outputs": [],
   "source": [
    "# Instantiate a callback function for propt printing\n",
    "\n",
    "from langchain.callbacks.base import BaseCallbackHandler\n",
    "\n",
    "class PromptPrintingCallbackHandler(BaseCallbackHandler):\n",
    "    def __init__(self):\n",
    "        pass\n",
    "\n",
    "    def on_llm_start(self, serialized, prompts, **kwargs):\n",
    "        for prompt in prompts:\n",
    "            print(f\"\\n\\n<-----\\nPrompt being sent to the LLM API:\\n{prompt}\\n----->\\n\\n\")\n",
    "\n",
    "    def on_llm_end(self, result, **kwargs):\n",
    "        pass\n",
    "\n",
    "callback_handler = PromptPrintingCallbackHandler()\n"
   ]
  },
  {
   "cell_type": "code",
   "execution_count": 5,
   "metadata": {},
   "outputs": [],
   "source": [
    "# Instatiate an LLM\n",
    "\n",
    "model_provider = \"openai\" # \"openai\", \"groq\"\n",
    "\n",
    "if model_provider==\"groq\":\n",
    "    from langchain_groq import ChatGroq\n",
    "\n",
    "    model_name = 'llama3-70b-8192'  # 'llama3-8b-8192', 'mixtral-8x7b-32768', 'llama3-70b-8192'\n",
    "    model_kwargs = {\n",
    "            'top_p': 0.95,\n",
    "        }\n",
    "    generate_kwargs = { \n",
    "            'max_tokens': 512,\n",
    "            'temperature': 0.4,\n",
    "    }\n",
    "    groq_api_key = os.environ.get('GROQ_API_KEY', None)\n",
    "\n",
    "    if groq_api_key is None:\n",
    "        raise ValueError(\"GROQ_API_KEY is not set.\")\n",
    "\n",
    "    llm = ChatGroq(\n",
    "        model_name=model_name, \n",
    "        groq_api_key=groq_api_key,\n",
    "        model_kwargs=model_kwargs,\n",
    "        **generate_kwargs,\n",
    "        callbacks=[callback_handler],\n",
    "    )\n",
    "\n",
    "elif model_provider==\"openai\":\n",
    "    from langchain_openai import ChatOpenAI\n",
    "\n",
    "    model_name = \"gpt-4o\"\n",
    "    model_kwargs = {\n",
    "            'top_p': 0.95, \n",
    "        }\n",
    "    generate_kwargs = { \n",
    "            'max_tokens': 512,\n",
    "            'temperature': 0.4,\n",
    "    }\n",
    "    openai_api_key = os.environ.get('OPENAI_API_KEY', None)\n",
    "\n",
    "    llm = ChatOpenAI(\n",
    "        api_key=openai_api_key,\n",
    "        model=model_name, \n",
    "        model_kwargs=model_kwargs,\n",
    "        **generate_kwargs,\n",
    "        callbacks=[callback_handler],\n",
    "    )"
   ]
  },
  {
   "cell_type": "code",
   "execution_count": 6,
   "metadata": {},
   "outputs": [
    {
     "name": "stdout",
     "output_type": "stream",
     "text": [
      "\n",
      "\n",
      "<-----\n",
      "Prompt being sent to the LLM API:\n",
      "Human: Hi there!\n",
      "----->\n",
      "\n",
      "\n"
     ]
    },
    {
     "data": {
      "text/plain": [
       "AIMessage(content='Hello! How can I assist you today?', response_metadata={'token_usage': {'completion_tokens': 9, 'prompt_tokens': 10, 'total_tokens': 19}, 'model_name': 'gpt-4o-2024-05-13', 'system_fingerprint': 'fp_dd932ca5d1', 'finish_reason': 'stop', 'logprobs': None}, id='run-ffe37863-80da-4cf4-bae8-77bd9ca4201a-0', usage_metadata={'input_tokens': 10, 'output_tokens': 9, 'total_tokens': 19})"
      ]
     },
     "execution_count": 6,
     "metadata": {},
     "output_type": "execute_result"
    }
   ],
   "source": [
    "# Example\n",
    "\n",
    "llm.invoke(\"Hi there!\")"
   ]
  },
  {
   "cell_type": "code",
   "execution_count": 7,
   "metadata": {},
   "outputs": [
    {
     "name": "stdout",
     "output_type": "stream",
     "text": [
      "\n",
      "\n",
      "<-----\n",
      "Prompt being sent to the LLM API:\n",
      "Human: what color is the sky?\n",
      "----->\n",
      "\n",
      "\n",
      "|The| color| of| the| sky| can| vary| depending| on| several| factors|,| but| it| is| most| commonly| perceived| as| blue| during| a| clear| day|.| This| blue| color| is| due| to| Ray|leigh| scattering|,| where| shorter| blue| wavelengths| of| sunlight| are| scattered| in| all| directions| by| the| molecules| and| small| particles| in| the| Earth's| atmosphere|.| \n",
      "\n",
      "|At| sunrise| and| sunset|,| the| sky| can| take| on| shades| of| red|,| orange|,| pink|,| and| purple| due| to| the| scattering| of| light| passing| through| a| greater| thickness| of| the| atmosphere|,| which| filters| out| the| shorter| blue| wavelengths| and| allows| the| longer| red| wavelengths| to| dominate|.| \n",
      "\n",
      "|The| sky| can| also| appear| gray| or| white| on| cloudy| days|,| and| it| can| take| on| various| other| colors| under| different| atmospheric| conditions| or| during| certain| natural| phenomena|.||"
     ]
    }
   ],
   "source": [
    "# Example \n",
    "\n",
    "# https://python.langchain.com/v0.2/docs/concepts/#chat-models\n",
    "\n",
    "for chunk in llm.stream(\"what color is the sky?\"):\n",
    "    print(chunk.content, end=\"|\", flush=True)"
   ]
  },
  {
   "cell_type": "code",
   "execution_count": 8,
   "metadata": {},
   "outputs": [],
   "source": [
    "# Tools (function to be called)\n",
    "\n",
    "import datetime\n",
    "import requests\n",
    "import wikipedia\n",
    "\n",
    "from langchain.agents import tool\n",
    "from pydantic import BaseModel, Field\n",
    "\n",
    "@tool\n",
    "def search_wikipedia(query: str) -> str:\n",
    "    \"\"\"\n",
    "    Searches Wikipedia for a given query and returns summaries of the top results.\n",
    "\n",
    "    This function performs a search on Wikipedia for the specified query, retrieves the top three search results, \n",
    "    and returns a summary of each. If the retrieval fails for a particular page, it is skipped. If no summaries \n",
    "    are retrieved, it returns a message indicating no suitable results were found.\n",
    "\n",
    "    Args:\n",
    "        query (str): The search query to be used for retrieving information from Wikipedia.\n",
    "\n",
    "    Returns:\n",
    "        str: A string that concatenates the page title and summary of each of the top three search results,\n",
    "             separated by double newlines. If no results are found or summaries are retrieved, a message is returned\n",
    "             indicating the absence of good results.\n",
    "    \"\"\"\n",
    "    page_titles = wikipedia.search(query)\n",
    "    summaries = []\n",
    "    for page_title in page_titles[:3]:\n",
    "        try:\n",
    "            wiki_page =  wikipedia.page(title=page_title, auto_suggest=False)\n",
    "            summaries.append(f\"Page: {page_title}\\nSummary: {wiki_page.summary}\")\n",
    "        except:\n",
    "            pass\n",
    "    if not summaries:\n",
    "        return \"No good Wikipedia Search Result was found\"\n",
    "    return \"\\n\\n\".join(summaries)\n",
    "\n",
    "\n",
    "@tool()\n",
    "def search_ben_uri_gallery_and_museum(query: str) -> str:\n",
    "    \"\"\"\n",
    "    Useful to retrieve content from Ben Uri Gallery and Museum website for a given query.\n",
    "\n",
    "    Ben Uri Gallery and Museum's content focusing on the contributions of Jewish, Refugee, and Immigrant artists to \n",
    "    British visual culture.\n",
    "\n",
    "    Args:\n",
    "        query (str): The search query for which the information is to be retrieved from the Ben Uri gallery and museum.\n",
    "\n",
    "    Returns:\n",
    "        str: A string that concatenates the web page link and a significant text chunk for each of the top three results,\n",
    "             separated by double newlines. If no relevant results are found, a message is returned indicating the absence \n",
    "             of useful information.\n",
    "    \"\"\"\n",
    "    chunks = []\n",
    "    try:\n",
    "        results = benuri.search(query)\n",
    "        for result in results[:3]:\n",
    "            chunks.append(f\"Page Link: {result.page_link}\\nText Chunk: {result.content}\")\n",
    "    except:\n",
    "        pass\n",
    "    if not chunks:\n",
    "        return \"No good information was found in Ben Uri gallery & museum\"\n",
    "    return \"\\n\\n\".join(chunks)\n",
    "\n",
    "tools = [search_wikipedia, search_ben_uri_gallery_and_museum]"
   ]
  },
  {
   "cell_type": "code",
   "execution_count": 9,
   "metadata": {},
   "outputs": [
    {
     "name": "stdout",
     "output_type": "stream",
     "text": [
      "NAME:\n",
      "\n",
      "search_wikipedia\n",
      "\n",
      "DESCRIPTION:\n",
      "\n",
      "Searches Wikipedia for a given query and returns summaries of the top results.\n",
      "\n",
      "This function performs a search on Wikipedia for the specified query, retrieves the top three search results, \n",
      "and returns a summary of each. If the retrieval fails for a particular page, it is skipped. If no summaries \n",
      "are retrieved, it returns a message indicating no suitable results were found.\n",
      "\n",
      "Args:\n",
      "    query (str): The search query to be used for retrieving information from Wikipedia.\n",
      "\n",
      "Returns:\n",
      "    str: A string that concatenates the page title and summary of each of the top three search results,\n",
      "         separated by double newlines. If no results are found or summaries are retrieved, a message is returned\n",
      "         indicating the absence of good results.\n",
      "\n",
      "ARGUMENTS:\n",
      "\n",
      "{'query': {'title': 'Query', 'type': 'string'}}\n"
     ]
    }
   ],
   "source": [
    "# Example \n",
    "\n",
    "print(f'NAME:\\n\\n{search_wikipedia.name}\\n\\nDESCRIPTION:\\n\\n{search_wikipedia.description}\\n\\nARGUMENTS:\\n\\n{search_wikipedia.args}')"
   ]
  },
  {
   "cell_type": "markdown",
   "metadata": {},
   "source": [
    "# 1. Create a Simplified Agent Manually"
   ]
  },
  {
   "cell_type": "markdown",
   "metadata": {},
   "source": [
    "## 1.1 Create Manually a Simplified Agent without Memory"
   ]
  },
  {
   "cell_type": "markdown",
   "metadata": {},
   "source": [
    "#### Bind them to the LLM"
   ]
  },
  {
   "cell_type": "code",
   "execution_count": 10,
   "metadata": {},
   "outputs": [],
   "source": [
    "# Get descriptions of the tools and bind them to the LLM\n",
    "# https://python.langchain.com/v0.1/docs/modules/model_io/chat/function_calling/\n",
    "\n",
    "llm_with_tools = llm.bind_tools(tools)"
   ]
  },
  {
   "cell_type": "code",
   "execution_count": 11,
   "metadata": {},
   "outputs": [
    {
     "data": {
      "text/plain": [
       "RunnableBinding(bound=ChatOpenAI(callbacks=[<__main__.PromptPrintingCallbackHandler object at 0x000001E27A546900>], client=<openai.resources.chat.completions.Completions object at 0x000001E27CFBA390>, async_client=<openai.resources.chat.completions.AsyncCompletions object at 0x000001E27CFBB650>, model_name='gpt-4o', temperature=0.4, model_kwargs={'top_p': 0.95}, openai_api_key=SecretStr('**********'), openai_proxy='', max_tokens=512), kwargs={'tools': [{'type': 'function', 'function': {'name': 'search_wikipedia', 'description': 'Searches Wikipedia for a given query and returns summaries of the top results.\\n\\nThis function performs a search on Wikipedia for the specified query, retrieves the top three search results, \\nand returns a summary of each. If the retrieval fails for a particular page, it is skipped. If no summaries \\nare retrieved, it returns a message indicating no suitable results were found.\\n\\nArgs:\\n    query (str): The search query to be used for retrieving information from Wikipedia.\\n\\nReturns:\\n    str: A string that concatenates the page title and summary of each of the top three search results,\\n         separated by double newlines. If no results are found or summaries are retrieved, a message is returned\\n         indicating the absence of good results.', 'parameters': {'type': 'object', 'properties': {'query': {'type': 'string'}}, 'required': ['query']}}}, {'type': 'function', 'function': {'name': 'search_ben_uri_gallery_and_museum', 'description': \"Useful to retrieve content from Ben Uri Gallery and Museum website for a given query.\\n\\nBen Uri Gallery and Museum's content focusing on the contributions of Jewish, Refugee, and Immigrant artists to \\nBritish visual culture.\\n\\nArgs:\\n    query (str): The search query for which the information is to be retrieved from the Ben Uri gallery and museum.\\n\\nReturns:\\n    str: A string that concatenates the web page link and a significant text chunk for each of the top three results,\\n         separated by double newlines. If no relevant results are found, a message is returned indicating the absence \\n         of useful information.\", 'parameters': {'type': 'object', 'properties': {'query': {'type': 'string'}}, 'required': ['query']}}}]})"
      ]
     },
     "execution_count": 11,
     "metadata": {},
     "output_type": "execute_result"
    }
   ],
   "source": [
    "# Example\n",
    "\n",
    "llm_with_tools"
   ]
  },
  {
   "cell_type": "code",
   "execution_count": 12,
   "metadata": {},
   "outputs": [
    {
     "name": "stdout",
     "output_type": "stream",
     "text": [
      "\n",
      "\n",
      "<-----\n",
      "Prompt being sent to the LLM API:\n",
      "Human: Hi there! What's up?\n",
      "----->\n",
      "\n",
      "\n"
     ]
    },
    {
     "data": {
      "text/plain": [
       "AIMessage(content=\"Hello! I'm here and ready to assist you with any questions or tasks you have. How can I help you today?\", response_metadata={'token_usage': {'completion_tokens': 25, 'prompt_tokens': 327, 'total_tokens': 352}, 'model_name': 'gpt-4o-2024-05-13', 'system_fingerprint': 'fp_d33f7b429e', 'finish_reason': 'stop', 'logprobs': None}, id='run-849b9463-a51e-4490-a1fb-e2a64862582a-0', usage_metadata={'input_tokens': 327, 'output_tokens': 25, 'total_tokens': 352})"
      ]
     },
     "execution_count": 12,
     "metadata": {},
     "output_type": "execute_result"
    }
   ],
   "source": [
    "# Example\n",
    "\n",
    "llm_with_tools.invoke(\"Hi there! What's up?\")"
   ]
  },
  {
   "cell_type": "code",
   "execution_count": 13,
   "metadata": {},
   "outputs": [
    {
     "name": "stdout",
     "output_type": "stream",
     "text": [
      "\n",
      "\n",
      "<-----\n",
      "Prompt being sent to the LLM API:\n",
      "Human: tell me the most famous painting of the Jewish people\n",
      "----->\n",
      "\n",
      "\n"
     ]
    },
    {
     "data": {
      "text/plain": [
       "AIMessage(content='', additional_kwargs={'tool_calls': [{'id': 'call_uj7NmvIwDmtXRxJaOqdf8Idy', 'function': {'arguments': '{\"query\": \"most famous Jewish painting\"}', 'name': 'search_wikipedia'}, 'type': 'function'}, {'id': 'call_nHBjGlKSpUhSbuOIkTC04R64', 'function': {'arguments': '{\"query\": \"most famous Jewish painting\"}', 'name': 'search_ben_uri_gallery_and_museum'}, 'type': 'function'}]}, response_metadata={'token_usage': {'completion_tokens': 57, 'prompt_tokens': 331, 'total_tokens': 388}, 'model_name': 'gpt-4o-2024-05-13', 'system_fingerprint': 'fp_d33f7b429e', 'finish_reason': 'tool_calls', 'logprobs': None}, id='run-92ec2fed-8d4f-4bef-ab46-be68a5f7b274-0', tool_calls=[{'name': 'search_wikipedia', 'args': {'query': 'most famous Jewish painting'}, 'id': 'call_uj7NmvIwDmtXRxJaOqdf8Idy', 'type': 'tool_call'}, {'name': 'search_ben_uri_gallery_and_museum', 'args': {'query': 'most famous Jewish painting'}, 'id': 'call_nHBjGlKSpUhSbuOIkTC04R64', 'type': 'tool_call'}], usage_metadata={'input_tokens': 331, 'output_tokens': 57, 'total_tokens': 388})"
      ]
     },
     "execution_count": 13,
     "metadata": {},
     "output_type": "execute_result"
    }
   ],
   "source": [
    "# Example\n",
    "\n",
    "llm_with_tools.invoke(\"tell me the most famous painting of the Jewish people\")"
   ]
  },
  {
   "cell_type": "code",
   "execution_count": 14,
   "metadata": {},
   "outputs": [
    {
     "name": "stdout",
     "output_type": "stream",
     "text": [
      "\n",
      "\n",
      "<-----\n",
      "Prompt being sent to the LLM API:\n",
      "Human: what are contributions of Refugee to British visual culture?\n",
      "----->\n",
      "\n",
      "\n"
     ]
    },
    {
     "data": {
      "text/plain": [
       "AIMessage(content='', additional_kwargs={'tool_calls': [{'id': 'call_sBPdJv7zWfKjurIm8iOnYu31', 'function': {'arguments': '{\"query\": \"contributions of refugees to British visual culture\"}', 'name': 'search_wikipedia'}, 'type': 'function'}, {'id': 'call_GDsuZdRMA535idvANvvsyXlL', 'function': {'arguments': '{\"query\": \"contributions of refugees to British visual culture\"}', 'name': 'search_ben_uri_gallery_and_museum'}, 'type': 'function'}]}, response_metadata={'token_usage': {'completion_tokens': 65, 'prompt_tokens': 332, 'total_tokens': 397}, 'model_name': 'gpt-4o-2024-05-13', 'system_fingerprint': 'fp_d33f7b429e', 'finish_reason': 'tool_calls', 'logprobs': None}, id='run-49bb9d4f-0c1d-4e50-a3a7-02339208ba45-0', tool_calls=[{'name': 'search_wikipedia', 'args': {'query': 'contributions of refugees to British visual culture'}, 'id': 'call_sBPdJv7zWfKjurIm8iOnYu31', 'type': 'tool_call'}, {'name': 'search_ben_uri_gallery_and_museum', 'args': {'query': 'contributions of refugees to British visual culture'}, 'id': 'call_GDsuZdRMA535idvANvvsyXlL', 'type': 'tool_call'}], usage_metadata={'input_tokens': 332, 'output_tokens': 65, 'total_tokens': 397})"
      ]
     },
     "execution_count": 14,
     "metadata": {},
     "output_type": "execute_result"
    }
   ],
   "source": [
    "# Example\n",
    "\n",
    "llm_with_tools.invoke(\"what are contributions of Refugee to British visual culture?\")"
   ]
  },
  {
   "cell_type": "markdown",
   "metadata": {},
   "source": [
    "#### Define Prompt Template"
   ]
  },
  {
   "cell_type": "code",
   "execution_count": 15,
   "metadata": {},
   "outputs": [],
   "source": [
    "from langchain.prompts import ChatPromptTemplate\n",
    "\n",
    "system_message = \"\"\"You are an AI assistant specialized in providing detailed information from the \n",
    "Ben Uri Gallery and Museum database. Your task is to use the 'search_ben_uri_gallery_and_museum' \n",
    "function to help users—students, researchers, academics, critics, art market professionals, and \n",
    "collectors—find accurate content and answers related to Jewish, Refugee, and Immigrant contributions \n",
    "to British visual culture.\"\"\"\n",
    "\n",
    "prompt = ChatPromptTemplate.from_messages([\n",
    "    (\"system\", system_message),\n",
    "    (\"user\", \"{input}\"),\n",
    "])"
   ]
  },
  {
   "cell_type": "code",
   "execution_count": 16,
   "metadata": {},
   "outputs": [
    {
     "data": {
      "text/plain": [
       "ChatPromptValue(messages=[SystemMessage(content=\"You are an AI assistant specialized in providing detailed information from the \\nBen Uri Gallery and Museum database. Your task is to use the 'search_ben_uri_gallery_and_museum' \\nfunction to help users—students, researchers, academics, critics, art market professionals, and \\ncollectors—find accurate content and answers related to Jewish, Refugee, and Immigrant contributions \\nto British visual culture.\"), HumanMessage(content='Hi there!')])"
      ]
     },
     "execution_count": 16,
     "metadata": {},
     "output_type": "execute_result"
    }
   ],
   "source": [
    "# Example\n",
    "\n",
    "prompt.invoke(\"Hi there!\")"
   ]
  },
  {
   "cell_type": "markdown",
   "metadata": {},
   "source": [
    "#### Create the chain"
   ]
  },
  {
   "cell_type": "code",
   "execution_count": 17,
   "metadata": {},
   "outputs": [],
   "source": [
    "chain = prompt | llm_with_tools"
   ]
  },
  {
   "cell_type": "code",
   "execution_count": 18,
   "metadata": {},
   "outputs": [
    {
     "name": "stdout",
     "output_type": "stream",
     "text": [
      "\n",
      "\n",
      "<-----\n",
      "Prompt being sent to the LLM API:\n",
      "System: You are an AI assistant specialized in providing detailed information from the \n",
      "Ben Uri Gallery and Museum database. Your task is to use the 'search_ben_uri_gallery_and_museum' \n",
      "function to help users—students, researchers, academics, critics, art market professionals, and \n",
      "collectors—find accurate content and answers related to Jewish, Refugee, and Immigrant contributions \n",
      "to British visual culture.\n",
      "Human: tell me the most famous painting of the Jewish people\n",
      "----->\n",
      "\n",
      "\n"
     ]
    },
    {
     "data": {
      "text/plain": [
       "AIMessage(content='', additional_kwargs={'tool_calls': [{'id': 'call_yddl8OGiNeEcCBT63zxggec4', 'function': {'arguments': '{\"query\":\"most famous painting of the Jewish people\"}', 'name': 'search_ben_uri_gallery_and_museum'}, 'type': 'function'}]}, response_metadata={'token_usage': {'completion_tokens': 26, 'prompt_tokens': 412, 'total_tokens': 438}, 'model_name': 'gpt-4o-2024-05-13', 'system_fingerprint': 'fp_298125635f', 'finish_reason': 'tool_calls', 'logprobs': None}, id='run-3a36fb9f-01be-4f20-baee-775c83e9d42d-0', tool_calls=[{'name': 'search_ben_uri_gallery_and_museum', 'args': {'query': 'most famous painting of the Jewish people'}, 'id': 'call_yddl8OGiNeEcCBT63zxggec4', 'type': 'tool_call'}], usage_metadata={'input_tokens': 412, 'output_tokens': 26, 'total_tokens': 438})"
      ]
     },
     "execution_count": 18,
     "metadata": {},
     "output_type": "execute_result"
    }
   ],
   "source": [
    "# Example\n",
    "\n",
    "query = \"tell me the most famous painting of the Jewish people\"\n",
    "response1 = chain.invoke({\"input\": query})\n",
    "response1"
   ]
  },
  {
   "cell_type": "code",
   "execution_count": 19,
   "metadata": {},
   "outputs": [
    {
     "name": "stdout",
     "output_type": "stream",
     "text": [
      "\n",
      "\n",
      "<-----\n",
      "Prompt being sent to the LLM API:\n",
      "System: You are an AI assistant specialized in providing detailed information from the \n",
      "Ben Uri Gallery and Museum database. Your task is to use the 'search_ben_uri_gallery_and_museum' \n",
      "function to help users—students, researchers, academics, critics, art market professionals, and \n",
      "collectors—find accurate content and answers related to Jewish, Refugee, and Immigrant contributions \n",
      "to British visual culture.\n",
      "Human: what are contributions of Refugee to British visual culture?\n",
      "----->\n",
      "\n",
      "\n"
     ]
    },
    {
     "data": {
      "text/plain": [
       "AIMessage(content='', additional_kwargs={'tool_calls': [{'id': 'call_QaLhOOddvsy4gtxFP6OctSQe', 'function': {'arguments': '{\"query\":\"contributions of Refugee to British visual culture\"}', 'name': 'search_ben_uri_gallery_and_museum'}, 'type': 'function'}]}, response_metadata={'token_usage': {'completion_tokens': 28, 'prompt_tokens': 413, 'total_tokens': 441}, 'model_name': 'gpt-4o-2024-05-13', 'system_fingerprint': 'fp_298125635f', 'finish_reason': 'tool_calls', 'logprobs': None}, id='run-70a2b992-46cf-49b8-bf70-65d1987b1277-0', tool_calls=[{'name': 'search_ben_uri_gallery_and_museum', 'args': {'query': 'contributions of Refugee to British visual culture'}, 'id': 'call_QaLhOOddvsy4gtxFP6OctSQe', 'type': 'tool_call'}], usage_metadata={'input_tokens': 413, 'output_tokens': 28, 'total_tokens': 441})"
      ]
     },
     "execution_count": 19,
     "metadata": {},
     "output_type": "execute_result"
    }
   ],
   "source": [
    "# Example\n",
    "\n",
    "query = \"what are contributions of Refugee to British visual culture?\"\n",
    "response2 = chain.invoke({\"input\": query})\n",
    "response2"
   ]
  },
  {
   "cell_type": "code",
   "execution_count": 20,
   "metadata": {},
   "outputs": [
    {
     "name": "stdout",
     "output_type": "stream",
     "text": [
      "\n",
      "\n",
      "<-----\n",
      "Prompt being sent to the LLM API:\n",
      "System: You are an AI assistant specialized in providing detailed information from the \n",
      "Ben Uri Gallery and Museum database. Your task is to use the 'search_ben_uri_gallery_and_museum' \n",
      "function to help users—students, researchers, academics, critics, art market professionals, and \n",
      "collectors—find accurate content and answers related to Jewish, Refugee, and Immigrant contributions \n",
      "to British visual culture.\n",
      "Human: what are the contributors to artificial inteligence?\n",
      "----->\n",
      "\n",
      "\n"
     ]
    },
    {
     "data": {
      "text/plain": [
       "AIMessage(content='', additional_kwargs={'tool_calls': [{'id': 'call_i04J74dqKH1i3lrwagVH0VQh', 'function': {'arguments': '{\"query\": \"Contributors to Artificial Intelligence\"}', 'name': 'search_wikipedia'}, 'type': 'function'}, {'id': 'call_OGWpwVsdLncvH2upY2eT3kYU', 'function': {'arguments': '{\"query\": \"Contributors to Artificial Intelligence\"}', 'name': 'search_ben_uri_gallery_and_museum'}, 'type': 'function'}]}, response_metadata={'token_usage': {'completion_tokens': 59, 'prompt_tokens': 411, 'total_tokens': 470}, 'model_name': 'gpt-4o-2024-05-13', 'system_fingerprint': 'fp_d33f7b429e', 'finish_reason': 'tool_calls', 'logprobs': None}, id='run-ad3e08c4-6c9d-48d1-aa0d-821b193268cb-0', tool_calls=[{'name': 'search_wikipedia', 'args': {'query': 'Contributors to Artificial Intelligence'}, 'id': 'call_i04J74dqKH1i3lrwagVH0VQh', 'type': 'tool_call'}, {'name': 'search_ben_uri_gallery_and_museum', 'args': {'query': 'Contributors to Artificial Intelligence'}, 'id': 'call_OGWpwVsdLncvH2upY2eT3kYU', 'type': 'tool_call'}], usage_metadata={'input_tokens': 411, 'output_tokens': 59, 'total_tokens': 470})"
      ]
     },
     "execution_count": 20,
     "metadata": {},
     "output_type": "execute_result"
    }
   ],
   "source": [
    "# Example\n",
    "\n",
    "query = \"what are the contributors to artificial inteligence?\"\n",
    "response3 = chain.invoke({\"input\": query})\n",
    "response3"
   ]
  },
  {
   "cell_type": "markdown",
   "metadata": {},
   "source": [
    "## 1.2 Create Manually a Simplified Agent with Memory"
   ]
  },
  {
   "cell_type": "code",
   "execution_count": 21,
   "metadata": {},
   "outputs": [],
   "source": [
    "import json\n",
    "\n",
    "from langchain.memory.chat_memory import BaseChatMemory\n",
    "from langchain.memory import ConversationBufferMemory\n",
    "from langchain.prompts import (\n",
    "    ChatPromptTemplate,\n",
    "    SystemMessagePromptTemplate,\n",
    "    MessagesPlaceholder,\n",
    "    HumanMessagePromptTemplate\n",
    ")\n",
    "from langchain_core.language_models.chat_models import BaseChatModel\n",
    "from langchain_core.messages import ToolMessage\n",
    "from langchain_core.messages.ai import AIMessage\n",
    "from langchain_core.messages.human import HumanMessage\n",
    "from langchain_core.messages.system import SystemMessage\n",
    "from langchain_core.tools import StructuredTool\n",
    "from langchain_openai.chat_models.base import ChatOpenAI\n",
    "from typing import Union, List, Dict, Any\n",
    "\n",
    "class ConversationChain:\n",
    "    \"\"\"\n",
    "    A class to manage and conduct a conversation chain with an AI, incorporating memory and tools.\n",
    "\n",
    "    Attributes:\n",
    "        llm (Union[ChatOpenAI, BaseChatModel]): The language model used for generating responses.\n",
    "        tools (List[StructuredTool]): Tools that can be utilized by the language model.\n",
    "        memory (BaseChatMemory): Manages the history and state of the conversation.\n",
    "            Default value: ConversationBufferMemory\n",
    "        system_message (str): An initial message describing the interaction's context.\n",
    "            Default value: The following is a conversation between a human and an AI assistant. \n",
    "                           The assistant is helpful, creative, clever, and very friendly.\n",
    "        verbose (bool): Flag to enable detailed logging for debugging.\n",
    "\n",
    "    Methods:\n",
    "        _initialize_chain(): Sets up the conversation templates and bindings.\n",
    "        invoke(user_input): Processes the user's input and generates the AI's response.\n",
    "        execute_tools(tool_calls): Executes specific tool functionalities based on AI response.\n",
    "    \"\"\"\n",
    "    def __init__(self,\n",
    "                 llm: Union[ChatOpenAI, BaseChatModel],\n",
    "                 tools: List[StructuredTool],\n",
    "                 memory: BaseChatMemory = ConversationBufferMemory(return_messages=True, memory_key='history'),\n",
    "                 system_message: str = \"\"\"The following is a conversation between a human and an AI assistant. \n",
    "                                          The assistant is helpful, creative, clever, and very friendly.\"\"\",\n",
    "                 verbose: bool = False) -> None:\n",
    "        self.llm = llm\n",
    "        self.tools = tools\n",
    "        self.memory = memory\n",
    "        self.system_message = system_message\n",
    "        self.verbose = verbose\n",
    "        self._initialize_chain()\n",
    "\n",
    "    def _initialize_chain(self) -> None:\n",
    "        \"\"\"Private method to initialize the chat prompt and chain with tools.\"\"\"\n",
    "        self.llm_with_tools = self.llm.bind_tools(self.tools)\n",
    "        self.chat_prompt = ChatPromptTemplate(\n",
    "            messages=[\n",
    "                SystemMessagePromptTemplate.from_template(\n",
    "                    f\"\"\"{self.system_message}\\nConversation context:\"\"\"\n",
    "                ),\n",
    "                MessagesPlaceholder(variable_name=\"history\"),\n",
    "                HumanMessagePromptTemplate.from_template(\"{user_input}\")\n",
    "            ]\n",
    "        )\n",
    "        self.llm_chain = self.chat_prompt | self.llm_with_tools\n",
    "        self.tool_mapping = {tool.func.__name__: tool.func for tool in self.tools}\n",
    "\n",
    "    def invoke(self, user_input: str) -> Any:\n",
    "        \"\"\"\n",
    "        Process user input to generate a response using the language model and tools.\n",
    "\n",
    "        Args:\n",
    "        user_input (str): The user's input text.\n",
    "\n",
    "        Returns:\n",
    "        Any: The response from the language model or an error if one occurred.\n",
    "        \"\"\"\n",
    "        history = self.memory.load_memory_variables({})['history']\n",
    "        try:\n",
    "            ai_response = self.llm_chain.invoke({\"history\": history, \"user_input\": user_input})\n",
    "\n",
    "            self.memory.chat_memory.messages.append(HumanMessage(user_input))\n",
    "            self.memory.chat_memory.messages.append(ai_response)\n",
    "\n",
    "            if ai_response.tool_calls:\n",
    "                tool_results = self.execute_tools(ai_response.tool_calls)\n",
    "                for tool_result in tool_results:\n",
    "                    self.memory.chat_memory.messages.append(ToolMessage(**tool_result))\n",
    "                # Note: It's being used llm (without tools) to avoid loops\n",
    "                ai_response = self.llm.invoke(self.memory.chat_memory.messages)\n",
    "\n",
    "                self.memory.chat_memory.messages.append(ai_response)\n",
    "\n",
    "            return ai_response\n",
    "        except Exception as e:\n",
    "            return e\n",
    "\n",
    "    def execute_tools(self, tool_calls: List[Dict[str, Any]]) -> List[Dict[str, Any]]:\n",
    "        \"\"\"\n",
    "        Execute tools based on tool calls provided by the AI response.\n",
    "\n",
    "        Args:\n",
    "        tool_calls (List[Dict[str, Any]]): List of tool calls including tool name and arguments.\n",
    "\n",
    "        Returns:\n",
    "        List[Dict[str, Any]]: List of results from executing the tools.\n",
    "        \"\"\"\n",
    "        tool_results = []\n",
    "        for tool_call in tool_calls:\n",
    "            tool_name = tool_call['name']\n",
    "            tool_output = self.tool_mapping[tool_name](**tool_call['args'])\n",
    "            tool_results.append({'tool_call_id': tool_call['id'], 'name': tool_name, 'content': tool_output})\n",
    "        return tool_results"
   ]
  },
  {
   "cell_type": "code",
   "execution_count": 22,
   "metadata": {},
   "outputs": [
    {
     "name": "stdout",
     "output_type": "stream",
     "text": [
      "\n",
      "\n",
      "<-----\n",
      "Prompt being sent to the LLM API:\n",
      "System: You are an AI assistant specialized in providing detailed information from the \n",
      "Ben Uri Gallery and Museum database. Your task is to use the 'search_ben_uri_gallery_and_museum' \n",
      "function to help users—students, researchers, academics, critics, art market professionals, and \n",
      "collectors find accurate content and answers related to Jewish, Refugee, and Immigrant contributions \n",
      "to British visual culture. If you are not sure whether you should use the tool or respond based on \n",
      "your internal knowledge, ask for further clarification.\n",
      "Conversation context:\n",
      "Human: Hi there, my name is Luis. What's yours?\n",
      "----->\n",
      "\n",
      "\n",
      "content=\"Hello Luis! I'm an AI assistant here to help you with information related to the Ben Uri Gallery and Museum. How can I assist you today?\" response_metadata={'token_usage': {'completion_tokens': 30, 'prompt_tokens': 440, 'total_tokens': 470}, 'model_name': 'gpt-4o-2024-05-13', 'system_fingerprint': 'fp_d33f7b429e', 'finish_reason': 'stop', 'logprobs': None} id='run-37a44547-5271-41bb-bca0-847ab6d48be9-0' usage_metadata={'input_tokens': 440, 'output_tokens': 30, 'total_tokens': 470}\n",
      "\n",
      "\n",
      "<-----\n",
      "Prompt being sent to the LLM API:\n",
      "System: You are an AI assistant specialized in providing detailed information from the \n",
      "Ben Uri Gallery and Museum database. Your task is to use the 'search_ben_uri_gallery_and_museum' \n",
      "function to help users—students, researchers, academics, critics, art market professionals, and \n",
      "collectors find accurate content and answers related to Jewish, Refugee, and Immigrant contributions \n",
      "to British visual culture. If you are not sure whether you should use the tool or respond based on \n",
      "your internal knowledge, ask for further clarification.\n",
      "Conversation context:\n",
      "Human: Hi there, my name is Luis. What's yours?\n",
      "AI: Hello Luis! I'm an AI assistant here to help you with information related to the Ben Uri Gallery and Museum. How can I assist you today?\n",
      "Human: tell me the most famous painting of the Jewish peoplewhat are contributions of Refugee to British visual culture?\n",
      "----->\n",
      "\n",
      "\n",
      "\n",
      "\n",
      "<-----\n",
      "Prompt being sent to the LLM API:\n",
      "Human: Hi there, my name is Luis. What's yours?\n",
      "AI: Hello Luis! I'm an AI assistant here to help you with information related to the Ben Uri Gallery and Museum. How can I assist you today?\n",
      "Human: tell me the most famous painting of the Jewish peoplewhat are contributions of Refugee to British visual culture?\n",
      "AI: It looks like you have two questions here. To provide you with the most accurate and detailed information, I will perform searches related to each query.\n",
      "\n",
      "1. The most famous painting of the Jewish people.\n",
      "2. Contributions of refugees to British visual culture.\n",
      "\n",
      "I'll start by searching the Ben Uri Gallery and Museum database for information on these topics. Please hold on for a moment while I gather the information.\n",
      "Tool: No good information was found in Ben Uri gallery & museum\n",
      "Tool: No good information was found in Ben Uri gallery & museum\n",
      "----->\n",
      "\n",
      "\n",
      "content='It seems I couldn\\'t find specific information directly from the Ben Uri Gallery and Museum database regarding the most famous painting of the Jewish people or the contributions of refugees to British visual culture. However, I can still provide some general insights on these topics.\\n\\n### Most Famous Painting of the Jewish People\\nWhen considering famous paintings related to Jewish culture and history, several works come to mind:\\n\\n1. **\"Marc Chagall\\'s White Crucifixion\"**: This painting is one of Marc Chagall\\'s most famous works and depicts a crucified Jesus surrounded by scenes of Jewish suffering. It is a powerful commentary on the persecution of Jews, particularly during the Holocaust.\\n\\n2. **\"The Ghetto Fighters\" by Samuel Bak**: Samuel Bak is a Holocaust survivor whose works often reflect his experiences and the broader Jewish experience during and after World War II.\\n\\n### Contributions of Refugees to British Visual Culture\\nRefugees have made significant contributions to British visual culture, particularly during the 20th century. Here are a few notable examples:\\n\\n1. **Lucian Freud**: Born in Berlin, Freud fled to Britain in 1933 to escape the rise of the Nazis. He became one of the most important British painters of the 20th century, known for his intense and detailed portraits.\\n\\n2. **Frank Auerbach**: Another refugee from Nazi Germany, Auerbach arrived in Britain in 1939. His expressive and textured paintings have made him a leading figure in British art.\\n\\n3. **Oskar Kokoschka**: An Austrian artist who fled to Britain during World War II, Kokoschka\\'s works have had a lasting impact on British and European art.\\n\\n4. **Ben Uri Gallery and Museum**: The gallery itself was founded by Jewish immigrants and has played a crucial role in promoting the works of Jewish and immigrant artists in Britain.\\n\\nThese artists and institutions have enriched British visual culture with their diverse perspectives and experiences, often reflecting themes of displacement, identity, and resilience.\\n\\nIf you have any more specific questions or need further details, feel free to ask!' response_metadata={'token_usage': {'completion_tokens': 420, 'prompt_tokens': 264, 'total_tokens': 684}, 'model_name': 'gpt-4o-2024-05-13', 'system_fingerprint': 'fp_d33f7b429e', 'finish_reason': 'stop', 'logprobs': None} id='run-bdd726c8-132d-434f-91a0-cdbffe6dec92-0' usage_metadata={'input_tokens': 264, 'output_tokens': 420, 'total_tokens': 684}\n",
      "\n",
      "\n",
      "<-----\n",
      "Prompt being sent to the LLM API:\n",
      "System: You are an AI assistant specialized in providing detailed information from the \n",
      "Ben Uri Gallery and Museum database. Your task is to use the 'search_ben_uri_gallery_and_museum' \n",
      "function to help users—students, researchers, academics, critics, art market professionals, and \n",
      "collectors find accurate content and answers related to Jewish, Refugee, and Immigrant contributions \n",
      "to British visual culture. If you are not sure whether you should use the tool or respond based on \n",
      "your internal knowledge, ask for further clarification.\n",
      "Conversation context:\n",
      "Human: Hi there, my name is Luis. What's yours?\n",
      "AI: Hello Luis! I'm an AI assistant here to help you with information related to the Ben Uri Gallery and Museum. How can I assist you today?\n",
      "Human: tell me the most famous painting of the Jewish peoplewhat are contributions of Refugee to British visual culture?\n",
      "AI: It looks like you have two questions here. To provide you with the most accurate and detailed information, I will perform searches related to each query.\n",
      "\n",
      "1. The most famous painting of the Jewish people.\n",
      "2. Contributions of refugees to British visual culture.\n",
      "\n",
      "I'll start by searching the Ben Uri Gallery and Museum database for information on these topics. Please hold on for a moment while I gather the information.\n",
      "Tool: No good information was found in Ben Uri gallery & museum\n",
      "Tool: No good information was found in Ben Uri gallery & museum\n",
      "AI: It seems I couldn't find specific information directly from the Ben Uri Gallery and Museum database regarding the most famous painting of the Jewish people or the contributions of refugees to British visual culture. However, I can still provide some general insights on these topics.\n",
      "\n",
      "### Most Famous Painting of the Jewish People\n",
      "When considering famous paintings related to Jewish culture and history, several works come to mind:\n",
      "\n",
      "1. **\"Marc Chagall's White Crucifixion\"**: This painting is one of Marc Chagall's most famous works and depicts a crucified Jesus surrounded by scenes of Jewish suffering. It is a powerful commentary on the persecution of Jews, particularly during the Holocaust.\n",
      "\n",
      "2. **\"The Ghetto Fighters\" by Samuel Bak**: Samuel Bak is a Holocaust survivor whose works often reflect his experiences and the broader Jewish experience during and after World War II.\n",
      "\n",
      "### Contributions of Refugees to British Visual Culture\n",
      "Refugees have made significant contributions to British visual culture, particularly during the 20th century. Here are a few notable examples:\n",
      "\n",
      "1. **Lucian Freud**: Born in Berlin, Freud fled to Britain in 1933 to escape the rise of the Nazis. He became one of the most important British painters of the 20th century, known for his intense and detailed portraits.\n",
      "\n",
      "2. **Frank Auerbach**: Another refugee from Nazi Germany, Auerbach arrived in Britain in 1939. His expressive and textured paintings have made him a leading figure in British art.\n",
      "\n",
      "3. **Oskar Kokoschka**: An Austrian artist who fled to Britain during World War II, Kokoschka's works have had a lasting impact on British and European art.\n",
      "\n",
      "4. **Ben Uri Gallery and Museum**: The gallery itself was founded by Jewish immigrants and has played a crucial role in promoting the works of Jewish and immigrant artists in Britain.\n",
      "\n",
      "These artists and institutions have enriched British visual culture with their diverse perspectives and experiences, often reflecting themes of displacement, identity, and resilience.\n",
      "\n",
      "If you have any more specific questions or need further details, feel free to ask!\n",
      "Human: what are the contributors to artificial inteligence?\n",
      "----->\n",
      "\n",
      "\n",
      "content='Artificial Intelligence (AI) is a multidisciplinary field that has seen contributions from a wide array of scientists, researchers, and engineers. Here are some of the key contributors and their contributions to the development of AI:\\n\\n### Early Pioneers\\n1. **Alan Turing**: Often considered the father of computer science and AI, Turing proposed the concept of a \"universal machine\" (the Turing Machine) and the famous Turing Test to measure a machine\\'s ability to exhibit intelligent behavior.\\n\\n2. **John McCarthy**: Coined the term \"Artificial Intelligence\" and was a key figure in the development of AI as a field. He also developed the Lisp programming language, which became a standard in AI research.\\n\\n3. **Marvin Minsky**: Co-founder of the MIT Media Lab and a pioneer in AI, Minsky made significant contributions to the fields of robotics and cognitive psychology.\\n\\n4. **Herbert A. Simon**: A Nobel laureate who made substantial contributions to AI, economics, and cognitive psychology. He co-developed the Logic Theory Machine and the General Problem Solver.\\n\\n5. **Allen Newell**: Worked closely with Herbert Simon and contributed to the development of early AI programs and theories.\\n\\n### Modern Contributors\\n1. **Geoffrey Hinton**: Known as the \"Godfather of Deep Learning,\" Hinton\\'s work on neural networks and backpropagation has been foundational in the development of deep learning algorithms.\\n\\n2. **Yann LeCun**: A pioneer in convolutional neural networks (CNNs), LeCun\\'s work has been crucial for advancements in computer vision and pattern recognition.\\n\\n3. **Andrew Ng**: Co-founder of Google Brain and a leading figure in the field of machine learning and online education. His work has helped popularize and democratize AI.\\n\\n4. **Fei-Fei Li**: Known for her work in computer vision, particularly the ImageNet project, which has been instrumental in advancing object recognition technologies.\\n\\n5. **Stuart Russell**: Co-author of the widely-used textbook \"Artificial Intelligence: A Modern Approach\" and a leading researcher in AI ethics and safety.\\n\\n### Organizations and Institutions\\n1. **DARPA**: The Defense Advanced Research Projects Agency has funded numerous AI research projects, leading to significant advancements in the field.\\n\\n2. **MIT Media Lab**: An interdisciplinary research lab that has been at the forefront of AI research and development.\\n\\n3. **Google DeepMind**: Known for developing AlphaGo, the first AI to' response_metadata={'token_usage': {'completion_tokens': 512, 'prompt_tokens': 1123, 'total_tokens': 1635}, 'model_name': 'gpt-4o-2024-05-13', 'system_fingerprint': 'fp_d33f7b429e', 'finish_reason': 'length', 'logprobs': None} id='run-23b9ef28-a426-46d6-a248-62657f27d41d-0' usage_metadata={'input_tokens': 1123, 'output_tokens': 512, 'total_tokens': 1635}\n"
     ]
    }
   ],
   "source": [
    "# Example\n",
    "\n",
    "system_message = \"\"\"You are an AI assistant specialized in providing detailed information from the \n",
    "Ben Uri Gallery and Museum database. Your task is to use the 'search_ben_uri_gallery_and_museum' \n",
    "function to help users—students, researchers, academics, critics, art market professionals, and \n",
    "collectors find accurate content and answers related to Jewish, Refugee, and Immigrant contributions \n",
    "to British visual culture. If you are not sure whether you should use the tool or respond based on \n",
    "your internal knowledge, ask for further clarification.\"\"\"\n",
    "\n",
    "chatbot = ConversationChain(llm=llm, tools=tools, system_message=system_message)\n",
    "\n",
    "user_inputs = [\n",
    "    \"Hi there, my name is Luis. What's yours?\",\n",
    "    \"tell me the most famous painting of the Jewish people\"\n",
    "    \"what are contributions of Refugee to British visual culture?\",\n",
    "    \"what are the contributors to artificial inteligence?\"\n",
    "]\n",
    "\n",
    "for user_input in user_inputs:\n",
    "    ai_answer = chatbot.invoke(user_input)\n",
    "    print(ai_answer)"
   ]
  },
  {
   "cell_type": "code",
   "execution_count": 23,
   "metadata": {},
   "outputs": [
    {
     "data": {
      "text/html": [
       "<style type=\"text/css\">\n",
       "#T_36e18_row0_col0, #T_36e18_row0_col1, #T_36e18_row2_col0, #T_36e18_row2_col1, #T_36e18_row7_col0, #T_36e18_row7_col1 {\n",
       "  background-color: black;\n",
       "}\n",
       "#T_36e18_row1_col0, #T_36e18_row1_col1, #T_36e18_row3_col0, #T_36e18_row3_col1, #T_36e18_row6_col0, #T_36e18_row6_col1, #T_36e18_row8_col0, #T_36e18_row8_col1 {\n",
       "  background-color: green;\n",
       "}\n",
       "#T_36e18_row4_col0, #T_36e18_row4_col1, #T_36e18_row5_col0, #T_36e18_row5_col1 {\n",
       "  background-color: gray;\n",
       "}\n",
       "</style>\n",
       "<table id=\"T_36e18\">\n",
       "  <thead>\n",
       "    <tr>\n",
       "      <th class=\"blank level0\" >&nbsp;</th>\n",
       "      <th id=\"T_36e18_level0_col0\" class=\"col_heading level0 col0\" >role</th>\n",
       "      <th id=\"T_36e18_level0_col1\" class=\"col_heading level0 col1\" >message</th>\n",
       "    </tr>\n",
       "  </thead>\n",
       "  <tbody>\n",
       "    <tr>\n",
       "      <th id=\"T_36e18_level0_row0\" class=\"row_heading level0 row0\" >0</th>\n",
       "      <td id=\"T_36e18_row0_col0\" class=\"data row0 col0\" >Human</td>\n",
       "      <td id=\"T_36e18_row0_col1\" class=\"data row0 col1\" >Hi there, my name is Luis. What's yours?</td>\n",
       "    </tr>\n",
       "    <tr>\n",
       "      <th id=\"T_36e18_level0_row1\" class=\"row_heading level0 row1\" >1</th>\n",
       "      <td id=\"T_36e18_row1_col0\" class=\"data row1 col0\" >AI</td>\n",
       "      <td id=\"T_36e18_row1_col1\" class=\"data row1 col1\" >Hello Luis! I'm an AI assistant here to help you with information related to the Ben Uri Gallery and Museum. How can I assist you today?</td>\n",
       "    </tr>\n",
       "    <tr>\n",
       "      <th id=\"T_36e18_level0_row2\" class=\"row_heading level0 row2\" >2</th>\n",
       "      <td id=\"T_36e18_row2_col0\" class=\"data row2 col0\" >Human</td>\n",
       "      <td id=\"T_36e18_row2_col1\" class=\"data row2 col1\" >tell me the most famous painting of the Jewish peoplewhat are contributions of Refugee to British visual culture?</td>\n",
       "    </tr>\n",
       "    <tr>\n",
       "      <th id=\"T_36e18_level0_row3\" class=\"row_heading level0 row3\" >3</th>\n",
       "      <td id=\"T_36e18_row3_col0\" class=\"data row3 col0\" >AI</td>\n",
       "      <td id=\"T_36e18_row3_col1\" class=\"data row3 col1\" >It looks like you have two questions here. To provide you with the most accurate and detailed information, I will perform searches related to each query.\n",
       "\n",
       "1. The most famous painting of the Jewish people.\n",
       "2. Contributions of refugees to British visual culture.\n",
       "\n",
       "I'll start by searching the Ben Uri Gallery and Museum database for information on these topics. Please hold on for a moment while I gather the information.</td>\n",
       "    </tr>\n",
       "    <tr>\n",
       "      <th id=\"T_36e18_level0_row4\" class=\"row_heading level0 row4\" >4</th>\n",
       "      <td id=\"T_36e18_row4_col0\" class=\"data row4 col0\" >Tool</td>\n",
       "      <td id=\"T_36e18_row4_col1\" class=\"data row4 col1\" >No good information was found in Ben Uri gallery & museum</td>\n",
       "    </tr>\n",
       "    <tr>\n",
       "      <th id=\"T_36e18_level0_row5\" class=\"row_heading level0 row5\" >5</th>\n",
       "      <td id=\"T_36e18_row5_col0\" class=\"data row5 col0\" >Tool</td>\n",
       "      <td id=\"T_36e18_row5_col1\" class=\"data row5 col1\" >No good information was found in Ben Uri gallery & museum</td>\n",
       "    </tr>\n",
       "    <tr>\n",
       "      <th id=\"T_36e18_level0_row6\" class=\"row_heading level0 row6\" >6</th>\n",
       "      <td id=\"T_36e18_row6_col0\" class=\"data row6 col0\" >AI</td>\n",
       "      <td id=\"T_36e18_row6_col1\" class=\"data row6 col1\" >It seems I couldn't find specific information directly from the Ben Uri Gallery and Museum database regarding the most famous painting of the Jewish people or the contributions of refugees to British visual culture. However, I can still provide some general insights on these topics.\n",
       "\n",
       "### Most Famous Painting of the Jewish People\n",
       "When considering famous paintings related to Jewish culture and history, several works come to mind:\n",
       "\n",
       "1. **\"Marc Chagall's White Crucifixion\"**: This painting is one of Marc Chagall's most famous works and depicts a crucified Jesus surrounded by scenes of Jewish suffering. It is a powerful commentary on the persecution of Jews, particularly during the Holocaust.\n",
       "\n",
       "2. **\"The Ghetto Fighters\" by Samuel Bak**: Samuel Bak is a Holocaust survivor whose works often reflect his experiences and the broader Jewish experience during and after World War II.\n",
       "\n",
       "### Contributions of Refugees to British Visual Culture\n",
       "Refugees have made significant contributions to British visual culture, particularly during the 20th century. Here are a few notable examples:\n",
       "\n",
       "1. **Lucian Freud**: Born in Berlin, Freud fled to Britain in 1933 to escape the rise of the Nazis. He became one of the most important British painters of the 20th century, known for his intense and detailed portraits.\n",
       "\n",
       "2. **Frank Auerbach**: Another refugee from Nazi Germany, Auerbach arrived in Britain in 1939. His expressive and textured paintings have made him a leading figure in British art.\n",
       "\n",
       "3. **Oskar Kokoschka**: An Austrian artist who fled to Britain during World War II, Kokoschka's works have had a lasting impact on British and European art.\n",
       "\n",
       "4. **Ben Uri Gallery and Museum**: The gallery itself was founded by Jewish immigrants and has played a crucial role in promoting the works of Jewish and immigrant artists in Britain.\n",
       "\n",
       "These artists and institutions have enriched British visual culture with their diverse perspectives and experiences, often reflecting themes of displacement, identity, and resilience.\n",
       "\n",
       "If you have any more specific questions or need further details, feel free to ask!</td>\n",
       "    </tr>\n",
       "    <tr>\n",
       "      <th id=\"T_36e18_level0_row7\" class=\"row_heading level0 row7\" >7</th>\n",
       "      <td id=\"T_36e18_row7_col0\" class=\"data row7 col0\" >Human</td>\n",
       "      <td id=\"T_36e18_row7_col1\" class=\"data row7 col1\" >what are the contributors to artificial inteligence?</td>\n",
       "    </tr>\n",
       "    <tr>\n",
       "      <th id=\"T_36e18_level0_row8\" class=\"row_heading level0 row8\" >8</th>\n",
       "      <td id=\"T_36e18_row8_col0\" class=\"data row8 col0\" >AI</td>\n",
       "      <td id=\"T_36e18_row8_col1\" class=\"data row8 col1\" >Artificial Intelligence (AI) is a multidisciplinary field that has seen contributions from a wide array of scientists, researchers, and engineers. Here are some of the key contributors and their contributions to the development of AI:\n",
       "\n",
       "### Early Pioneers\n",
       "1. **Alan Turing**: Often considered the father of computer science and AI, Turing proposed the concept of a \"universal machine\" (the Turing Machine) and the famous Turing Test to measure a machine's ability to exhibit intelligent behavior.\n",
       "\n",
       "2. **John McCarthy**: Coined the term \"Artificial Intelligence\" and was a key figure in the development of AI as a field. He also developed the Lisp programming language, which became a standard in AI research.\n",
       "\n",
       "3. **Marvin Minsky**: Co-founder of the MIT Media Lab and a pioneer in AI, Minsky made significant contributions to the fields of robotics and cognitive psychology.\n",
       "\n",
       "4. **Herbert A. Simon**: A Nobel laureate who made substantial contributions to AI, economics, and cognitive psychology. He co-developed the Logic Theory Machine and the General Problem Solver.\n",
       "\n",
       "5. **Allen Newell**: Worked closely with Herbert Simon and contributed to the development of early AI programs and theories.\n",
       "\n",
       "### Modern Contributors\n",
       "1. **Geoffrey Hinton**: Known as the \"Godfather of Deep Learning,\" Hinton's work on neural networks and backpropagation has been foundational in the development of deep learning algorithms.\n",
       "\n",
       "2. **Yann LeCun**: A pioneer in convolutional neural networks (CNNs), LeCun's work has been crucial for advancements in computer vision and pattern recognition.\n",
       "\n",
       "3. **Andrew Ng**: Co-founder of Google Brain and a leading figure in the field of machine learning and online education. His work has helped popularize and democratize AI.\n",
       "\n",
       "4. **Fei-Fei Li**: Known for her work in computer vision, particularly the ImageNet project, which has been instrumental in advancing object recognition technologies.\n",
       "\n",
       "5. **Stuart Russell**: Co-author of the widely-used textbook \"Artificial Intelligence: A Modern Approach\" and a leading researcher in AI ethics and safety.\n",
       "\n",
       "### Organizations and Institutions\n",
       "1. **DARPA**: The Defense Advanced Research Projects Agency has funded numerous AI research projects, leading to significant advancements in the field.\n",
       "\n",
       "2. **MIT Media Lab**: An interdisciplinary research lab that has been at the forefront of AI research and development.\n",
       "\n",
       "3. **Google DeepMind**: Known for developing AlphaGo, the first AI to</td>\n",
       "    </tr>\n",
       "  </tbody>\n",
       "</table>\n"
      ],
      "text/plain": [
       "<pandas.io.formats.style.Styler at 0x1e20c107770>"
      ]
     },
     "execution_count": 23,
     "metadata": {},
     "output_type": "execute_result"
    }
   ],
   "source": [
    "# Example\n",
    "\n",
    "import pandas as pd\n",
    "\n",
    "from langchain_core.messages import ToolMessage\n",
    "from langchain_core.messages.ai import AIMessage\n",
    "from langchain_core.messages.human import HumanMessage\n",
    "\n",
    "chat_messages = chatbot.memory.chat_memory.messages.copy()\n",
    "\n",
    "def get_role(message):\n",
    "    if isinstance(message, HumanMessage):\n",
    "        return 'Human'\n",
    "    elif isinstance(message, AIMessage):\n",
    "        return 'AI'\n",
    "    elif isinstance(message, ToolMessage):\n",
    "        return 'Tool'\n",
    "    else:\n",
    "        return 'Unkown'\n",
    "\n",
    "def get_content(message):\n",
    "    if message.content:\n",
    "        return message.content\n",
    "    else:\n",
    "        return message.tool_calls\n",
    "\n",
    "role = []\n",
    "message = []\n",
    "for chat_message in chat_messages:\n",
    "    role.append(get_role(chat_message))\n",
    "    message.append(get_content(chat_message))\n",
    "data = {'role': role, 'message': message}\n",
    "\n",
    "\n",
    "def highlight_max(row):\n",
    "    is_ai = max(row == 'AI')\n",
    "    is_tool = max(row == 'Tool')\n",
    "    if is_ai:\n",
    "        color = \"green\"\n",
    "    elif is_tool:\n",
    "        color = \"gray\"\n",
    "    else:\n",
    "        color = \"black\"\n",
    "    return [f\"background-color: {color}\" for cel in row]\n",
    "\n",
    "\n",
    "chat_history_formatted = (\n",
    "    pd.DataFrame(data)\n",
    "    .style.apply(highlight_max, axis=1)\n",
    ")\n",
    "\n",
    "chat_history_formatted"
   ]
  },
  {
   "cell_type": "markdown",
   "metadata": {},
   "source": [
    "# 2. Create an Agent via Built-in Methods\n",
    "Allowing the LLM to reason and use tools how many times it thinks that is necessary."
   ]
  },
  {
   "cell_type": "markdown",
   "metadata": {},
   "source": [
    "## 2.1. Create an OpenAI Tools Agent"
   ]
  },
  {
   "cell_type": "code",
   "execution_count": 24,
   "metadata": {},
   "outputs": [],
   "source": [
    "# Define a prompt template\n",
    "\n",
    "from langchain.prompts import (\n",
    "    ChatPromptTemplate,\n",
    "    SystemMessagePromptTemplate,\n",
    "    MessagesPlaceholder,\n",
    "    HumanMessagePromptTemplate\n",
    ")\n",
    "\n",
    "system_message = \"\"\"You are an AI assistant specialized in providing detailed information from the \\\n",
    "Ben Uri Gallery and Museum database. Your task is to use the 'search_ben_uri_gallery_and_museum' \\\n",
    "function to help users—students, researchers, academics, critics, art market professionals, and \\\n",
    "collectors find accurate content and answers related to Jewish, Refugee, and Immigrant contributions \\\n",
    "to British visual culture. If you are not sure whether you should use the tool or respond based on \\\n",
    "your internal knowledge, ask for further clarification.\"\"\"\n",
    "\n",
    "prompt = ChatPromptTemplate(\n",
    "    messages=[\n",
    "        SystemMessagePromptTemplate.from_template(\n",
    "            f\"\"\"{system_message}\\nConversation context:\"\"\"\n",
    "        ),\n",
    "        MessagesPlaceholder(variable_name=\"chat_history\", optional=True),\n",
    "        HumanMessagePromptTemplate.from_template(\"{input}\"),\n",
    "        MessagesPlaceholder(variable_name=\"agent_scratchpad\"),\n",
    "    ]\n",
    ")"
   ]
  },
  {
   "cell_type": "code",
   "execution_count": 25,
   "metadata": {},
   "outputs": [],
   "source": [
    "# Instantiate a agent and agent executor\n",
    "\n",
    "from langchain.agents import AgentExecutor, create_openai_tools_agent\n",
    "\n",
    "agent = create_openai_tools_agent(llm, tools, prompt)\n",
    "\n",
    "verbose = True\n",
    "\n",
    "agent_executor = AgentExecutor(agent=agent, tools=tools, verbose=verbose)\n"
   ]
  },
  {
   "cell_type": "code",
   "execution_count": 26,
   "metadata": {},
   "outputs": [
    {
     "name": "stdout",
     "output_type": "stream",
     "text": [
      "\n",
      "\n",
      "\u001b[1m> Entering new AgentExecutor chain...\u001b[0m\n",
      "\n",
      "\n",
      "<-----\n",
      "Prompt being sent to the LLM API:\n",
      "System: You are an AI assistant specialized in providing detailed information from the Ben Uri Gallery and Museum database. Your task is to use the 'search_ben_uri_gallery_and_museum' function to help users—students, researchers, academics, critics, art market professionals, and collectors find accurate content and answers related to Jewish, Refugee, and Immigrant contributions to British visual culture. If you are not sure whether you should use the tool or respond based on your internal knowledge, ask for further clarification.\n",
      "Conversation context:\n",
      "Human: tell me the most famous painting of the Jewish people\n",
      "----->\n",
      "\n",
      "\n",
      "\u001b[32;1m\u001b[1;3mThe concept of the \"most famous painting of the Jewish people\" can be interpreted in various ways, as it could refer to artworks that depict Jewish life, culture, or history, or works created by Jewish artists. To provide a comprehensive answer, I can search both the Ben Uri Gallery and Museum for relevant artworks and Wikipedia for general information.\n",
      "\n",
      "Would you like me to proceed with this approach?\u001b[0m\n",
      "\n",
      "\u001b[1m> Finished chain.\u001b[0m\n"
     ]
    },
    {
     "data": {
      "text/plain": [
       "{'input': 'tell me the most famous painting of the Jewish people',\n",
       " 'output': 'The concept of the \"most famous painting of the Jewish people\" can be interpreted in various ways, as it could refer to artworks that depict Jewish life, culture, or history, or works created by Jewish artists. To provide a comprehensive answer, I can search both the Ben Uri Gallery and Museum for relevant artworks and Wikipedia for general information.\\n\\nWould you like me to proceed with this approach?'}"
      ]
     },
     "execution_count": 26,
     "metadata": {},
     "output_type": "execute_result"
    }
   ],
   "source": [
    "# Example\n",
    "\n",
    "agent_executor.invoke(\n",
    "    {\n",
    "        \"input\": \"tell me the most famous painting of the Jewish people\"\n",
    "    }\n",
    ")\n"
   ]
  },
  {
   "cell_type": "code",
   "execution_count": 27,
   "metadata": {},
   "outputs": [
    {
     "name": "stdout",
     "output_type": "stream",
     "text": [
      "\n",
      "\n",
      "\u001b[1m> Entering new AgentExecutor chain...\u001b[0m\n",
      "\n",
      "\n",
      "<-----\n",
      "Prompt being sent to the LLM API:\n",
      "System: You are an AI assistant specialized in providing detailed information from the Ben Uri Gallery and Museum database. Your task is to use the 'search_ben_uri_gallery_and_museum' function to help users—students, researchers, academics, critics, art market professionals, and collectors find accurate content and answers related to Jewish, Refugee, and Immigrant contributions to British visual culture. If you are not sure whether you should use the tool or respond based on your internal knowledge, ask for further clarification.\n",
      "Conversation context:\n",
      "Human: Human: Hi there, my name is Luis!\n",
      "Human: AI: Nice to meet you Luis! How can I assist you?\n",
      "Human: Do you remember my name?\n",
      "----->\n",
      "\n",
      "\n",
      "\u001b[32;1m\u001b[1;3mYes, your name is Luis. How can I assist you today?\u001b[0m\n",
      "\n",
      "\u001b[1m> Finished chain.\u001b[0m\n"
     ]
    },
    {
     "data": {
      "text/plain": [
       "{'chat_history': ['Human: Hi there, my name is Luis!',\n",
       "  'AI: Nice to meet you Luis! How can I assist you?'],\n",
       " 'input': 'Do you remember my name?',\n",
       " 'output': 'Yes, your name is Luis. How can I assist you today?'}"
      ]
     },
     "execution_count": 27,
     "metadata": {},
     "output_type": "execute_result"
    }
   ],
   "source": [
    "# Example\n",
    "\n",
    "agent_executor.invoke(\n",
    "    {\n",
    "        \"chat_history\": [\n",
    "            \"Human: Hi there, my name is Luis!\",\n",
    "            \"AI: Nice to meet you Luis! How can I assist you?\"\n",
    "        ],\n",
    "        \"input\": \"Do you remember my name?\"\n",
    "    }\n",
    ")\n"
   ]
  },
  {
   "cell_type": "markdown",
   "metadata": {},
   "source": [
    "**WARNING**: The AI message is wrongly sent as a Human message in this approach."
   ]
  },
  {
   "cell_type": "code",
   "execution_count": 28,
   "metadata": {},
   "outputs": [],
   "source": [
    "# Instantiate a Runnable to automatically manage memory\n",
    "\n",
    "from langchain.memory import ChatMessageHistory\n",
    "from langchain_core.runnables.history import RunnableWithMessageHistory\n",
    "from langchain_core.runnables import ConfigurableFieldSpec\n",
    "\n",
    "memory_storage = {}\n",
    "\n",
    "def get_memory(user_id: str, chat_id: str) -> ChatMessageHistory:\n",
    "    if (user_id, chat_id) not in memory_storage:\n",
    "        memory_storage[(user_id, chat_id)] = ChatMessageHistory()\n",
    "    return memory_storage[(user_id, chat_id)]\n",
    "\n",
    "history_factory_config = [\n",
    "    ConfigurableFieldSpec(\n",
    "        id=\"user_id\",\n",
    "        annotation=str,\n",
    "        name=\"User ID\",\n",
    "        description=\"Unique identifier for an user.\",\n",
    "        default=\"\",\n",
    "        is_shared=True,\n",
    "    ),\n",
    "    ConfigurableFieldSpec(\n",
    "        id=\"chat_id\",\n",
    "        annotation=str,\n",
    "        name=\"Chat ID\",\n",
    "        description=\"Unique identifier for a chat.\",\n",
    "        default=\"\",\n",
    "        is_shared=True,\n",
    "    )\n",
    "]\n",
    "\n",
    "chat_agent_executor = RunnableWithMessageHistory(\n",
    "    agent_executor,\n",
    "    get_memory,\n",
    "    input_messages_key=\"input\",\n",
    "    history_messages_key=\"chat_history\",\n",
    "    history_factory_config=history_factory_config\n",
    ")"
   ]
  },
  {
   "cell_type": "code",
   "execution_count": 29,
   "metadata": {},
   "outputs": [
    {
     "name": "stdout",
     "output_type": "stream",
     "text": [
      "\n",
      "\n",
      "\u001b[1m> Entering new AgentExecutor chain...\u001b[0m\n",
      "\n",
      "\n",
      "<-----\n",
      "Prompt being sent to the LLM API:\n",
      "System: You are an AI assistant specialized in providing detailed information from the Ben Uri Gallery and Museum database. Your task is to use the 'search_ben_uri_gallery_and_museum' function to help users—students, researchers, academics, critics, art market professionals, and collectors find accurate content and answers related to Jewish, Refugee, and Immigrant contributions to British visual culture. If you are not sure whether you should use the tool or respond based on your internal knowledge, ask for further clarification.\n",
      "Conversation context:\n",
      "Human: Hi there, my name is Luis!\n",
      "----->\n",
      "\n",
      "\n",
      "\u001b[32;1m\u001b[1;3mHello, Luis! How can I assist you today? Are you looking for information related to Jewish, Refugee, and Immigrant contributions to British visual culture?\u001b[0m\n",
      "\n",
      "\u001b[1m> Finished chain.\u001b[0m\n",
      "\n",
      "\n",
      "\u001b[1m> Entering new AgentExecutor chain...\u001b[0m\n",
      "\n",
      "\n",
      "<-----\n",
      "Prompt being sent to the LLM API:\n",
      "System: You are an AI assistant specialized in providing detailed information from the Ben Uri Gallery and Museum database. Your task is to use the 'search_ben_uri_gallery_and_museum' function to help users—students, researchers, academics, critics, art market professionals, and collectors find accurate content and answers related to Jewish, Refugee, and Immigrant contributions to British visual culture. If you are not sure whether you should use the tool or respond based on your internal knowledge, ask for further clarification.\n",
      "Conversation context:\n",
      "Human: Hi there, my name is Luis!\n",
      "AI: Hello, Luis! How can I assist you today? Are you looking for information related to Jewish, Refugee, and Immigrant contributions to British visual culture?\n",
      "Human: Do you remember my name?\n",
      "----->\n",
      "\n",
      "\n",
      "\u001b[32;1m\u001b[1;3mYes, your name is Luis! How can I assist you today?\u001b[0m\n",
      "\n",
      "\u001b[1m> Finished chain.\u001b[0m\n"
     ]
    }
   ],
   "source": [
    "# Example\n",
    "\n",
    "user_id = '123'\n",
    "chat_id = '001'\n",
    "user_inputs = [\n",
    "    \"Hi there, my name is Luis!\",\n",
    "    \"Do you remember my name?\"\n",
    "]\n",
    "\n",
    "for input in user_inputs:\n",
    "    chat_agent_executor.invoke(\n",
    "        {'input': input},\n",
    "        config={\n",
    "            'configurable': {'user_id': user_id, 'chat_id': chat_id}\n",
    "        }\n",
    "    )"
   ]
  },
  {
   "cell_type": "code",
   "execution_count": 30,
   "metadata": {},
   "outputs": [
    {
     "name": "stdout",
     "output_type": "stream",
     "text": [
      "\n",
      "\n",
      "\u001b[1m> Entering new AgentExecutor chain...\u001b[0m\n",
      "\n",
      "\n",
      "<-----\n",
      "Prompt being sent to the LLM API:\n",
      "System: You are an AI assistant specialized in providing detailed information from the Ben Uri Gallery and Museum database. Your task is to use the 'search_ben_uri_gallery_and_museum' function to help users—students, researchers, academics, critics, art market professionals, and collectors find accurate content and answers related to Jewish, Refugee, and Immigrant contributions to British visual culture. If you are not sure whether you should use the tool or respond based on your internal knowledge, ask for further clarification.\n",
      "Conversation context:\n",
      "Human: tell me the most famous painting of the Jewish peoplewhat are contributions of Refugee to British visual culture?\n",
      "----->\n",
      "\n",
      "\n",
      "\u001b[32;1m\u001b[1;3m\n",
      "Invoking: `search_ben_uri_gallery_and_museum` with `{'query': 'most famous painting of the Jewish people'}`\n",
      "\n",
      "\n",
      "\u001b[0m\u001b[33;1m\u001b[1;3mNo good information was found in Ben Uri gallery & museum\u001b[0m\u001b[32;1m\u001b[1;3m\n",
      "Invoking: `search_ben_uri_gallery_and_museum` with `{'query': 'contributions of Refugee to British visual culture'}`\n",
      "\n",
      "\n",
      "\u001b[0m\u001b[33;1m\u001b[1;3mNo good information was found in Ben Uri gallery & museum\u001b[0m\n",
      "\n",
      "<-----\n",
      "Prompt being sent to the LLM API:\n",
      "System: You are an AI assistant specialized in providing detailed information from the Ben Uri Gallery and Museum database. Your task is to use the 'search_ben_uri_gallery_and_museum' function to help users—students, researchers, academics, critics, art market professionals, and collectors find accurate content and answers related to Jewish, Refugee, and Immigrant contributions to British visual culture. If you are not sure whether you should use the tool or respond based on your internal knowledge, ask for further clarification.\n",
      "Conversation context:\n",
      "Human: tell me the most famous painting of the Jewish peoplewhat are contributions of Refugee to British visual culture?\n",
      "AI: \n",
      "Tool: No good information was found in Ben Uri gallery & museum\n",
      "Tool: No good information was found in Ben Uri gallery & museum\n",
      "----->\n",
      "\n",
      "\n",
      "\u001b[32;1m\u001b[1;3mIt appears that there were no specific results found in the Ben Uri Gallery and Museum database for the queries \"most famous painting of the Jewish people\" and \"contributions of Refugees to British visual culture.\"\n",
      "\n",
      "Would you like me to try searching for this information on Wikipedia instead, or is there another specific aspect you are interested in exploring?\u001b[0m\n",
      "\n",
      "\u001b[1m> Finished chain.\u001b[0m\n"
     ]
    }
   ],
   "source": [
    "# Example \n",
    "\n",
    "user_id = '123'\n",
    "chat_id = '002'\n",
    "user_inputs = [\n",
    "    \"tell me the most famous painting of the Jewish people\"\n",
    "    \"what are contributions of Refugee to British visual culture?\",\n",
    "]\n",
    "\n",
    "for input in user_inputs:\n",
    "    chat_agent_executor.invoke(\n",
    "        {'input': input},\n",
    "        config={\n",
    "            'configurable': {'user_id': user_id, 'chat_id': chat_id}\n",
    "        }\n",
    "    )"
   ]
  },
  {
   "cell_type": "code",
   "execution_count": 31,
   "metadata": {},
   "outputs": [
    {
     "name": "stdout",
     "output_type": "stream",
     "text": [
      "\n",
      "\n",
      "\u001b[1m> Entering new AgentExecutor chain...\u001b[0m\n",
      "\n",
      "\n",
      "<-----\n",
      "Prompt being sent to the LLM API:\n",
      "System: You are an AI assistant specialized in providing detailed information from the Ben Uri Gallery and Museum database. Your task is to use the 'search_ben_uri_gallery_and_museum' function to help users—students, researchers, academics, critics, art market professionals, and collectors find accurate content and answers related to Jewish, Refugee, and Immigrant contributions to British visual culture. If you are not sure whether you should use the tool or respond based on your internal knowledge, ask for further clarification.\n",
      "Conversation context:\n",
      "Human: Hi, what are the contributors to artificial inteligence?\n",
      "----->\n",
      "\n",
      "\n",
      "\u001b[32;1m\u001b[1;3m\n",
      "Invoking: `search_wikipedia` with `{'query': 'Contributors to artificial intelligence'}`\n",
      "\n",
      "\n",
      "\u001b[0m\u001b[36;1m\u001b[1;3mPage: Technological singularity\n",
      "Summary: The technological singularity—or simply the singularity—is a hypothetical future point in time at which technological growth becomes uncontrollable and irreversible, resulting in unforeseeable consequences for human civilization. According to the most popular version of the singularity hypothesis, I. J. Good's intelligence explosion model of 1965, an upgradable intelligent agent could eventually enter a positive feedback loop of self-improvement cycles, each new and more intelligent generation appearing more and more rapidly, causing a rapid increase (\"explosion\") in intelligence which would ultimately result in a powerful superintelligence, qualitatively far surpassing all human intelligence.\n",
      "The Hungarian-American mathematician John von Neumann (1903-1957) became the first known person to use the concept of a \"singularity\" in the technological context. Stanislaw Ulam reported in 1958 an earlier discussion with von Neumann \"centered on the accelerating progress of technology and changes in the mode of human life, which gives the appearance of approaching some essential singularity in the history of the race beyond which human affairs, as we know them, could not continue\". Subsequent authors have echoed this viewpoint.\n",
      "The concept and the term \"singularity\" were popularized by Vernor Vinge – first in 1983 (in an article that claimed that once humans create intelligences greater than their own, there will be a technological and social transition similar in some sense to \"the knotted space-time at the center of a black hole\",) and later in his 1993 essay The Coming Technological Singularity, (in which he wrote that it would signal the end of the human era, as the new superintelligence would continue to upgrade itself and would advance technologically at an incomprehensible rate). He wrote that he would be surprised if it occurred before 2005 or after 2030. Another significant contributor to wider circulation of the notion was Ray Kurzweil's 2005 book The Singularity Is Near, predicting singularity by 2045.\n",
      "Some scientists, including Stephen Hawking, have expressed concern that artificial superintelligence (ASI) could result in human extinction. The consequences of a technological singularity and its potential benefit or harm to the human race have been intensely debated.\n",
      "Some prominent technologists and academics – including Paul Allen, Jeff Hawkins, John Holland, Jaron Lanier, Steven Pinker, Theodore Modis, and Gordon Moore – dispute the plausibility of a technological singularity and an associated artificial-intelligence explosion. One claim made was that the artificial-intelligence growth is likely to run into decreasing returns instead of accelerating ones, as was observed in previously developed human technologies.\n",
      "\n",
      "Page: LAION\n",
      "Summary: LAION (acronym for Large-scale Artificial Intelligence Open Network) is a German non-profit which makes open-sourced artificial intelligence models and datasets. It is best known for releasing a number of large datasets of images and captions scraped from the web which have been used to train a number of high-profile text-to-image models, including Stable Diffusion and Imagen.\n",
      "In February 2023, LAION was named in the Getty Images lawsuit against Stable Diffusion as a non-party. In April 2023, LAION was directly sued by a German photographer who wanted to have his images removed from the training set.\n",
      "On April 15, 2023, LAION and contributors released to public an open source AI assistant chatbot OpenAssistant.\n",
      "\n",
      "Page: Quantum Artificial Intelligence Lab\n",
      "Summary: The Quantum Artificial Intelligence Lab (also called the Quantum AI Lab or QuAIL) is a joint initiative of NASA, Universities Space Research Association, and Google (specifically, Google Research) whose goal is to pioneer research on how quantum computing might help with machine learning and other difficult computer science problems. The lab is hosted at NASA's Ames Research Center.\u001b[0m\n",
      "\n",
      "<-----\n",
      "Prompt being sent to the LLM API:\n",
      "System: You are an AI assistant specialized in providing detailed information from the Ben Uri Gallery and Museum database. Your task is to use the 'search_ben_uri_gallery_and_museum' function to help users—students, researchers, academics, critics, art market professionals, and collectors find accurate content and answers related to Jewish, Refugee, and Immigrant contributions to British visual culture. If you are not sure whether you should use the tool or respond based on your internal knowledge, ask for further clarification.\n",
      "Conversation context:\n",
      "Human: Hi, what are the contributors to artificial inteligence?\n",
      "AI: \n",
      "Tool: Page: Technological singularity\n",
      "Summary: The technological singularity—or simply the singularity—is a hypothetical future point in time at which technological growth becomes uncontrollable and irreversible, resulting in unforeseeable consequences for human civilization. According to the most popular version of the singularity hypothesis, I. J. Good's intelligence explosion model of 1965, an upgradable intelligent agent could eventually enter a positive feedback loop of self-improvement cycles, each new and more intelligent generation appearing more and more rapidly, causing a rapid increase (\"explosion\") in intelligence which would ultimately result in a powerful superintelligence, qualitatively far surpassing all human intelligence.\n",
      "The Hungarian-American mathematician John von Neumann (1903-1957) became the first known person to use the concept of a \"singularity\" in the technological context. Stanislaw Ulam reported in 1958 an earlier discussion with von Neumann \"centered on the accelerating progress of technology and changes in the mode of human life, which gives the appearance of approaching some essential singularity in the history of the race beyond which human affairs, as we know them, could not continue\". Subsequent authors have echoed this viewpoint.\n",
      "The concept and the term \"singularity\" were popularized by Vernor Vinge – first in 1983 (in an article that claimed that once humans create intelligences greater than their own, there will be a technological and social transition similar in some sense to \"the knotted space-time at the center of a black hole\",) and later in his 1993 essay The Coming Technological Singularity, (in which he wrote that it would signal the end of the human era, as the new superintelligence would continue to upgrade itself and would advance technologically at an incomprehensible rate). He wrote that he would be surprised if it occurred before 2005 or after 2030. Another significant contributor to wider circulation of the notion was Ray Kurzweil's 2005 book The Singularity Is Near, predicting singularity by 2045.\n",
      "Some scientists, including Stephen Hawking, have expressed concern that artificial superintelligence (ASI) could result in human extinction. The consequences of a technological singularity and its potential benefit or harm to the human race have been intensely debated.\n",
      "Some prominent technologists and academics – including Paul Allen, Jeff Hawkins, John Holland, Jaron Lanier, Steven Pinker, Theodore Modis, and Gordon Moore – dispute the plausibility of a technological singularity and an associated artificial-intelligence explosion. One claim made was that the artificial-intelligence growth is likely to run into decreasing returns instead of accelerating ones, as was observed in previously developed human technologies.\n",
      "\n",
      "Page: LAION\n",
      "Summary: LAION (acronym for Large-scale Artificial Intelligence Open Network) is a German non-profit which makes open-sourced artificial intelligence models and datasets. It is best known for releasing a number of large datasets of images and captions scraped from the web which have been used to train a number of high-profile text-to-image models, including Stable Diffusion and Imagen.\n",
      "In February 2023, LAION was named in the Getty Images lawsuit against Stable Diffusion as a non-party. In April 2023, LAION was directly sued by a German photographer who wanted to have his images removed from the training set.\n",
      "On April 15, 2023, LAION and contributors released to public an open source AI assistant chatbot OpenAssistant.\n",
      "\n",
      "Page: Quantum Artificial Intelligence Lab\n",
      "Summary: The Quantum Artificial Intelligence Lab (also called the Quantum AI Lab or QuAIL) is a joint initiative of NASA, Universities Space Research Association, and Google (specifically, Google Research) whose goal is to pioneer research on how quantum computing might help with machine learning and other difficult computer science problems. The lab is hosted at NASA's Ames Research Center.\n",
      "----->\n",
      "\n",
      "\n",
      "\u001b[32;1m\u001b[1;3mHere are some notable contributors to the field of artificial intelligence:\n",
      "\n",
      "1. **Technological Singularity**:\n",
      "   - The concept of the technological singularity, where technological growth becomes uncontrollable and results in unforeseeable consequences, has been significantly influenced by several thinkers.\n",
      "   - **John von Neumann**: First known to use the concept of a \"singularity\" in a technological context.\n",
      "   - **I. J. Good**: Proposed the intelligence explosion model in 1965.\n",
      "   - **Vernor Vinge**: Popularized the term \"singularity\" and discussed its implications in his 1993 essay \"The Coming Technological Singularity\".\n",
      "   - **Ray Kurzweil**: Predicted the singularity by 2045 in his book \"The Singularity Is Near\".\n",
      "   - **Stephen Hawking**: Expressed concerns about artificial superintelligence potentially leading to human extinction.\n",
      "   - Other notable skeptics include Paul Allen, Jeff Hawkins, John Holland, Jaron Lanier, Steven Pinker, Theodore Modis, and Gordon Moore.\n",
      "\n",
      "2. **LAION (Large-scale Artificial Intelligence Open Network)**:\n",
      "   - A German non-profit known for releasing large datasets of images and captions used to train text-to-image models like Stable Diffusion and Imagen.\n",
      "   - Involved in legal disputes related to the use of images in training datasets.\n",
      "   - Released an open-source AI assistant chatbot, OpenAssistant.\n",
      "\n",
      "3. **Quantum Artificial Intelligence Lab (QuAIL)**:\n",
      "   - A joint initiative by NASA, Universities Space Research Association, and Google Research.\n",
      "   - Focuses on pioneering research on how quantum computing can aid machine learning and other complex computer science problems.\n",
      "   - Hosted at NASA's Ames Research Center.\n",
      "\n",
      "These contributors and initiatives have played pivotal roles in advancing the field of artificial intelligence.\u001b[0m\n",
      "\n",
      "\u001b[1m> Finished chain.\u001b[0m\n"
     ]
    }
   ],
   "source": [
    "# Example \n",
    "\n",
    "user_id = '456'\n",
    "chat_id = '001'\n",
    "user_inputs = [\n",
    "    \"Hi, what are the contributors to artificial inteligence?\"\n",
    "]\n",
    "\n",
    "for input in user_inputs:\n",
    "    chat_agent_executor.invoke(\n",
    "        {'input': input},\n",
    "        config={\n",
    "            'configurable': {'user_id': user_id, 'chat_id': chat_id}\n",
    "        }\n",
    "    )"
   ]
  },
  {
   "cell_type": "code",
   "execution_count": 32,
   "metadata": {},
   "outputs": [
    {
     "data": {
      "text/plain": [
       "{('123',\n",
       "  '001'): InMemoryChatMessageHistory(messages=[HumanMessage(content='Hi there, my name is Luis!'), AIMessage(content='Hello, Luis! How can I assist you today? Are you looking for information related to Jewish, Refugee, and Immigrant contributions to British visual culture?'), HumanMessage(content='Do you remember my name?'), AIMessage(content='Yes, your name is Luis! How can I assist you today?')]),\n",
       " ('123',\n",
       "  '002'): InMemoryChatMessageHistory(messages=[HumanMessage(content='tell me the most famous painting of the Jewish peoplewhat are contributions of Refugee to British visual culture?'), AIMessage(content='It appears that there were no specific results found in the Ben Uri Gallery and Museum database for the queries \"most famous painting of the Jewish people\" and \"contributions of Refugees to British visual culture.\"\\n\\nWould you like me to try searching for this information on Wikipedia instead, or is there another specific aspect you are interested in exploring?')]),\n",
       " ('456',\n",
       "  '001'): InMemoryChatMessageHistory(messages=[HumanMessage(content='Hi, what are the contributors to artificial inteligence?'), AIMessage(content='Here are some notable contributors to the field of artificial intelligence:\\n\\n1. **Technological Singularity**:\\n   - The concept of the technological singularity, where technological growth becomes uncontrollable and results in unforeseeable consequences, has been significantly influenced by several thinkers.\\n   - **John von Neumann**: First known to use the concept of a \"singularity\" in a technological context.\\n   - **I. J. Good**: Proposed the intelligence explosion model in 1965.\\n   - **Vernor Vinge**: Popularized the term \"singularity\" and discussed its implications in his 1993 essay \"The Coming Technological Singularity\".\\n   - **Ray Kurzweil**: Predicted the singularity by 2045 in his book \"The Singularity Is Near\".\\n   - **Stephen Hawking**: Expressed concerns about artificial superintelligence potentially leading to human extinction.\\n   - Other notable skeptics include Paul Allen, Jeff Hawkins, John Holland, Jaron Lanier, Steven Pinker, Theodore Modis, and Gordon Moore.\\n\\n2. **LAION (Large-scale Artificial Intelligence Open Network)**:\\n   - A German non-profit known for releasing large datasets of images and captions used to train text-to-image models like Stable Diffusion and Imagen.\\n   - Involved in legal disputes related to the use of images in training datasets.\\n   - Released an open-source AI assistant chatbot, OpenAssistant.\\n\\n3. **Quantum Artificial Intelligence Lab (QuAIL)**:\\n   - A joint initiative by NASA, Universities Space Research Association, and Google Research.\\n   - Focuses on pioneering research on how quantum computing can aid machine learning and other complex computer science problems.\\n   - Hosted at NASA\\'s Ames Research Center.\\n\\nThese contributors and initiatives have played pivotal roles in advancing the field of artificial intelligence.')])}"
      ]
     },
     "execution_count": 32,
     "metadata": {},
     "output_type": "execute_result"
    }
   ],
   "source": [
    "# Example\n",
    "\n",
    "memory_storage"
   ]
  },
  {
   "cell_type": "code",
   "execution_count": null,
   "metadata": {},
   "outputs": [],
   "source": []
  }
 ],
 "metadata": {
  "kernelspec": {
   "display_name": "Python 3.12.2 ('venv': venv)",
   "language": "python",
   "name": "python3"
  },
  "language_info": {
   "codemirror_mode": {
    "name": "ipython",
    "version": 3
   },
   "file_extension": ".py",
   "mimetype": "text/x-python",
   "name": "python",
   "nbconvert_exporter": "python",
   "pygments_lexer": "ipython3",
   "version": "3.12.2"
  },
  "orig_nbformat": 4,
  "vscode": {
   "interpreter": {
    "hash": "9fec38cd8ce5c790690e1b9e059ac9a9a8bff1e8e6071a760c5d50046cc42a4a"
   }
  }
 },
 "nbformat": 4,
 "nbformat_minor": 2
}

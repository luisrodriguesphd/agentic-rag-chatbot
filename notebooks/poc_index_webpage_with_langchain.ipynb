{
 "cells": [
  {
   "cell_type": "markdown",
   "metadata": {},
   "source": [
    "# Introduction\n",
    "\n",
    "**Table of Contents**\n",
    "1. Collect webpage URLs from the specified domain\n",
    "2. Extract webpages and parse as LangChain's Documents\n",
    "    - 2.1 Clean up the webpage content \n",
    "3. Index document in a vector store using LangChain\n",
    "\n",
    "**References**:\n",
    "- [DeepLarning.AI | Functions, Tools and Agents with LangChain](https://learn.deeplearning.ai/courses/functions-tools-agents-langchain/lesson/5/tagging-and-extraction)\n"
   ]
  },
  {
   "cell_type": "code",
   "execution_count": null,
   "metadata": {},
   "outputs": [],
   "source": [
    "#!pip install python-dotenv \\\n",
    "#             langchain==0.2.5 \\\n",
    "#             langchain_core==0.2.9 \\\n",
    "#             langchain_groq==0.1.6\n",
    "#             langchain_openai==0.1.16 \\\n",
    "#             wikipedia==1.4.0 \\\n",
    "#             pymongo==4.8.0"
   ]
  },
  {
   "cell_type": "code",
   "execution_count": 1,
   "metadata": {},
   "outputs": [
    {
     "data": {
      "text/plain": [
       "'d:\\\\Projects\\\\agentic-rag-chatbot'"
      ]
     },
     "execution_count": 1,
     "metadata": {},
     "output_type": "execute_result"
    }
   ],
   "source": [
    "# Change the current working directory to the pachage root\n",
    "# That's step is due to the way settings.py is defined\n",
    "\n",
    "import os\n",
    "\n",
    "\n",
    "ROOT_DIR = os.path.join(*os.path.split(os.getcwd())[:-1])\n",
    "os.chdir(ROOT_DIR)\n",
    "os.getcwd()"
   ]
  },
  {
   "cell_type": "code",
   "execution_count": 2,
   "metadata": {},
   "outputs": [],
   "source": [
    "from dotenv import load_dotenv\n",
    "\n",
    "conf_dir = os.path.join(\"conf\")\n",
    "conf_file = \".env\"\n",
    "\n",
    "conf_path = os.path.join(conf_dir, conf_file)\n",
    "_ = load_dotenv(conf_path)"
   ]
  },
  {
   "cell_type": "markdown",
   "metadata": {},
   "source": [
    "# 1. Collect webpage URLs from the specified domain"
   ]
  },
  {
   "cell_type": "code",
   "execution_count": 3,
   "metadata": {},
   "outputs": [],
   "source": [
    "import requests\n",
    "from bs4 import BeautifulSoup\n",
    "from urllib.parse import urljoin, urlparse\n",
    "\n",
    "\n",
    "def crawl_site_to_fetch_urls(\n",
    "        start_url, \n",
    "        min_length_text_body=1000, \n",
    "        max_number_visited_urls=None, \n",
    "        max_number_qualified_urls=None,\n",
    "        visited_urls=[],\n",
    "        urls_to_visit=[]\n",
    "    ):\n",
    "    \"\"\"\n",
    "    Crawl the given website starting from start_url and collect all unique page URLs within the same domain\n",
    "    that have a body text content longer than the specified min_length_text_body.\n",
    "    \n",
    "    Parameters:\n",
    "    - start_url (str): The starting URL to begin crawling from.\n",
    "    - min_length_text_body (int): Minimum length of the text content in the body to include the URL in the result.\n",
    "    - max_number_visited_urls (int, optional): Maximum number of URLs to visit.\n",
    "    - max_number_qualified_urls (int, optional): Maximum number of URLs to return.\n",
    "    - visited_urls (set, optional): Set of URLs that have been visited.\n",
    "    - urls_to_visit (list, optional): Set of URLs that have been visited. If none, it's set as start_url, otherwise, start_url is ignored.\n",
    "\n",
    "    Returns:\n",
    "    - list: URLs meeting the text content length requirement.\n",
    "    \"\"\"\n",
    "    n_visited_urls_previously = len(visited_urls)\n",
    "    visited_urls = set(visited_urls)\n",
    "    \n",
    "    if not urls_to_visit:\n",
    "        urls_to_visit = [start_url]\n",
    "    urls_to_visit = urls_to_visit.copy()\n",
    "\n",
    "    base_domain = urlparse(start_url).netloc\n",
    "    qualifying_urls = set()\n",
    "\n",
    "    while urls_to_visit:\n",
    "        current_url = urls_to_visit.pop(0)\n",
    "\n",
    "        if current_url in visited_urls:\n",
    "            continue\n",
    "\n",
    "        visited_urls.add(current_url)\n",
    "        print(f\"Visiting: ({len(visited_urls)}) {current_url}\", end=\"\")\n",
    "\n",
    "        try:\n",
    "            response = requests.get(current_url)\n",
    "            response.raise_for_status()  # Ensure the request was successful\n",
    "            soup = BeautifulSoup(response.text, 'html.parser')\n",
    "            \n",
    "            # Extract text from the <body> tag, excluding script and style elements\n",
    "            text = soup.body.get_text(separator=' ', strip=True) if soup.body else \"\"\n",
    "            text = ' '.join(text.split())  # Normalize whitespace\n",
    "\n",
    "            if len(text) >= min_length_text_body:\n",
    "                qualifying_urls.add(current_url)\n",
    "                print('')\n",
    "            else:\n",
    "                print(' (DISGARDED)')\n",
    "\n",
    "            # Find and process all hyperlinks within the same domain\n",
    "            for link in soup.find_all('a', href=True):\n",
    "                full_url = urljoin(current_url, link['href'])\n",
    "                if urlparse(full_url).netloc == base_domain \\\n",
    "                    and full_url[-1] == '/' \\\n",
    "                    and full_url not in visited_urls \\\n",
    "                    and full_url not in urls_to_visit:\n",
    "                    urls_to_visit.append(full_url)\n",
    "\n",
    "        except requests.RequestException as e:\n",
    "            print(f\"Failed to fetch {current_url}: {e}\")\n",
    "\n",
    "        if max_number_visited_urls and len(visited_urls)-n_visited_urls_previously >= max_number_visited_urls:\n",
    "            break\n",
    "\n",
    "        if max_number_qualified_urls and len(qualifying_urls) >= max_number_qualified_urls:\n",
    "            break\n",
    "\n",
    "    return list(qualifying_urls), list(visited_urls), urls_to_visit"
   ]
  },
  {
   "cell_type": "code",
   "execution_count": 4,
   "metadata": {},
   "outputs": [
    {
     "name": "stdout",
     "output_type": "stream",
     "text": [
      "Visiting: (1) https://benuri.org/\n",
      "Visiting: (2) https://benuri.org/about/\n",
      "Visiting: (3) https://benuri.org/whats-on/\n",
      "Visiting: (4) https://benuri.org/visit-us/\n",
      "Visiting: (5) https://benuri.org/exhibition/\n",
      "Visiting: (6) https://benuri.org/collections/\n",
      "Visiting: (7) https://benuri.org/researchunit/\n",
      "Visiting: (8) https://benuri.org/diaspora/\n",
      "Visiting: (9) https://benuri.org/loans/\n",
      "Visiting: (10) https://benuri.org/essays-catalogues/\n",
      "Visiting: (11) https://benuri.org/butv-videos/\n",
      "Visiting: (12) https://benuri.org/audioadventures/\n",
      "Visiting: (13) https://benuri.org/publications/\n",
      "Visiting: (14) https://benuri.org/schoolsandfamilies/\n",
      "Visiting: (15) https://benuri.org/artsandhealth/\n"
     ]
    }
   ],
   "source": [
    "# Starting point of the website to crawl and max number of visited webpages\n",
    "start_page = 'https://benuri.org/'\n",
    "min_length_text_body = 1000\n",
    "max_number_visited_urls = 15\n",
    "max_number_qualified_urls = 100\n",
    "visited_urls_previously=[]\n",
    "urls_to_visit_previously=[]\n",
    "\n",
    "\n",
    "qualified_urls, visited_urls, urls_to_visit = crawl_site_to_fetch_urls(\n",
    "    start_url=start_page, \n",
    "    min_length_text_body = min_length_text_body,\n",
    "    max_number_visited_urls=max_number_visited_urls,\n",
    "    max_number_qualified_urls = max_number_qualified_urls,\n",
    "    visited_urls = visited_urls_previously,\n",
    "    urls_to_visit = urls_to_visit_previously,\n",
    ")"
   ]
  },
  {
   "cell_type": "code",
   "execution_count": 5,
   "metadata": {},
   "outputs": [],
   "source": [
    "def print_stats_collected_web_data(qualified_urls, visited_urls, urls_to_visit, visited_urls_previously, urls_to_visit_previously):\n",
    "    print(f\"Total number of visited URLs: {len(visited_urls)}\")\n",
    "    print(f\"Number of visited URLs today: {len(visited_urls)-len(visited_urls_previously)}\")\n",
    "    print(f\"Number of qualified URLs found: {len(qualified_urls)}\")\n",
    "    print(f\"Number of URLs to still visit: {len(urls_to_visit)}\")\n",
    "    print(f\"Number of URLs to visit new: {len(urls_to_visit)-len(urls_to_visit_previously)-(len(visited_urls)-len(visited_urls_previously))}\")"
   ]
  },
  {
   "cell_type": "code",
   "execution_count": 6,
   "metadata": {},
   "outputs": [
    {
     "name": "stdout",
     "output_type": "stream",
     "text": [
      "Total number of visited URLs: 15\n",
      "Number of visited URLs today: 15\n",
      "Number of qualified URLs found: 15\n",
      "Number of URLs to still visit: 343\n",
      "Number of URLs to visit new: 328\n"
     ]
    }
   ],
   "source": [
    "print_stats_collected_web_data(qualified_urls, visited_urls, urls_to_visit, visited_urls_previously, urls_to_visit_previously)"
   ]
  },
  {
   "cell_type": "code",
   "execution_count": 7,
   "metadata": {},
   "outputs": [],
   "source": [
    "from datetime import date\n",
    "\n",
    "def parse_collected_web_data(qualified_urls, visited_urls, urls_to_visit, visited_urls_previously=[], urls_to_visit_previously=[]):\n",
    "    # Get today's date and format the date as YYYY-MM-DD\n",
    "    today = date.today()\n",
    "    today_str = today.strftime(\"%Y-%m-%d\")\n",
    "\n",
    "    old_urls_visited = [url for url in visited_urls if url in urls_to_visit_previously]\n",
    "    new_urls_visited = [url for url in visited_urls if url not in visited_urls_previously+urls_to_visit_previously]\n",
    "    new_urls_to_visit = [url for url in urls_to_visit if url not in urls_to_visit_previously]\n",
    "    urls = old_urls_visited + new_urls_visited + new_urls_to_visit\n",
    "\n",
    "    is_new = [True if url not in old_urls_visited else False for url in urls]\n",
    "    is_visited = [True if url in visited_urls else False for url in urls]\n",
    "    is_qualified = [True if url in qualified_urls else False for url in urls]\n",
    "    visited_date = [today_str if url in visited_urls else None for url in urls]\n",
    "    is_to_ingest = is_qualified\n",
    "\n",
    "    web_data_to_update = []\n",
    "    web_data_to_add = []\n",
    "    for url, new, iv, vd, iq, ii in  zip(urls, is_new, is_visited, visited_date, is_qualified, is_to_ingest):\n",
    "        data = {\n",
    "            'url': url,\n",
    "            'is_visited': iv,\n",
    "            'visited_date': vd,\n",
    "            'is_qualified': iq,\n",
    "            'is_to_ingest': ii,\n",
    "        }\n",
    "        if new:\n",
    "            web_data_to_add.append(data)\n",
    "        else:\n",
    "            web_data_to_update.append(data)\n",
    "\n",
    "    return web_data_to_update, web_data_to_add"
   ]
  },
  {
   "cell_type": "code",
   "execution_count": 8,
   "metadata": {},
   "outputs": [
    {
     "name": "stdout",
     "output_type": "stream",
     "text": [
      "358\n"
     ]
    }
   ],
   "source": [
    "web_data_to_update, web_data_to_add = parse_collected_web_data(qualified_urls, visited_urls, urls_to_visit)\n",
    "\n",
    "print(len(web_data_to_update)+len(web_data_to_add))"
   ]
  },
  {
   "cell_type": "code",
   "execution_count": 9,
   "metadata": {},
   "outputs": [
    {
     "data": {
      "text/plain": [
       "[]"
      ]
     },
     "execution_count": 9,
     "metadata": {},
     "output_type": "execute_result"
    }
   ],
   "source": [
    "web_data_to_update[:2]"
   ]
  },
  {
   "cell_type": "code",
   "execution_count": 10,
   "metadata": {},
   "outputs": [
    {
     "data": {
      "text/plain": [
       "[{'url': 'https://benuri.org/loans/',\n",
       "  'is_visited': True,\n",
       "  'visited_date': '2024-08-02',\n",
       "  'is_qualified': True,\n",
       "  'is_to_ingest': True},\n",
       " {'url': 'https://benuri.org/researchunit/',\n",
       "  'is_visited': True,\n",
       "  'visited_date': '2024-08-02',\n",
       "  'is_qualified': True,\n",
       "  'is_to_ingest': True}]"
      ]
     },
     "execution_count": 10,
     "metadata": {},
     "output_type": "execute_result"
    }
   ],
   "source": [
    "web_data_to_add[:2]"
   ]
  },
  {
   "cell_type": "code",
   "execution_count": null,
   "metadata": {},
   "outputs": [],
   "source": [
    "from pymongo import MongoClient\n",
    "\n",
    "MONGODB_ATLAS_CLUSTER_URI = os.environ.get('MONGODB_ATLAS_CLUSTER_URI')\n",
    "MONGODB_ATLAS_DB_NAME = os.environ.get('MONGODB_ATLAS_DB_NAME')\n",
    "MONGODB_ATLAS_INGESTION_COLLECTION_NAME = os.environ.get('MONGODB_ATLAS_INGESTION_COLLECTION_NAME')\n",
    "\n",
    "# Connect to the MongoDB client\n",
    "client = MongoClient(MONGODB_ATLAS_CLUSTER_URI)\n",
    "\n",
    "# Select the database\n",
    "db = client['mydatabase']\n",
    "\n",
    "# Select the collection\n",
    "collection = client[MONGODB_ATLAS_DB_NAME][MONGODB_ATLAS_INGESTION_COLLECTION_NAME]"
   ]
  },
  {
   "cell_type": "code",
   "execution_count": 62,
   "metadata": {},
   "outputs": [],
   "source": [
    "# Function to insert a list of documents\n",
    "def insert_documents(docs: list[dict]):\n",
    "    \"\"\"Function to insert a list of documents in MongoDB\"\"\"\n",
    "\n",
    "    # Inserting the data into the collection\n",
    "    result = collection.insert_many(docs)\n",
    "\n",
    "    # Output the inserted documents' IDs\n",
    "    inserted_ids = [str(object_id) for object_id in result.inserted_ids]\n",
    "\n",
    "    return inserted_ids"
   ]
  },
  {
   "cell_type": "code",
   "execution_count": 11,
   "metadata": {},
   "outputs": [
    {
     "name": "stdout",
     "output_type": "stream",
     "text": [
      "Inserted document ids: ['66acd1880cc0215c6a0f3858', '66acd1880cc0215c6a0f3859', '66acd1880cc0215c6a0f385a', '66acd1880cc0215c6a0f385b', '66acd1880cc0215c6a0f385c', '66acd1880cc0215c6a0f385d', '66acd1880cc0215c6a0f385e', '66acd1880cc0215c6a0f385f', '66acd1880cc0215c6a0f3860', '66acd1880cc0215c6a0f3861', '66acd1880cc0215c6a0f3862', '66acd1880cc0215c6a0f3863', '66acd1880cc0215c6a0f3864', '66acd1880cc0215c6a0f3865', '66acd1880cc0215c6a0f3866', '66acd1880cc0215c6a0f3867', '66acd1880cc0215c6a0f3868', '66acd1880cc0215c6a0f3869', '66acd1880cc0215c6a0f386a', '66acd1880cc0215c6a0f386b', '66acd1880cc0215c6a0f386c', '66acd1880cc0215c6a0f386d', '66acd1880cc0215c6a0f386e', '66acd1880cc0215c6a0f386f', '66acd1880cc0215c6a0f3870', '66acd1880cc0215c6a0f3871', '66acd1880cc0215c6a0f3872', '66acd1880cc0215c6a0f3873', '66acd1880cc0215c6a0f3874', '66acd1880cc0215c6a0f3875', '66acd1880cc0215c6a0f3876', '66acd1880cc0215c6a0f3877', '66acd1880cc0215c6a0f3878', '66acd1880cc0215c6a0f3879', '66acd1880cc0215c6a0f387a', '66acd1880cc0215c6a0f387b', '66acd1880cc0215c6a0f387c', '66acd1880cc0215c6a0f387d', '66acd1880cc0215c6a0f387e', '66acd1880cc0215c6a0f387f', '66acd1880cc0215c6a0f3880', '66acd1880cc0215c6a0f3881', '66acd1880cc0215c6a0f3882', '66acd1880cc0215c6a0f3883', '66acd1880cc0215c6a0f3884', '66acd1880cc0215c6a0f3885', '66acd1880cc0215c6a0f3886', '66acd1880cc0215c6a0f3887', '66acd1880cc0215c6a0f3888', '66acd1880cc0215c6a0f3889', '66acd1880cc0215c6a0f388a', '66acd1880cc0215c6a0f388b', '66acd1880cc0215c6a0f388c', '66acd1880cc0215c6a0f388d', '66acd1880cc0215c6a0f388e', '66acd1880cc0215c6a0f388f', '66acd1880cc0215c6a0f3890', '66acd1880cc0215c6a0f3891', '66acd1880cc0215c6a0f3892', '66acd1880cc0215c6a0f3893', '66acd1880cc0215c6a0f3894', '66acd1880cc0215c6a0f3895', '66acd1880cc0215c6a0f3896', '66acd1880cc0215c6a0f3897', '66acd1880cc0215c6a0f3898', '66acd1880cc0215c6a0f3899', '66acd1880cc0215c6a0f389a', '66acd1880cc0215c6a0f389b', '66acd1880cc0215c6a0f389c', '66acd1880cc0215c6a0f389d', '66acd1880cc0215c6a0f389e', '66acd1880cc0215c6a0f389f', '66acd1880cc0215c6a0f38a0', '66acd1880cc0215c6a0f38a1', '66acd1880cc0215c6a0f38a2', '66acd1880cc0215c6a0f38a3', '66acd1880cc0215c6a0f38a4', '66acd1880cc0215c6a0f38a5', '66acd1880cc0215c6a0f38a6', '66acd1880cc0215c6a0f38a7', '66acd1880cc0215c6a0f38a8', '66acd1880cc0215c6a0f38a9', '66acd1880cc0215c6a0f38aa', '66acd1880cc0215c6a0f38ab', '66acd1880cc0215c6a0f38ac', '66acd1880cc0215c6a0f38ad', '66acd1880cc0215c6a0f38ae', '66acd1880cc0215c6a0f38af', '66acd1880cc0215c6a0f38b0', '66acd1880cc0215c6a0f38b1', '66acd1880cc0215c6a0f38b2', '66acd1880cc0215c6a0f38b3', '66acd1880cc0215c6a0f38b4', '66acd1880cc0215c6a0f38b5', '66acd1880cc0215c6a0f38b6', '66acd1880cc0215c6a0f38b7', '66acd1880cc0215c6a0f38b8', '66acd1880cc0215c6a0f38b9', '66acd1880cc0215c6a0f38ba', '66acd1880cc0215c6a0f38bb', '66acd1880cc0215c6a0f38bc', '66acd1880cc0215c6a0f38bd', '66acd1880cc0215c6a0f38be', '66acd1880cc0215c6a0f38bf', '66acd1880cc0215c6a0f38c0', '66acd1880cc0215c6a0f38c1', '66acd1880cc0215c6a0f38c2', '66acd1880cc0215c6a0f38c3', '66acd1880cc0215c6a0f38c4', '66acd1880cc0215c6a0f38c5', '66acd1880cc0215c6a0f38c6', '66acd1880cc0215c6a0f38c7', '66acd1880cc0215c6a0f38c8', '66acd1880cc0215c6a0f38c9', '66acd1880cc0215c6a0f38ca', '66acd1880cc0215c6a0f38cb', '66acd1880cc0215c6a0f38cc', '66acd1880cc0215c6a0f38cd', '66acd1880cc0215c6a0f38ce', '66acd1880cc0215c6a0f38cf', '66acd1880cc0215c6a0f38d0', '66acd1880cc0215c6a0f38d1', '66acd1880cc0215c6a0f38d2', '66acd1880cc0215c6a0f38d3', '66acd1880cc0215c6a0f38d4', '66acd1880cc0215c6a0f38d5', '66acd1880cc0215c6a0f38d6', '66acd1880cc0215c6a0f38d7', '66acd1880cc0215c6a0f38d8', '66acd1880cc0215c6a0f38d9', '66acd1880cc0215c6a0f38da', '66acd1880cc0215c6a0f38db', '66acd1880cc0215c6a0f38dc', '66acd1880cc0215c6a0f38dd', '66acd1880cc0215c6a0f38de', '66acd1880cc0215c6a0f38df', '66acd1880cc0215c6a0f38e0', '66acd1880cc0215c6a0f38e1', '66acd1880cc0215c6a0f38e2', '66acd1880cc0215c6a0f38e3', '66acd1880cc0215c6a0f38e4', '66acd1880cc0215c6a0f38e5', '66acd1880cc0215c6a0f38e6', '66acd1880cc0215c6a0f38e7', '66acd1880cc0215c6a0f38e8', '66acd1880cc0215c6a0f38e9', '66acd1880cc0215c6a0f38ea', '66acd1880cc0215c6a0f38eb', '66acd1880cc0215c6a0f38ec', '66acd1880cc0215c6a0f38ed', '66acd1880cc0215c6a0f38ee', '66acd1880cc0215c6a0f38ef', '66acd1880cc0215c6a0f38f0', '66acd1880cc0215c6a0f38f1', '66acd1880cc0215c6a0f38f2', '66acd1880cc0215c6a0f38f3', '66acd1880cc0215c6a0f38f4', '66acd1880cc0215c6a0f38f5', '66acd1880cc0215c6a0f38f6', '66acd1880cc0215c6a0f38f7', '66acd1880cc0215c6a0f38f8', '66acd1880cc0215c6a0f38f9', '66acd1880cc0215c6a0f38fa', '66acd1880cc0215c6a0f38fb', '66acd1880cc0215c6a0f38fc', '66acd1880cc0215c6a0f38fd', '66acd1880cc0215c6a0f38fe', '66acd1880cc0215c6a0f38ff', '66acd1880cc0215c6a0f3900', '66acd1880cc0215c6a0f3901', '66acd1880cc0215c6a0f3902', '66acd1880cc0215c6a0f3903', '66acd1880cc0215c6a0f3904', '66acd1880cc0215c6a0f3905', '66acd1880cc0215c6a0f3906', '66acd1880cc0215c6a0f3907', '66acd1880cc0215c6a0f3908', '66acd1880cc0215c6a0f3909', '66acd1880cc0215c6a0f390a', '66acd1880cc0215c6a0f390b', '66acd1880cc0215c6a0f390c', '66acd1880cc0215c6a0f390d', '66acd1880cc0215c6a0f390e', '66acd1880cc0215c6a0f390f', '66acd1880cc0215c6a0f3910', '66acd1880cc0215c6a0f3911', '66acd1880cc0215c6a0f3912', '66acd1880cc0215c6a0f3913', '66acd1880cc0215c6a0f3914', '66acd1880cc0215c6a0f3915', '66acd1880cc0215c6a0f3916', '66acd1880cc0215c6a0f3917', '66acd1880cc0215c6a0f3918', '66acd1880cc0215c6a0f3919', '66acd1880cc0215c6a0f391a', '66acd1880cc0215c6a0f391b', '66acd1880cc0215c6a0f391c', '66acd1880cc0215c6a0f391d', '66acd1880cc0215c6a0f391e', '66acd1880cc0215c6a0f391f', '66acd1880cc0215c6a0f3920', '66acd1880cc0215c6a0f3921', '66acd1880cc0215c6a0f3922', '66acd1880cc0215c6a0f3923', '66acd1880cc0215c6a0f3924', '66acd1880cc0215c6a0f3925', '66acd1880cc0215c6a0f3926', '66acd1880cc0215c6a0f3927', '66acd1880cc0215c6a0f3928', '66acd1880cc0215c6a0f3929', '66acd1880cc0215c6a0f392a', '66acd1880cc0215c6a0f392b', '66acd1880cc0215c6a0f392c', '66acd1880cc0215c6a0f392d', '66acd1880cc0215c6a0f392e', '66acd1880cc0215c6a0f392f', '66acd1880cc0215c6a0f3930', '66acd1880cc0215c6a0f3931', '66acd1880cc0215c6a0f3932', '66acd1880cc0215c6a0f3933', '66acd1880cc0215c6a0f3934', '66acd1880cc0215c6a0f3935', '66acd1880cc0215c6a0f3936', '66acd1880cc0215c6a0f3937', '66acd1880cc0215c6a0f3938', '66acd1880cc0215c6a0f3939', '66acd1880cc0215c6a0f393a', '66acd1880cc0215c6a0f393b', '66acd1880cc0215c6a0f393c', '66acd1880cc0215c6a0f393d', '66acd1880cc0215c6a0f393e', '66acd1880cc0215c6a0f393f', '66acd1880cc0215c6a0f3940', '66acd1880cc0215c6a0f3941', '66acd1880cc0215c6a0f3942', '66acd1880cc0215c6a0f3943', '66acd1880cc0215c6a0f3944', '66acd1880cc0215c6a0f3945', '66acd1880cc0215c6a0f3946', '66acd1880cc0215c6a0f3947', '66acd1880cc0215c6a0f3948', '66acd1880cc0215c6a0f3949', '66acd1880cc0215c6a0f394a', '66acd1880cc0215c6a0f394b', '66acd1880cc0215c6a0f394c', '66acd1880cc0215c6a0f394d', '66acd1880cc0215c6a0f394e', '66acd1880cc0215c6a0f394f', '66acd1880cc0215c6a0f3950', '66acd1880cc0215c6a0f3951', '66acd1880cc0215c6a0f3952', '66acd1880cc0215c6a0f3953', '66acd1880cc0215c6a0f3954', '66acd1880cc0215c6a0f3955', '66acd1880cc0215c6a0f3956', '66acd1880cc0215c6a0f3957', '66acd1880cc0215c6a0f3958', '66acd1880cc0215c6a0f3959', '66acd1880cc0215c6a0f395a', '66acd1880cc0215c6a0f395b', '66acd1880cc0215c6a0f395c', '66acd1880cc0215c6a0f395d', '66acd1880cc0215c6a0f395e', '66acd1880cc0215c6a0f395f', '66acd1880cc0215c6a0f3960', '66acd1880cc0215c6a0f3961', '66acd1880cc0215c6a0f3962', '66acd1880cc0215c6a0f3963', '66acd1880cc0215c6a0f3964', '66acd1880cc0215c6a0f3965', '66acd1880cc0215c6a0f3966', '66acd1880cc0215c6a0f3967', '66acd1880cc0215c6a0f3968', '66acd1880cc0215c6a0f3969', '66acd1880cc0215c6a0f396a', '66acd1880cc0215c6a0f396b', '66acd1880cc0215c6a0f396c', '66acd1880cc0215c6a0f396d', '66acd1880cc0215c6a0f396e', '66acd1880cc0215c6a0f396f', '66acd1880cc0215c6a0f3970', '66acd1880cc0215c6a0f3971', '66acd1880cc0215c6a0f3972', '66acd1880cc0215c6a0f3973', '66acd1880cc0215c6a0f3974', '66acd1880cc0215c6a0f3975', '66acd1880cc0215c6a0f3976', '66acd1880cc0215c6a0f3977', '66acd1880cc0215c6a0f3978', '66acd1880cc0215c6a0f3979', '66acd1880cc0215c6a0f397a', '66acd1880cc0215c6a0f397b', '66acd1880cc0215c6a0f397c', '66acd1880cc0215c6a0f397d', '66acd1880cc0215c6a0f397e', '66acd1880cc0215c6a0f397f', '66acd1880cc0215c6a0f3980', '66acd1880cc0215c6a0f3981', '66acd1880cc0215c6a0f3982', '66acd1880cc0215c6a0f3983', '66acd1880cc0215c6a0f3984', '66acd1880cc0215c6a0f3985', '66acd1880cc0215c6a0f3986', '66acd1880cc0215c6a0f3987', '66acd1880cc0215c6a0f3988', '66acd1880cc0215c6a0f3989', '66acd1880cc0215c6a0f398a', '66acd1880cc0215c6a0f398b', '66acd1880cc0215c6a0f398c', '66acd1880cc0215c6a0f398d', '66acd1880cc0215c6a0f398e', '66acd1880cc0215c6a0f398f', '66acd1880cc0215c6a0f3990', '66acd1880cc0215c6a0f3991', '66acd1880cc0215c6a0f3992', '66acd1880cc0215c6a0f3993', '66acd1880cc0215c6a0f3994', '66acd1880cc0215c6a0f3995', '66acd1880cc0215c6a0f3996', '66acd1880cc0215c6a0f3997', '66acd1880cc0215c6a0f3998', '66acd1880cc0215c6a0f3999', '66acd1880cc0215c6a0f399a', '66acd1880cc0215c6a0f399b', '66acd1880cc0215c6a0f399c', '66acd1880cc0215c6a0f399d', '66acd1880cc0215c6a0f399e', '66acd1880cc0215c6a0f399f', '66acd1880cc0215c6a0f39a0', '66acd1880cc0215c6a0f39a1', '66acd1880cc0215c6a0f39a2', '66acd1880cc0215c6a0f39a3', '66acd1880cc0215c6a0f39a4', '66acd1880cc0215c6a0f39a5', '66acd1880cc0215c6a0f39a6', '66acd1880cc0215c6a0f39a7', '66acd1880cc0215c6a0f39a8', '66acd1880cc0215c6a0f39a9', '66acd1880cc0215c6a0f39aa', '66acd1880cc0215c6a0f39ab', '66acd1880cc0215c6a0f39ac', '66acd1880cc0215c6a0f39ad', '66acd1880cc0215c6a0f39ae', '66acd1880cc0215c6a0f39af', '66acd1880cc0215c6a0f39b0', '66acd1880cc0215c6a0f39b1', '66acd1880cc0215c6a0f39b2', '66acd1880cc0215c6a0f39b3', '66acd1880cc0215c6a0f39b4', '66acd1880cc0215c6a0f39b5', '66acd1880cc0215c6a0f39b6', '66acd1880cc0215c6a0f39b7', '66acd1880cc0215c6a0f39b8', '66acd1880cc0215c6a0f39b9', '66acd1880cc0215c6a0f39ba', '66acd1880cc0215c6a0f39bb', '66acd1880cc0215c6a0f39bc', '66acd1880cc0215c6a0f39bd']\n"
     ]
    }
   ],
   "source": [
    "# Inserting the data into the collection\n",
    "inserted_ids = insert_documents(web_data_to_add)\n",
    "\n",
    "# Output the inserted documents' IDs\n",
    "print(\"Inserted document ids:\", inserted_ids)"
   ]
  },
  {
   "cell_type": "code",
   "execution_count": 22,
   "metadata": {},
   "outputs": [
    {
     "data": {
      "text/plain": [
       "15"
      ]
     },
     "execution_count": 22,
     "metadata": {},
     "output_type": "execute_result"
    }
   ],
   "source": [
    "visited_urls_previously = [data['url'] for data in collection.find({\"is_visited\": True})]\n",
    "\n",
    "len(visited_urls_previously)"
   ]
  },
  {
   "cell_type": "code",
   "execution_count": 23,
   "metadata": {},
   "outputs": [
    {
     "data": {
      "text/plain": [
       "343"
      ]
     },
     "execution_count": 23,
     "metadata": {},
     "output_type": "execute_result"
    }
   ],
   "source": [
    "urls_to_visit_previously = [doc['url'] for doc in collection.find({\"is_visited\": False})]\n",
    "\n",
    "len(urls_to_visit_previously)"
   ]
  },
  {
   "cell_type": "code",
   "execution_count": 26,
   "metadata": {},
   "outputs": [
    {
     "name": "stdout",
     "output_type": "stream",
     "text": [
      "Visiting: (16) https://benuri.org/bloomberg-connects/\n",
      "Visiting: (17) https://benuri.org/support/\n",
      "Visiting: (18) https://benuri.org/contact/\n",
      "Visiting: (19) https://benuri.org/faq/\n",
      "Visiting: (20) https://benuri.org/contact/form/ (DISGARDED)\n",
      "Visiting: (21) https://benuri.org/store/basket/\n",
      "Visiting: (22) https://benuri.org/press/\n"
     ]
    }
   ],
   "source": [
    "max_number_visited_urls = int(max_number_visited_urls/2)\n",
    "\n",
    "qualified_urls, visited_urls, urls_to_visit = crawl_site_to_fetch_urls(\n",
    "    start_url=start_page, \n",
    "    min_length_text_body = min_length_text_body,\n",
    "    max_number_visited_urls=max_number_visited_urls,\n",
    "    max_number_qualified_urls = max_number_qualified_urls,\n",
    "    visited_urls = visited_urls_previously,\n",
    "    urls_to_visit = urls_to_visit_previously,\n",
    ")"
   ]
  },
  {
   "cell_type": "code",
   "execution_count": 27,
   "metadata": {},
   "outputs": [
    {
     "name": "stdout",
     "output_type": "stream",
     "text": [
      "Total number of visited URLs: 22\n",
      "Number of visited URLs today: 7\n",
      "Number of qualified URLs found: 6\n",
      "Number of URLs to still visit: 359\n",
      "Number of URLs to visit new: 9\n"
     ]
    }
   ],
   "source": [
    "print_stats_collected_web_data(qualified_urls, visited_urls, urls_to_visit, visited_urls_previously, urls_to_visit_previously)"
   ]
  },
  {
   "cell_type": "code",
   "execution_count": 76,
   "metadata": {},
   "outputs": [],
   "source": [
    "web_data_to_update, web_data_to_add = parse_collected_web_data(qualified_urls, visited_urls, urls_to_visit, visited_urls_previously, urls_to_visit_previously)\n"
   ]
  },
  {
   "cell_type": "code",
   "execution_count": 77,
   "metadata": {},
   "outputs": [
    {
     "name": "stdout",
     "output_type": "stream",
     "text": [
      "30\n"
     ]
    }
   ],
   "source": [
    "print(len(web_data_to_update)+len(web_data_to_add))"
   ]
  },
  {
   "cell_type": "code",
   "execution_count": 78,
   "metadata": {},
   "outputs": [
    {
     "data": {
      "text/plain": [
       "[{'url': 'https://benuri.org/faq/',\n",
       "  'is_visited': True,\n",
       "  'visited_date': '2024-08-02',\n",
       "  'is_qualified': True,\n",
       "  'is_to_ingest': True},\n",
       " {'url': 'https://benuri.org/bloomberg-connects/',\n",
       "  'is_visited': True,\n",
       "  'visited_date': '2024-08-02',\n",
       "  'is_qualified': True,\n",
       "  'is_to_ingest': True}]"
      ]
     },
     "execution_count": 78,
     "metadata": {},
     "output_type": "execute_result"
    }
   ],
   "source": [
    "web_data_to_update[:2]"
   ]
  },
  {
   "cell_type": "code",
   "execution_count": 79,
   "metadata": {},
   "outputs": [],
   "source": [
    "# Function to update a list of documents\n",
    "def update_documents(docs: list[dict], filter_field: str = 'url'):\n",
    "    \"\"\"Function to update a list of documents in MongoDB\"\"\"\n",
    "\n",
    "    num_updated_ids = []\n",
    "    for doc in docs:\n",
    "        # Define the filter to find the document\n",
    "        filter = {filter_field:  doc[filter_field]}\n",
    "        \n",
    "        # Define the new values to update\n",
    "        del doc[filter_field]\n",
    "        new_values = {\"$set\": doc}\n",
    "        \n",
    "        # Update the first document that matches the filter\n",
    "        result = collection.update_one(filter, new_values)\n",
    "\n",
    "        # Output the number of updated documents' IDs\n",
    "        num_updated_ids.append(result.modified_count)\n",
    "\n",
    "    return num_updated_ids"
   ]
  },
  {
   "cell_type": "code",
   "execution_count": 80,
   "metadata": {},
   "outputs": [
    {
     "name": "stdout",
     "output_type": "stream",
     "text": [
      "Number of updated document ids: [0, 0, 0, 0, 0, 0, 0]\n"
     ]
    }
   ],
   "source": [
    "# Update the data into the collection\n",
    "num_updated_ids = update_documents(web_data_to_update)\n",
    "\n",
    "# Output the number of updated documents' IDs\n",
    "print(\"Number of updated document ids:\", num_updated_ids)"
   ]
  },
  {
   "cell_type": "code",
   "execution_count": 32,
   "metadata": {},
   "outputs": [
    {
     "data": {
      "text/plain": [
       "[{'url': 'https://benuri.org/video/149-digital-future/',\n",
       "  'is_visited': False,\n",
       "  'visited_date': None,\n",
       "  'is_qualified': False,\n",
       "  'is_to_ingest': False},\n",
       " {'url': 'https://benuri.org/video/150-mental-health-for-the-70-community/',\n",
       "  'is_visited': False,\n",
       "  'visited_date': None,\n",
       "  'is_qualified': False,\n",
       "  'is_to_ingest': False}]"
      ]
     },
     "execution_count": 32,
     "metadata": {},
     "output_type": "execute_result"
    }
   ],
   "source": [
    "web_data_to_add[:2]"
   ]
  },
  {
   "cell_type": "code",
   "execution_count": 63,
   "metadata": {},
   "outputs": [
    {
     "name": "stdout",
     "output_type": "stream",
     "text": [
      "Inserted document ids: ['66acda0f0cc0215c6a0f39be', '66acda0f0cc0215c6a0f39bf', '66acda0f0cc0215c6a0f39c0', '66acda0f0cc0215c6a0f39c1', '66acda0f0cc0215c6a0f39c2', '66acda0f0cc0215c6a0f39c3', '66acda0f0cc0215c6a0f39c4', '66acda0f0cc0215c6a0f39c5', '66acda0f0cc0215c6a0f39c6', '66acda0f0cc0215c6a0f39c7', '66acda0f0cc0215c6a0f39c8', '66acda0f0cc0215c6a0f39c9', '66acda0f0cc0215c6a0f39ca', '66acda0f0cc0215c6a0f39cb', '66acda0f0cc0215c6a0f39cc', '66acda0f0cc0215c6a0f39cd', '66acda0f0cc0215c6a0f39ce', '66acda0f0cc0215c6a0f39cf', '66acda0f0cc0215c6a0f39d0', '66acda0f0cc0215c6a0f39d1', '66acda0f0cc0215c6a0f39d2', '66acda0f0cc0215c6a0f39d3', '66acda0f0cc0215c6a0f39d4']\n"
     ]
    }
   ],
   "source": [
    "# Inserting the data into the collection\n",
    "inserted_ids = insert_documents(web_data_to_add)\n",
    "\n",
    "# Output the inserted documents' IDs\n",
    "print(\"Inserted document ids:\", inserted_ids)"
   ]
  },
  {
   "cell_type": "markdown",
   "metadata": {},
   "source": [
    "# 2. Extract webpages and parse as LangChain's Documents"
   ]
  },
  {
   "cell_type": "code",
   "execution_count": 84,
   "metadata": {},
   "outputs": [
    {
     "data": {
      "text/plain": [
       "9"
      ]
     },
     "execution_count": 84,
     "metadata": {},
     "output_type": "execute_result"
    }
   ],
   "source": [
    "qualified_urls = [data['url'] for data in collection.find({\"is_to_ingest\": True})]\n",
    "\n",
    "len(qualified_urls)"
   ]
  },
  {
   "cell_type": "code",
   "execution_count": 85,
   "metadata": {},
   "outputs": [],
   "source": [
    "from langchain.document_loaders import WebBaseLoader\n",
    "\n",
    "loader = WebBaseLoader(qualified_urls)\n",
    "loader.requests_per_second = 50\n",
    "loader.continue_on_failure = True\n",
    "\n",
    "documents = loader.load()"
   ]
  },
  {
   "cell_type": "code",
   "execution_count": 86,
   "metadata": {},
   "outputs": [
    {
     "data": {
      "text/plain": [
       "list"
      ]
     },
     "execution_count": 86,
     "metadata": {},
     "output_type": "execute_result"
    }
   ],
   "source": [
    "type(documents)"
   ]
  },
  {
   "cell_type": "code",
   "execution_count": 87,
   "metadata": {},
   "outputs": [
    {
     "data": {
      "text/plain": [
       "langchain_core.documents.base.Document"
      ]
     },
     "execution_count": 87,
     "metadata": {},
     "output_type": "execute_result"
    }
   ],
   "source": [
    "type(documents[0])"
   ]
  },
  {
   "cell_type": "code",
   "execution_count": 88,
   "metadata": {},
   "outputs": [
    {
     "data": {
      "text/plain": [
       "Document(metadata={'source': 'https://benuri.org/butv-videos/', 'title': 'BU TV | Ben Uri Gallery and Museum', 'description': 'Watch over 100 short films about artists, exhibitions and Ben Uri’s history and ethos Below are films and video content accompanying Ben Uri exhibitions, curator talks and related events, followed by important interviews reflecting personal experiences about periods and artworks under scrutiny. If you are interested in upcoming videos and...', 'language': 'en'}, page_content='\\n\\n\\n\\n\\n\\nBU TV | Ben Uri Gallery and Museum\\n\\n\\n\\n\\n\\n\\n\\n\\n\\n\\n\\n\\n\\n\\n\\n\\n\\n\\n\\n\\n\\n\\n\\n\\n\\n\\n\\n\\n\\n\\n\\n\\n\\n\\n\\n\\n\\n\\n\\n\\n\\n\\n\\n\\n\\n\\n\\n\\n\\n\\n\\n\\n\\n\\n\\n\\n\\n\\n\\n\\n\\n\\n\\n\\n\\n\\n\\n\\n\\n\\n\\n\\n\\n\\n\\n\\nBen Uri Gallery and Museum\\n\\n\\nSkip to main content\\n\\n\\n\\n\\n\\n\\nMenu\\n\\nHomepage\\nAbout Ben Uri\\nWhat\\'s on\\nVisit Us\\nExhibitions\\nCollections\\nResearch Unit\\nDiaspora Artists\\nMuseum Partnerships\\nEssays / Catalogues\\nBU TV\\nPodcasts\\nBookshop\\nKids Programme\\nArts and Mental Health\\nBloomberg Connects\\nSupport Us\\nContact Us\\nFAQ\\n\\n\\n\\n\\n\\n\\n\\n\\n\\n\\nFacebook, opens in a new tab.Youtube, opens in a new tab.Instagram, opens in a new tab.Twitter, opens in a new tab.LinkedIn, opens in a new tab.Send an email\\n\\n\\n\\n\\n\\n\\n\\n\\n\\n\\n\\n\\n\\n\\nCart\\n\\n\\n0 items\\n\\n£\\n\\n\\n\\n\\n\\n\\nCheckout\\n\\n\\n\\nItem added to cart\\n\\nView cart & checkout\\nContinue shopping\\n\\n\\n\\n\\n\\n\\n\\n\\nFacebook, opens in a new tab.Youtube, opens in a new tab.Instagram, opens in a new tab.Twitter, opens in a new tab.LinkedIn, opens in a new tab.Send an email\\n\\nMenu\\n\\n\\n\\n\\n\\n\\n\\n\\nBU TV\\n\\n\\n\\n\\n\\n\\n\\n\\n\\n\\n\\n\\n\\n\\n\\n\\n\\n\\n\\n\\n\\nBU TV\\n\\n\\n\\n\\nWatch over 100 short films about\\xa0artists, exhibitions and Ben Uri’s history and ethos\\n\\n\\xa0\\nBelow are films and video content accompanying Ben Uri exhibitions, curator talks and related events, followed by important interviews reflecting personal experiences about periods and artworks under scrutiny.\\n\\xa0\\nIf you are interested in upcoming videos and more content, please visit and subscribe to our Youtube channel by clicking\\xa0this link.\\n\\xa0\\n\\n\\n\\n\\n\\n\\n\\n\\nVIDEO OF THE WEEK\\n\\xa0\\n\\n\\n\\n\\n\\n\\n\\n\\n\\n\\nVideo entries\\nYou\\'re Joking, Aren\\'t You? \\nby Rachel Garfield\\n \\n\\n\\n\\n\\n\\nVideos: London Art Fair 2023\\n\\xa0\\n\\n\\n\\n\\n\\n\\n\\n\\n\\n\\n\\nVideo entries\\nUsing Art Differently - Part 1\\nLondon Art Fair 2023\\n \\n\\n\\n\\n\\n\\n\\n\\n\\n\\nVideo entries\\nUsing Art Differently - Part 2\\nLondon Art Fair 2023\\n \\n\\n\\n\\n\\n\\n\\n\\n\\n\\nVideo entries\\nBen Uri’s impact at the London Art Fair 2023 \\n \\n\\n\\n\\n\\n\\n\\n\\n\\n\\nVideo entries\\nBecoming Virtual: History\\nPart 1\\n \\n\\n\\n\\n\\n\\n\\n\\n\\n\\nVideo entries\\nBecoming Virtual: Building\\nPart 2\\n \\n\\n\\n\\n\\n\\n\\n\\n\\n\\nVideo entries\\nBecoming Virtual: Road\\nPart 3\\n \\n\\n\\n\\n\\n\\n\\n\\n\\n\\nVideo entries\\nBecoming Virtual: Vision\\nPart 4\\n \\n\\n\\n\\n\\n\\n\\n\\n\\n\\nVideo entries\\nBecoming Virtual: The Future\\nPart 5\\n \\n\\n\\n\\n\\n\\n\\n\\n\\n\\nVideos: Migration\\n\\xa0\\n\\n\\n\\n\\n\\n\\n\\n\\n\\n\\n\\nVideo entries\\nOPEN COURTAULD HOUR - BRITISH ART, IMMIGRATION AND MIGRATION\\nSeason 3, Episode 2\\n5 November 2020\\nSarah MacDougall speaks at this online event hosted by Leyla Bumbra for The Courtauld Research Forum. Other speakers include: Anna Eavis from English Heritage, Farhanah Mamooje who runs The Ayahs\\'...\\n\\n\\n\\n\\n\\n\\n\\n\\n\\nVideo entries\\n‘INSIDERS/OUTSIDERS’: THE BEN URI ART SOCIETY AND ÉMIGRÉ ARTISTS, 1933-1945\\nSpeaker: Rachel Dickson\\n8 May 2019\\nThe Insiders/Outsiders Festival in 2019 celebrates the indelible contribution of the artists, photographers, writers, architects, designers, actors, film-makers, dancers and musicians, art historians, dealers, collectors, and publishers who, in fleeing...\\n\\n\\n\\n\\n\\n\\n\\n\\n\\nVideo entries\\nIN CONVERSATION: REFUGEE ARTISTS AND THE BEN URI COLLECTION \\n20 June 2021\\nTo mark World Refugee Day, this year on Sunday 20th of June, we are delighted to be hosting a bonus Open Courtauld event. Drop here!     \\n\\n\\n\\n\\n\\n\\n\\n\\n\\nVideo entries\\nBEN URI\\'S POSITION ON IMMIGRATION AND IMMIGRANT ARTISTS TO BRITAIN\\nBen Uri Today: Talks, Interviews and Films on Ben Uri\\'s social and cultural significance \\n28 November 2017\\nChairman and Chief Executive of Ben Uri, David Glasser, explains Ben Uri\\'s endorsement and exhibitions of immigrant and refugee artists to modern Britain.       \\n\\n\\n\\n\\n\\n\\n\\n\\n\\nVideo entries\\nBEN URI\\'S STATEMENT ON ART & THE IMMIGRATION DEBATE\\nBen Uri Today: Talks, Interviews and Films on Ben Uri\\'s social and cultural significance \\n25 February 2014\\nChairman & CEO David Glasser issues a statement from the Ben Uri Gallery and Museum, calling on greater context & balance to be brought to the frenzy of the immigration...\\n\\n\\n\\n\\n\\n\\n\\n\\n\\nVideo entries\\nTHIRTY SIX POUNDS AND FIVE PENCE \\nExhibition Focus\\n4 July 2017\\nIn honour of Refugee Week, Ben Uri Gallery and New Art Studio celebrate “our shared future” through a partnership of refugee and asylum seekers\\' artwork. Contrary to common belief, asylum...\\n\\n\\n\\n\\n\\n\\n\\n\\n\\nVideo entries\\nNOTTING HILL CARNIVAL: THE A-Z OF ELIMU CARNIVAL BAND 1980-2014\\nExhibition Openings: Opening Nights and Private Viewings of BU Exhibitions \\n11 March 2015\\nBen Uri gallery hosted an exhibition curated by Paddington Arts exploring the history of the Elimu Carnival band, formed in 1980 and based at Paddington Arts since 2001. The exhibition...\\n\\n\\n\\n\\n\\n\\n\\n\\n\\nVideo entries\\nMIGRATION, ART AND IDENTITY - SHAK\\nArts and Schools: Films on Ben Uri\\'s Learning and Community programmes \\n29 June 2015\\n \\n\\n\\n\\n\\n\\n\\n\\n\\n\\nVideo entries\\nBEN URI: ART, IDENTITY AND MIGRATION SEMINAR AT SOUTHAMPTON UNIVERSITY\\nExhibition Focus\\n16 April 2014\\nHead of Collections Sarah MacDougall and Ben Uri Chairman David Glasser present their research Art, Identity and Migration — The Spielberg Question, in a seminar at Southampton University on 29th...\\n\\n\\n\\n\\n\\n\\n\\n\\n\\nVideo entries\\nMichelle Franklin interviewed by Sarah MacDougall\\n \\n\\n\\n\\n\\n\\n\\n\\n\\n\\n\\n\\n\\n\\n\\nVideo entries\\nBIRDS OF PASSAGE BOOK 03\\nBy Hormazd Narielwalla\\n \\n\\n\\n\\n\\n\\n\\nVideos: Artists / Exhibitions\\n\\xa0\\n\\n\\n\\n\\n\\n\\n\\n\\n\\n\\nVideo entries\\nART UNLOCKED: BEN URI GALLERY AND MUSEUM\\nTalk given by our Director Sarah MacDougall for ArtUK on 13th October 2021\\nArt Unlocked is an online talk series brought to you by Art UK in collaboration with Bloomberg Philanthropies. Each week, different museum and gallery curators and directors from across the...\\n\\n\\n\\n\\n\\nBomberg\\n\\n\\n\\n\\n\\n\\n\\n\\n\\nVideo entries\\n INTRODUCTION TO DAVID BOMBERG\\nSarah MacDougall and Rachel Dickson talk about Bomberg in the light of the exhibition at Ben Uri Gallery and Museum, 2018\\n28 August 2018\\nBen Uri\\'s Curators, Sarah MacDougall and Rachel Dickson\\'s introduction to David Bomberg in the exhibition at Ben Uri Gallery and Museum, 21 June 2018 - 16 September 2018. Drop here!\\n\\n\\n\\n\\n\\n\\n\\n\\n\\nVideo entries\\nDAVID BOMBERG\\'S \\'GHETTO THEATRE\\' I\\nIn \\'Uproar! The First 50 Years of the London Group\\' exhibition\\n20 May 2014\\nSarah MacDougall, curator of Uproar!\\': The First Fifty Years of The London Group 1913-1963, which was held between 1st November 2013 — 2nd March 2014, discusses David Bomberg\\'s Ghetto Theatre...\\n\\n\\n\\n\\n\\n\\n\\n\\n\\nVideo entries\\nINSIGHT INTO THE BOMBERG EXHIBITION\\nBomberg: Exhibition at Ben Uri Gallery and Museum, 21 June 2018 - 16 September 2018\\n28 August 2018\\n \\n\\n\\n\\n\\n\\n\\n\\n\\n\\nVideo entries\\nA FAMILY PORTRAIT BY CECILY BOMBERG AND JULIET LAMONT\\nBomberg: Exhibition at Ben Uri Gallery and Museum, 21 June 2018 - 16 September 2018\\n28 August 2018\\n \\n\\n\\n\\n\\n\\n\\n\\n\\n\\nVideo entries\\nINTERVIEW WITH LESLIE MARR ON BOMBERG\\nBomberg: Exhibition at Ben Uri Gallery and Museum, 21 June 2018 - 16 September 2018\\n28 August 2018\\n \\n\\n\\n\\n\\n\\n\\n\\n\\n\\nVideo entries\\nINTERVIEW WITH RICHARD CORK ON BOMBERG\\nBomberg: Exhibition at Ben Uri Gallery and Museum, 21 June 2018 - 16 September 2018\\n28 August 2018\\n \\n\\n\\n\\n\\n\\n\\n\\n\\n\\n\\n\\n\\n\\n\\nVideo entries\\nOUT OF CHAOS:PRIVATE VIEW, BEN URI CENTENARY CELEBRATION\\nExhibition Openings: Opening Nights and Private Viewings of BU Exhibitions \\n11 September 2015\\n\\xa0\\n\\xa0\\n\\n\\n\\xa0\\nDrop here!\\n\\n\\n\\n\\n\\n\\n\\nVideos: Gustav Metzger\\n\\n\\n\\n\\n\\n\\n\\n\\n\\nVideo entries\\nCURATOR NICOLA BAIRD ON THE \\'BECOMING GUSTAV METZGER\\' EXHIBITION\\nAs part of the Fritz Ascher Society’s monthly series “Flight or Fight: Stories of Artists Under Repression”\\nBecoming Gustav Metzger curator, Nicola Baird (Ben Uri Research Unit) gives an online lecture to the Fritz Ascher Society, New York. Serving as an in-depth exploration of the early life...\\n\\n\\n\\n\\n\\n\\n\\n\\n\\n\\n\\n\\n\\n\\nVideo entries\\n100 FOR 100: BEN URI\\'S PAST, PRESENT AND FUTURE\\nExhibition Focus\\n7 June 2016\\n\\xa0\\n\\xa0\\n\\n\\n\\xa0\\nDrop here!\\n\\n\\n\\n\\n\\n\\n\\nVideos: Refiguring the 50s\\n\\n\\n\\n\\n\\n\\n\\n\\n\\nVideo entries\\nINTRODUCTION TO \\'REFIGURING THE 50S\\' EXHIBITION\\nExhibition Focus\\n12 November 2014\\nIntroduction to the exhibition, Refiguring the 50s: Joan Eardley, Sheila Fell, Eva Frankfurther, Josef Herman and L S Lowry, curated by Sarah MacDougall.       \\n\\n\\n\\n\\n\\n\\n\\n\\n\\nVideo entries\\nFEMALE PAINTERS IN REFIGURING THE 50S EXHIBITION\\nArtist Focus\\n17 December 2014\\nCurator Sarah MacDougall explores the connections between the female painters whose works form part of the exhibition, Refiguring the 50s. She talks about Joan Eardley, Sheila Fell and Eva Frankfurther.\\n\\n\\n\\n\\n\\n\\n\\n\\n\\nVideo entries\\nMALE PAINTERS IN REFIGURING THE 50S EXHIBITION \\nArtist Focus\\n2 February 2015\\nCurator Sarah MacDougall explores the connections between Josef Herman and L. S. Lowry whose works form part of the Ben Uri exhibition, Refiguring the 50s, held between 14th November 2014...\\n\\n\\n\\n\\n\\n\\n\\n\\n\\n\\n\\n\\n\\n\\nVideo entries\\nA FAREWELL TO ART: CHAGALL, SHAKESPEARE AND PROSPERO EXHIBITION OPENING NIGHT\\nExhibition Openings: Opening Nights and Private Viewings of BU Exhibitions \\n6 November 2017\\n\\xa0\\n\\xa0\\n\\n\\n\\xa0\\nDrop here!\\n\\n\\n\\n\\n\\n\\n\\nMax Weber\\n\\n\\n\\n\\n\\n\\n\\n\\n\\nVideo entries\\nINTRODUCING MAX WEBER, AMERICA\\'S FIRST CUBIST PAINTER\\nArtist Focus\\n14 July 2014\\nWeber expert Dr Percy North introduces American-Jewish artist Max Weber, America\\'s first Cubist painter. He studied with Matisse and developed his cubist style, having been influenced by Picasso.  \\n\\n\\n\\n\\n\\n\\n\\n\\n\\nVideo entries\\nPRIVATE VIEWING OF THE EXHIBITION, MAX WEBER:AN AMERICAN CUBIST IN PARS AND LONDON 1905-15 \\nArtist Focus\\n10 July 2014\\nPrivate view of the Ben Uri exhibition Max Weber: An American Cubist in Paris and London 1905-1915, held on 24th June 2014 at the Ben Uri Gallery and Museum. Max...\\n\\n\\n\\n\\n\\n\\n\\n\\n\\nVideo entries\\nALVIN LANGDON\\'S \\'THE OCTOPUS\\' (1909) AT THE MAX WEBER EXHIBITION \\nArtist Focus\\n14 July 2014\\nWeber expert Dr. Percy North discusses Alvin Langdon Coburn\\'s photography within the context of the Ben Uri exhibition of the work of Coburn\\'s friend and peer, the American-Jewish artist Max...\\n\\n\\n\\n\\n\\n\\n\\n\\n\\nVideo entries\\n\\'DANCE\\' IN THE WORK OF CUBIST ARTIST MAX WEBER AT BEN URI\\nArtist  Focus\\n14 July 2014\\nWeber expert Dr. Percy North discusses the theme of \\'dance\\' in the work of American-Jewish artist Max Weber. This was part of the Ben Uri exhibition, Max Weber: An American...\\n\\n\\n\\n\\n\\n\\n\\n\\n\\nVideo entries\\nCUBIST MAX WEBER\\'S STILL LIFE & PORTRAIT PAINTING\\nArtist Focus\\n4 July 2014\\nProfessor Anna Gruetzner Robins of the University of Reading compares still lifes and portraits featured in the Ben Uri exhibition on Cubist Jewish-American artist Max Weber.    \\n\\n\\n\\n\\n\\n\\n\\n\\n\\nVideo entries\\nCUBIST MAX WEBER\\'S \\'BROOKLYN BRIDGE\\' EXPLAINED\\nArtist Focus\\n4 July 2014\\nProfessor Anna Gruetzner Robins of the University of Reading discusses Cubist artist Max Weber\\'s painting Brooklyn Bridge (1912) and the influence of friend and photographer Alvin Langdon Coburn (1882-1966). \\n\\n\\n\\n\\n\\n\\n\\n\\n\\n\\n\\n\\n\\n\\nVideo entries\\nUNSEEN: LONDON, PARIS & NEW YORK 1940S-1960\\nExhibition Openings: Opening Nights and Private Viewings of BU Exhibitions \\n13 July 2016\\n\\xa0\\n\\xa0\\n\\n\\n\\xa0\\nDrop here!\\n\\n\\n\\n\\n\\n\\n\\nDavid Breuer-Weil\\n\\n\\n\\n\\n\\n\\n\\n\\n\\nVideo entries\\nDAVID BREUER-WEIL | THE COVIAD | BEN URI GALLERY\\n11 April 2021\\n \\n\\n\\n\\n\\n\\n\\n\\n\\n\\nVideo entries\\nGOLDEN DRAWINGS: INSIGHTS BY ARTIST DAVID BREUER-WEIL\\nA guided tour\\n11 April 2021\\nWatch as David Breuer-Weil walks us through his most recent online exhibition with Ben Uri Gallery and Museum — Golden Drawings and the Coviad.      \\n\\n\\n\\n\\n\\n\\n\\n\\n\\n\\n\\n\\n\\n\\nVideo entries\\nMoulding Alderney\\nAn Investigation with Piers Secunda\\n \\n\\n\\n\\n\\n\\n\\n\\n\\n\\n\\n\\nVideo entries\\nYalta 1945 exhibition\\nBBC Russia report\\nWatch a video by the BBC (Russian service) on the Yalta 1945 exhibition . \\n\\n\\n\\n\\n\\nRoman Halter\\n\\n\\n\\n\\n\\n\\n\\n\\n\\nVideo entries\\nROMAN HALTER: LIFE AND ART THROUGH STAINED-GLASS AT BEN URI\\nExhibition Openings: Opening Nights and Private Viewings of BU Exhibitions \\n3 June 2014\\nCuratorial assistant, Thomas Hughes, introduces the work of Roman Halter and explains how stained-glass influences the entirety of his work.          \\n\\n\\n\\n\\n\\n\\n\\n\\n\\nVideo entries\\nROMAN HALTER\\nTalking Art Series: Discussions at the London Jewish Cultural Centre and Ben Uri Gallery and Museum\\n6 July 2014\\nTalk on \\'Roman Halter (1927-2012): Life and Art Through Stained Glass\\' with his son and artist Ardyn Halter, Colin Wiggins of The National Gallery and journalist and filmmaker, Fergal Keane.\\n\\n\\n\\n\\n\\n\\n\\n\\n\\nVideo entries\\nVISITOR AT ROMAN HALTER EXHIBITION\\nExhibition Openings: Opening Nights and Private Viewings of BU Exhibitions \\n3 June 2014\\nA visitor at the Ben Uri Gallery and Museum comments on the work of Roman Halter.              \\n\\n\\n\\n\\n\\n\\n\\n\\n\\nVideo entries\\nROMAN HALTER EXHIBITION AT BEN URI: WATERCOLOURS\\nExhibition Openings: Opening Nights and Private Viewings of BU Exhibitions \\n3 June 2014\\nCuratorial assistant, Thomas Hughes, tells the story behind Roman Halter\\'s fascinating watercolours which were shown at the Ben Uri Gallery and Museum.        \\n\\n\\n\\n\\n\\n\\n\\n\\n\\nVideo entries\\nROMAN HALTER EXHIBITION AT BEN URI: DEINSTALLATION\\nExhibition Openings: Opening Nights and Private Viewings of BU Exhibitions \\n17 June 2014\\nWhat happens to paintings when an exhibition ends? Ben Uri curatorial assistant, Thomas Hughes, explains.               \\n\\n\\n\\n\\n\\n\\n\\n\\n\\n\\n\\n\\n\\n\\nVideo entries\\nJUDY CHICAGO TOURS HER EXHIBITION AT BEN URI GALLERY AND MUSEUM \\nArtist Focus\\n8 March 2013\\nShortened version of the Judy Chicago tour of the Ben Uri exhibition, Judy Chicago and Louise Bourgeois, Helen Chadwick, Tracey Emin: A Transatlantic Dialogue. Judy Chicago is accompanied by contemporary...\\n\\n\\n\\n\\n\\n\\n\\n\\n\\n\\n\\nVideo entries\\n\"ELIZABETH-ANTIQUA\": A FILM ON ELIZABETH FRIEDLÄNDER\\nDirected, written and animated by Pixie Kolesa\\n13 April 2021\\nDirected, written and animated by Pixie Kolesa Elizabeth-Antiqua is a short, animated documentary about Elizabeth Friedländer, the first woman to design a commercial Latin typeface. Friedländer made history while facing...\\n\\n\\n\\n\\n\\n\\n\\n\\n\\n\\n\\nVideo entries\\nBEN URI EXHIBITION \\'SUZANNE PERLMAN PAINTING LONDON\\' OPENING\\nExhibition Openings: Opening Nights and Private Viewings of BU Exhibitions \\n1 June 2014\\nBen Uri\\'s Suzanne Perlman: Painting London exhibition was hosted at The Gallery in Cork Street (30th April — 17th May 2014). The Hungarian ambassador opened the exhibition with the Hungarian-born...\\n\\n\\n\\n\\n\\n\\n\\n\\n\\n\\n\\nVideo entries\\nBEN URI EXHIBITION: \\'SHELL\\' AMATEURS COMMUNITY PHOTOGRAPHY\\nExhibition Openings: Opening Nights and Private Viewings of BU Exhibitions \\n2 April 2014\\nBen Uri exhibited The SHELL Amateurs present Community Photography Exhibition in March 2014. This fascinating exhibition offered a glimpse into the local area of Camden and our neighbouring residents, exploring...\\n\\n\\n\\n\\n\\nTalking art\\n\\xa0\\n\\n\\n\\n\\n\\n\\n\\n\\n\\n\\n\\nVideo entries\\nBEN URI, THE FIRST FULL SCALE VIRTUAL MUSEUM & RESEARCH CENTRE\\n1 January 2021\\n \\n\\n\\n\\n\\n\\n\\n\\n\\n\\nVideo entries\\nDAVID HERMAN TALKS ABOUT HIS FATHER, JOSEF HERMAN\\nJosef Herman: Insights on the Polish Artist and Talks on the Josef Herman Exhibition between 21 September 2011 - 15 January 2012 \\n5 October 2012\\nDavid Herman talks about his father Josef Herman RA at the Josef Herman exhibition at the Ben Uri Gallery and Museum.         \\n\\n\\n\\n\\n\\n\\n\\n\\n\\nVideo entries\\nJAKUB KRUPA\\'S TALK ON POLISH MIGRANTS IN BRITAIN\\nExhibition Focus\\n20 July 2017\\nUK Correspondent Jakub Krupa delivers a fascinating talk about Polish migrants living in Britain.                \\n\\n\\n\\n\\n\\n\\n\\n\\n\\nVideo entries\\nROMAN HALTER\\nTalking Art Series: Discussions at the London Jewish Cultural Centre and Ben Uri Gallery and Museum\\n6 July 2014\\nTalk on \\'Roman Halter (1927-2012): Life and Art Through Stained Glass\\' with his son and artist Ardyn Halter, Colin Wiggins of The National Gallery and journalist and filmmaker, Fergal Keane.\\n\\n\\n\\n\\n\\n\\n\\n\\n\\nVideo entries\\nTALKING ART: ORANGE NIGHT\\nTalking Art Series: Discussions at the London Jewish Cultural Centre and Ben Uri Gallery and Museum\\n31 July 2014\\nCelebrated actress, Thelma Ruby, tells the fascinating life story of internationally acclaimed painter, Sam Bak, who had his first exhibition as a child in a Lithuanian ghetto. Sam Bak then...\\n\\n\\n\\n\\n\\n\\n\\n\\n\\nVideo entries\\n\\'NAZI-LOOTED ART\\' AND YOM HASHOAH\\nTalking Art Series: Discussions at the London Jewish Cultural Centre and Ben Uri Gallery and Museum\\n14 July 2014\\nNew York attorney, Howard Spiegler, discusses the issues surrounding Nazi-looted art.                   \\n\\n\\n\\n\\n\\n\\n\\n\\n\\nVideo entries\\n WHAT MAKES BEN URI DIFFERENT\\nBen Uri Today: Talks, Interviews and Films on Ben Uri\\'s social and cultural significance \\n17 July 2020\\nBen Uri Chairman, David Glasser, discusses Ben Uri\\'s exhibitions. Sep 9, 2015                  \\n\\n\\n\\n\\n\\n\\n\\n\\n\\nVideo entries\\nTHE FUTURE OF JEWISH CULTURAL PROVIDERS POST-COVID\\nA presentation by David Glasser, Chairman of the Ben Uri Gallery and Museum\\n \\n\\n\\n\\n\\n\\n\\n\\n\\nBen Uri Arts and Health\\n\\n\\n\\n\\nCommunity and Schools\\n\\xa0\\n\\n\\n\\n\\n\\n\\n\\n\\n\\n\\n\\nVideo entries\\nWAYS INTO ART: OVERVIEW\\nArts and Health: Films on the Ben Uri Arts and Health Institute (BUAH) \\n30 June 2020\\nFirst of five films: An overview of the Ways into Art programme.                  \\n\\n\\n\\n\\n\\n\\n\\n\\n\\nVideo entries\\nART IN RESIDENCE: BEN URI AT NIGHTINGALE HOUSE - YEAR 1\\nArts and Health: Films on the Ben Uri Arts and Health Institute (BUAH) \\n15 August 2019\\nOverview of the Art in Residence programme.                       \\n\\n\\n\\n\\n\\n\\n\\n\\n\\nVideo entries\\nART IN RESIDENCE: BEN URI AT NIGHTINGALE HOUSE - YEAR 2\\nArts and Health: Films on the Ben Uri Arts and Health Institute (BUAH) \\n14 October 2019\\nOverview of the Art in Residence programme.                       \\n\\n\\n\\n\\n\\n\\n\\n\\n\\nVideo entries\\nINTERVIEW WITH JANE LANDES ABOUT BEN URI\\nBen Uri Today: Talks, Interviews and Films on Ben Uri\\'s social and cultural significance \\n11 September 2015\\nArt therapist, Jane Landes talks about working with Ben Uri in seeking to improve the quality of life for people living with dementia.       \\n\\n\\n\\n\\n\\n\\n\\n\\n\\n\\n\\n\\n\\n\\n\\nVideo entries\\nAFTER SCHOOL ANIMATION CLUB: SHOWREEL FEBRUARY 2018\\nArts and Schools: Films on Ben Uri\\'s Learning and Community programmes \\n15 February 2018\\nA five week After School Family Animation Club. Families responded to Chagall\\'s original lithographs exhibited at the gallery, which illustrate Shakespeare\\'s The Tempest. They devised their stories, made props, shot...\\n\\n\\n\\n\\n\\n\\n\\n\\n\\nVideo entries\\nAFTER SCHOOL FILM CLUB\\nArts and Schools: Films on Ben Uri\\'s Learning and Community programmes \\n22 March 2017\\nA six-week film project conducted by children and parents/carers, which focused on a different aspect of filmmaking each week.           \\n\\n\\n\\n\\n\\n\\n\\n\\n\\nVideo entries\\nBEN URI COMMUNITY PROJECTS\\nArts and Schools: Films on Ben Uri\\'s Learning and Community programmes \\n11 August 2015\\nLondon Locals participant Shoda (with Sienna and Max) shares her experiences of working with SHAK and Ben Uri.            \\n\\n\\n\\n\\n\\n\\n\\n\\n\\nVideo entries\\nJOHN BOYLE FROM SHAK\\nArts and Schools: Films on Ben Uri\\'s Learning and Community programmes \\n5 August 2015\\nDirector of SHAK, John Boyle, talks about the positive impact the collaboration between SHAK and Ben Uri has had on participants.         \\n\\n\\n\\n\\n\\n\\n\\n\\nInterview\\n\\xa0\\n\\n\\n\\n\\n\\n\\n\\n\\n\\n\\n\\nVideo entries\\nINTERVIEW WITH JAKE CHAPMAN\\nBen Uri Today: Talks, Interviews and Films on Ben Uri\\'s social and cultural significance \\n11 September 2015\\nArtist Jake Chapman discusses his artwork and migration.                      \\n\\n\\n\\n\\n\\n\\n\\n\\n\\nVideo entries\\nINTERVIEW WITH DIANNE ABBOTT\\nBen Uri Today: Talks, Interviews and Films on Ben Uri\\'s social and cultural significance \\n11 September 2015\\nDianne Abbott, MP for Hackney North and Stoke Newington, discusses migration and the importance of diversity as it is represented in the Ben Uri collection.     \\n\\n\\n\\n\\n\\n\\n\\n\\n\\nVideo entries\\nINTERVIEW WITH SANDY NAIRNE \\nBen Uri Today: Talks, Interviews and Films on Ben Uri\\'s social and cultural significance \\n11 September 2015\\nWriter and curator Sandy Nairne discusses migration, art, and Ben Uri.                   \\n\\n\\n\\n\\n\\n\\n\\n\\n\\nVideo entries\\nINTERVIEW WITH STUART HOBLEY\\nBen Uri Today: Talks, Interviews and Films on Ben Uri\\'s social and cultural significance \\n9 September 2015\\nStuart Hobley, Head of the Heritage Lottery Fund in London, comments on the intersection of art and heritage explored through the Ben Uri collection.      \\n\\n\\n\\n\\n\\n\\n\\n\\n\\nVideo entries\\nINTERVIEW WITH JACKIE WULLSCHLAGER\\xa0\\nBen Uri Today: Talks, Interviews and Films on Ben Uri\\'s social and cultural significance \\n7 September 2015\\nJackie Wullschlager, Chief Art Critic of The Financial Times, discusses the historical importance of Ben Uri\\'s collection.             \\n\\n\\n\\n\\n\\n\\n\\n\\n\\nVideo entries\\nINTERVIEW WITH ALAN YENTOB\\nBen Uri Today: Talks, Interviews and Films on Ben Uri\\'s social and cultural significance \\n7 September 2015\\nAlan Yentob, Creative Director of the BBC, reflects on how the Ben Uri collection relates to the history of migration in England.        \\n\\n\\n\\n\\n\\n\\n\\n\\n\\n\\n\\n\\n\\n\\n\\nVideo entries\\nBEN URI CHAIR DAVID GLASSER ON THE HISTORY OF BEN URI: PART 1\\nBen Uri Chairman, David Glasser discusses the early years of Ben Uri.\\n20 July 2020\\nSep 7, 2015                           \\n\\n\\n\\n\\n\\n\\n\\n\\n\\nVideo entries\\nBEN URI CHAIR DAVID GLASSER ON THE HISTORY OF BEN URI: PART 2\\nBen Uri Chairman, David Glasser continues his discussion of Ben Uri post WWII and how it has changed and continues to do so in the 21st century.\\n19 July 2020\\nSep 7, 2015                           \\n\\n\\n\\n\\n\\n\\n\\n\\n\\nVideo entries\\nDAVID GLASSER ON THE  STRATEGIC EVOLUTION OF BEN URI: Part 3\\nBen Uri Chairman, David Glasser discusses the evolution of Ben Uri.\\n18 July 2020\\nSep 8, 2015                           \\n\\n\\n\\n\\n\\n\\n\\n\\n\\nVideo entries\\n WHAT MAKES BEN URI DIFFERENT\\nBen Uri Today: Talks, Interviews and Films on Ben Uri\\'s social and cultural significance \\n17 July 2020\\nBen Uri Chairman, David Glasser, discusses Ben Uri\\'s exhibitions. Sep 9, 2015                  \\n\\n\\n\\n\\n\\n\\n\\n\\n\\nVideo entries\\nBEN URI CENTENARY : THE FILM JULY 15\\nBen Uri Today: Talks, Interviews and Films on Ben Uri\\'s social and cultural significance \\n30 June 2015\\nA short film documenting Ben Uri\\'s past, present and future, featuring some of London’s leading artists, curators, critics and museum directors.         \\n\\n\\n\\n\\n\\n\\n\\n\\n\\nVideo entries\\nABOUT BEN URI GALLERY AND MUSEUM\\nBen Uri Today: Talks, Interviews and Films on Ben Uri\\'s social and cultural significance \\n28 June 2012\\nAddress on Ben Uri\\'s collection needing a permanent museum building to be on permanent display in the heart of central London.         \\n\\n\\n\\n\\n\\n\\n\\n\\n\\nVideo entries\\nBEN URI, THE FIRST FULL SCALE VIRTUAL MUSEUM & RESEARCH CENTRE\\n1 January 2021\\n \\n\\n\\n\\n\\n\\n\\n\\n\\n\\nVideo entries\\nQ&A BEN URI\\'S FUTURE\\nSenior members of Ben Uri answering questions on our digital future. \\nBen Uri: Survival & A Purposeful Future With the successful launch last year of Ben Uri as the First Full-scale Virtual Art Museum and Research Centre, and content, engagement and...\\n\\n\\n\\n\\n\\n\\n\\n\\n\\nVideo entries\\nTHE BAGEL PHILOSOPHY\\nBen Uri Today: Talks, Interviews and Films on Ben Uri\\'s social and cultural significance \\n3 February 2016\\nDavid Glasser explains what needs to be done during Ben Uri\\'s next hundred years.                \\n\\n\\n\\n\\n\\n\\n\\n\\n\\nVideo entries\\nDAVID GLASSER SPEAKING AT MUSEUM NEXT CONFERENCE\\nDavid Glasser, Chair of Ben Uri Gallery and Museum, speaking at MuseumNext conference 2021\\n18 June 2021\\n \\n\\n\\n\\n\\n\\n\\n\\n\\n\\n\\n\\n\\n\\n\\nVideo entries\\nShanti Panchal: Interview | Harrow | 13 December 2022\\nCourtesy of Studio International                          \\n\\n\\n\\n\\n\\n\\n\\n\\n\\n\\n\\n\\n\\nBe the first to know – Sign Up here\\n\\n\\n\\n\\n\\nFirst name *\\n\\n\\n\\nLast name *\\n\\n\\n\\nEmail *\\n\\n\\n\\nPhone *\\n\\n\\n\\n\\n\\n\\n\\n\\n\\n\\n\\n\\n\\n\\nSign up\\n\\n\\n\\n\\n\\n            * denotes required fields\\n        \\n\\nThis website uses cookies to improve your experience. If you are not happy with this, you can opt-out below.\\xa0\\n\\xa0\\nRead More\\n\\n\\n\\n\\n\\n\\n\\nVISIT US\\n108a Boundary Road,\\xa0St John’s Wood,\\xa0London,\\xa0NW8 0RH\\nNow open Wednesday to Friday 10 am - 5.30 pm\\nPlease check the dates on\\xa0What\\'s on.\\nadmin@benuri.org\\n\\xa0\\n\\n\\xa0\\n\\n\\n\\nHomepage\\nWhat’s On\\nAbout\\nContact\\nSupport\\n\\n\\nExhibitions\\nCollections\\nResearch Unit\\nEssays / Catalogues\\nLoans\\xa0\\n\\r\\n window.dataLayer = window.dataLayer || []; function gtag(){dataLayer.push(arguments);} gtag(\\'js\\', new Date()); gtag(\\'config\\', \\'AW-315810374\\'); \\r\\n// \\n\\n\\nBU TV\\nPodcasts\\nHealth\\nKids\\nPress\\n\\n\\nFacebook, opens in a new tab.Instagram, opens in a new tab.Twitter, opens in a new tab.Youtube, opens in a new tab.Pinterest, opens in a new tab.LinkedIn, opens in a new tab.Vimeo, opens in a new tab.Artsy, opens in a new tab.Send an email\\n\\n\\n\\n\\nPrivacy Policy\\nAccessibility Policy\\nManage cookies\\n\\n\\n\\n                    Copyright © 2024 Ben Uri Gallery and Museum\\n            \\n\\n                Site by Artlogic\\n        \\n\\n\\n\\n\\n\\n\\n\\n\\n\\nWe use cookies to make our website work more efficiently, to provide you with more personalised services or advertising, and to analyse traffic on our website. For more information please read our cookies policy. If you don\\'t agree to the use of our cookies, the quality of your experience of our website may be lessened.\\n\\nManage cookies\\nAccept \\n\\n\\n\\n\\n\\n\\n\\n\\n\\n\\n\\n\\n\\n\\n\\n\\n\\nCookie preferences\\nCheck the boxes for the cookie categories you allow our site to use\\n\\n\\n\\n\\nCookie options\\n\\n Strictly necessary\\nRequired for the website to function and cannot be disabled.\\n\\n\\n Preferences and functionality\\nImprove your experience on the website by storing choices you make about how it should function.\\n\\n\\n Statistics\\nAllow us to collect anonymous usage data in order to improve the experience on our website.\\n\\n\\n Marketing\\nAllow us to identify our visitors so that we can offer personalised, targeted marketing.\\n\\n\\n\\nSave preferences\\n\\n\\n\\n\\n\\n\\n\\n\\n\\nSelect LanguageEnglishArabicChinese (Simplified)FrenchGermanHindiItalianJapanesePortugueseRussianSpanishHebrewArmenian\\n\\n\\n \\n\\n\\n\\n\\n')"
      ]
     },
     "execution_count": 88,
     "metadata": {},
     "output_type": "execute_result"
    }
   ],
   "source": [
    "documents[0]"
   ]
  },
  {
   "cell_type": "code",
   "execution_count": 89,
   "metadata": {},
   "outputs": [
    {
     "data": {
      "text/plain": [
       "{'source': 'https://benuri.org/butv-videos/',\n",
       " 'title': 'BU TV | Ben Uri Gallery and Museum',\n",
       " 'description': 'Watch over 100 short films about artists, exhibitions and Ben Uri’s history and ethos Below are films and video content accompanying Ben Uri exhibitions, curator talks and related events, followed by important interviews reflecting personal experiences about periods and artworks under scrutiny. If you are interested in upcoming videos and...',\n",
       " 'language': 'en'}"
      ]
     },
     "execution_count": 89,
     "metadata": {},
     "output_type": "execute_result"
    }
   ],
   "source": [
    "documents[0].metadata"
   ]
  },
  {
   "cell_type": "code",
   "execution_count": 90,
   "metadata": {},
   "outputs": [
    {
     "data": {
      "text/plain": [
       "'\\n\\n\\n\\n\\n\\nBU TV | Ben Uri Gallery and Museum\\n\\n\\n\\n\\n\\n\\n\\n\\n\\n\\n\\n\\n\\n\\n\\n\\n\\n\\n\\n\\n\\n\\n\\n\\n\\n\\n\\n\\n\\n\\n\\n\\n\\n\\n\\n\\n\\n\\n\\n\\n\\n\\n\\n\\n\\n\\n\\n\\n\\n\\n\\n\\n\\n\\n\\n\\n\\n\\n\\n\\n\\n\\n\\n\\n\\n\\n\\n\\n\\n\\n\\n\\n\\n\\n\\n\\nBen Uri Gallery and Museum\\n\\n\\nSkip to main content\\n\\n\\n\\n\\n\\n\\nMenu\\n\\nHomepage\\nAbout Ben Uri\\nWhat\\'s on\\nVisit Us\\nExhibitions\\nCollections\\nResearch Unit\\nDiaspora Artists\\nMuseum Partnerships\\nEssays / Catalogues\\nBU TV\\nPodcasts\\nBookshop\\nKids Programme\\nArts and Mental Health\\nBloomberg Connects\\nSupport Us\\nContact Us\\nFAQ\\n\\n\\n\\n\\n\\n\\n\\n\\n\\n\\nFacebook, opens in a new tab.Youtube, opens in a new tab.Instagram, opens in a new tab.Twitter, opens in a new tab.LinkedIn, opens in a new tab.Send an email\\n\\n\\n\\n\\n\\n\\n\\n\\n\\n\\n\\n\\n\\n\\nCart\\n\\n\\n0 items\\n\\n£\\n\\n\\n\\n\\n\\n\\nCheckout\\n\\n\\n\\nItem added to cart\\n\\nView cart & checkout\\nContinue shopping\\n\\n\\n\\n\\n\\n\\n\\n\\nFacebook, opens in a new tab.Youtube, opens in a new tab.Instagram, opens in a new tab.Twitter, opens in a new tab.LinkedIn, opens in a new tab.Send an email\\n\\nMenu\\n\\n\\n\\n\\n\\n\\n\\n\\nBU TV\\n\\n\\n\\n\\n\\n\\n\\n\\n\\n\\n\\n\\n\\n\\n\\n\\n\\n\\n\\n\\n\\nBU TV\\n\\n\\n\\n\\nWatch over 100 short films about\\xa0artists, exhibitions and Ben Uri’s history and ethos\\n\\n\\xa0\\nBelow are films and video content accompanying Ben Uri exhibitions, curator talks and related events, followed by important interviews reflecting personal experiences about periods and artworks under scrutiny.\\n\\xa0\\nIf you are interested in upcoming videos and more content, please visit and subscribe to our Youtube channel by clicking\\xa0this link.\\n\\xa0\\n\\n\\n\\n\\n\\n\\n\\n\\nVIDEO OF THE WEEK\\n\\xa0\\n\\n\\n\\n\\n\\n\\n\\n\\n\\n\\nVideo entries\\nYou\\'re Joking, Aren\\'t You? \\nby Rachel Garfield\\n \\n\\n\\n\\n\\n\\nVideos: London Art Fair 2023\\n\\xa0\\n\\n\\n\\n\\n\\n\\n\\n\\n\\n\\n\\nVideo entries\\nUsing Art Differently - Part 1\\nLondon Art Fair 2023\\n \\n\\n\\n\\n\\n\\n\\n\\n\\n\\nVideo entries\\nUsing Art Differently - Part 2\\nLondon Art Fair 2023\\n \\n\\n\\n\\n\\n\\n\\n\\n\\n\\nVideo entries\\nBen Uri’s impact at the London Art Fair 2023 \\n \\n\\n\\n\\n\\n\\n\\n\\n\\n\\nVideo entries\\nBecoming Virtual: History\\nPart 1\\n \\n\\n\\n\\n\\n\\n\\n\\n\\n\\nVideo entries\\nBecoming Virtual: Building\\nPart 2\\n \\n\\n\\n\\n\\n\\n\\n\\n\\n\\nVideo entries\\nBecoming Virtual: Road\\nPart 3\\n \\n\\n\\n\\n\\n\\n\\n\\n\\n\\nVideo entries\\nBecoming Virtual: Vision\\nPart 4\\n \\n\\n\\n\\n\\n\\n\\n\\n\\n\\nVideo entries\\nBecoming Virtual: The Future\\nPart 5\\n \\n\\n\\n\\n\\n\\n\\n\\n\\n\\nVideos: Migration\\n\\xa0\\n\\n\\n\\n\\n\\n\\n\\n\\n\\n\\n\\nVideo entries\\nOPEN COURTAULD HOUR - BRITISH ART, IMMIGRATION AND MIGRATION\\nSeason 3, Episode 2\\n5 November 2020\\nSarah MacDougall speaks at this online event hosted by Leyla Bumbra for The Courtauld Research Forum. Other speakers include: Anna Eavis from English Heritage, Farhanah Mamooje who runs The Ayahs\\'...\\n\\n\\n\\n\\n\\n\\n\\n\\n\\nVideo entries\\n‘INSIDERS/OUTSIDERS’: THE BEN URI ART SOCIETY AND ÉMIGRÉ ARTISTS, 1933-1945\\nSpeaker: Rachel Dickson\\n8 May 2019\\nThe Insiders/Outsiders Festival in 2019 celebrates the indelible contribution of the artists, photographers, writers, architects, designers, actors, film-makers, dancers and musicians, art historians, dealers, collectors, and publishers who, in fleeing...\\n\\n\\n\\n\\n\\n\\n\\n\\n\\nVideo entries\\nIN CONVERSATION: REFUGEE ARTISTS AND THE BEN URI COLLECTION \\n20 June 2021\\nTo mark World Refugee Day, this year on Sunday 20th of June, we are delighted to be hosting a bonus Open Courtauld event. Drop here!     \\n\\n\\n\\n\\n\\n\\n\\n\\n\\nVideo entries\\nBEN URI\\'S POSITION ON IMMIGRATION AND IMMIGRANT ARTISTS TO BRITAIN\\nBen Uri Today: Talks, Interviews and Films on Ben Uri\\'s social and cultural significance \\n28 November 2017\\nChairman and Chief Executive of Ben Uri, David Glasser, explains Ben Uri\\'s endorsement and exhibitions of immigrant and refugee artists to modern Britain.       \\n\\n\\n\\n\\n\\n\\n\\n\\n\\nVideo entries\\nBEN URI\\'S STATEMENT ON ART & THE IMMIGRATION DEBATE\\nBen Uri Today: Talks, Interviews and Films on Ben Uri\\'s social and cultural significance \\n25 February 2014\\nChairman & CEO David Glasser issues a statement from the Ben Uri Gallery and Museum, calling on greater context & balance to be brought to the frenzy of the immigration...\\n\\n\\n\\n\\n\\n\\n\\n\\n\\nVideo entries\\nTHIRTY SIX POUNDS AND FIVE PENCE \\nExhibition Focus\\n4 July 2017\\nIn honour of Refugee Week, Ben Uri Gallery and New Art Studio celebrate “our shared future” through a partnership of refugee and asylum seekers\\' artwork. Contrary to common belief, asylum...\\n\\n\\n\\n\\n\\n\\n\\n\\n\\nVideo entries\\nNOTTING HILL CARNIVAL: THE A-Z OF ELIMU CARNIVAL BAND 1980-2014\\nExhibition Openings: Opening Nights and Private Viewings of BU Exhibitions \\n11 March 2015\\nBen Uri gallery hosted an exhibition curated by Paddington Arts exploring the history of the Elimu Carnival band, formed in 1980 and based at Paddington Arts since 2001. The exhibition...\\n\\n\\n\\n\\n\\n\\n\\n\\n\\nVideo entries\\nMIGRATION, ART AND IDENTITY - SHAK\\nArts and Schools: Films on Ben Uri\\'s Learning and Community programmes \\n29 June 2015\\n \\n\\n\\n\\n\\n\\n\\n\\n\\n\\nVideo entries\\nBEN URI: ART, IDENTITY AND MIGRATION SEMINAR AT SOUTHAMPTON UNIVERSITY\\nExhibition Focus\\n16 April 2014\\nHead of Collections Sarah MacDougall and Ben Uri Chairman David Glasser present their research Art, Identity and Migration — The Spielberg Question, in a seminar at Southampton University on 29th...\\n\\n\\n\\n\\n\\n\\n\\n\\n\\nVideo entries\\nMichelle Franklin interviewed by Sarah MacDougall\\n \\n\\n\\n\\n\\n\\n\\n\\n\\n\\n\\n\\n\\n\\n\\nVideo entries\\nBIRDS OF PASSAGE BOOK 03\\nBy Hormazd Narielwalla\\n \\n\\n\\n\\n\\n\\n\\nVideos: Artists / Exhibitions\\n\\xa0\\n\\n\\n\\n\\n\\n\\n\\n\\n\\n\\nVideo entries\\nART UNLOCKED: BEN URI GALLERY AND MUSEUM\\nTalk given by our Director Sarah MacDougall for ArtUK on 13th October 2021\\nArt Unlocked is an online talk series brought to you by Art UK in collaboration with Bloomberg Philanthropies. Each week, different museum and gallery curators and directors from across the...\\n\\n\\n\\n\\n\\nBomberg\\n\\n\\n\\n\\n\\n\\n\\n\\n\\nVideo entries\\n INTRODUCTION TO DAVID BOMBERG\\nSarah MacDougall and Rachel Dickson talk about Bomberg in the light of the exhibition at Ben Uri Gallery and Museum, 2018\\n28 August 2018\\nBen Uri\\'s Curators, Sarah MacDougall and Rachel Dickson\\'s introduction to David Bomberg in the exhibition at Ben Uri Gallery and Museum, 21 June 2018 - 16 September 2018. Drop here!\\n\\n\\n\\n\\n\\n\\n\\n\\n\\nVideo entries\\nDAVID BOMBERG\\'S \\'GHETTO THEATRE\\' I\\nIn \\'Uproar! The First 50 Years of the London Group\\' exhibition\\n20 May 2014\\nSarah MacDougall, curator of Uproar!\\': The First Fifty Years of The London Group 1913-1963, which was held between 1st November 2013 — 2nd March 2014, discusses David Bomberg\\'s Ghetto Theatre...\\n\\n\\n\\n\\n\\n\\n\\n\\n\\nVideo entries\\nINSIGHT INTO THE BOMBERG EXHIBITION\\nBomberg: Exhibition at Ben Uri Gallery and Museum, 21 June 2018 - 16 September 2018\\n28 August 2018\\n \\n\\n\\n\\n\\n\\n\\n\\n\\n\\nVideo entries\\nA FAMILY PORTRAIT BY CECILY BOMBERG AND JULIET LAMONT\\nBomberg: Exhibition at Ben Uri Gallery and Museum, 21 June 2018 - 16 September 2018\\n28 August 2018\\n \\n\\n\\n\\n\\n\\n\\n\\n\\n\\nVideo entries\\nINTERVIEW WITH LESLIE MARR ON BOMBERG\\nBomberg: Exhibition at Ben Uri Gallery and Museum, 21 June 2018 - 16 September 2018\\n28 August 2018\\n \\n\\n\\n\\n\\n\\n\\n\\n\\n\\nVideo entries\\nINTERVIEW WITH RICHARD CORK ON BOMBERG\\nBomberg: Exhibition at Ben Uri Gallery and Museum, 21 June 2018 - 16 September 2018\\n28 August 2018\\n \\n\\n\\n\\n\\n\\n\\n\\n\\n\\n\\n\\n\\n\\n\\nVideo entries\\nOUT OF CHAOS:PRIVATE VIEW, BEN URI CENTENARY CELEBRATION\\nExhibition Openings: Opening Nights and Private Viewings of BU Exhibitions \\n11 September 2015\\n\\xa0\\n\\xa0\\n\\n\\n\\xa0\\nDrop here!\\n\\n\\n\\n\\n\\n\\n\\nVideos: Gustav Metzger\\n\\n\\n\\n\\n\\n\\n\\n\\n\\nVideo entries\\nCURATOR NICOLA BAIRD ON THE \\'BECOMING GUSTAV METZGER\\' EXHIBITION\\nAs part of the Fritz Ascher Society’s monthly series “Flight or Fight: Stories of Artists Under Repression”\\nBecoming Gustav Metzger curator, Nicola Baird (Ben Uri Research Unit) gives an online lecture to the Fritz Ascher Society, New York. Serving as an in-depth exploration of the early life...\\n\\n\\n\\n\\n\\n\\n\\n\\n\\n\\n\\n\\n\\n\\nVideo entries\\n100 FOR 100: BEN URI\\'S PAST, PRESENT AND FUTURE\\nExhibition Focus\\n7 June 2016\\n\\xa0\\n\\xa0\\n\\n\\n\\xa0\\nDrop here!\\n\\n\\n\\n\\n\\n\\n\\nVideos: Refiguring the 50s\\n\\n\\n\\n\\n\\n\\n\\n\\n\\nVideo entries\\nINTRODUCTION TO \\'REFIGURING THE 50S\\' EXHIBITION\\nExhibition Focus\\n12 November 2014\\nIntroduction to the exhibition, Refiguring the 50s: Joan Eardley, Sheila Fell, Eva Frankfurther, Josef Herman and L S Lowry, curated by Sarah MacDougall.       \\n\\n\\n\\n\\n\\n\\n\\n\\n\\nVideo entries\\nFEMALE PAINTERS IN REFIGURING THE 50S EXHIBITION\\nArtist Focus\\n17 December 2014\\nCurator Sarah MacDougall explores the connections between the female painters whose works form part of the exhibition, Refiguring the 50s. She talks about Joan Eardley, Sheila Fell and Eva Frankfurther.\\n\\n\\n\\n\\n\\n\\n\\n\\n\\nVideo entries\\nMALE PAINTERS IN REFIGURING THE 50S EXHIBITION \\nArtist Focus\\n2 February 2015\\nCurator Sarah MacDougall explores the connections between Josef Herman and L. S. Lowry whose works form part of the Ben Uri exhibition, Refiguring the 50s, held between 14th November 2014...\\n\\n\\n\\n\\n\\n\\n\\n\\n\\n\\n\\n\\n\\n\\nVideo entries\\nA FAREWELL TO ART: CHAGALL, SHAKESPEARE AND PROSPERO EXHIBITION OPENING NIGHT\\nExhibition Openings: Opening Nights and Private Viewings of BU Exhibitions \\n6 November 2017\\n\\xa0\\n\\xa0\\n\\n\\n\\xa0\\nDrop here!\\n\\n\\n\\n\\n\\n\\n\\nMax Weber\\n\\n\\n\\n\\n\\n\\n\\n\\n\\nVideo entries\\nINTRODUCING MAX WEBER, AMERICA\\'S FIRST CUBIST PAINTER\\nArtist Focus\\n14 July 2014\\nWeber expert Dr Percy North introduces American-Jewish artist Max Weber, America\\'s first Cubist painter. He studied with Matisse and developed his cubist style, having been influenced by Picasso.  \\n\\n\\n\\n\\n\\n\\n\\n\\n\\nVideo entries\\nPRIVATE VIEWING OF THE EXHIBITION, MAX WEBER:AN AMERICAN CUBIST IN PARS AND LONDON 1905-15 \\nArtist Focus\\n10 July 2014\\nPrivate view of the Ben Uri exhibition Max Weber: An American Cubist in Paris and London 1905-1915, held on 24th June 2014 at the Ben Uri Gallery and Museum. Max...\\n\\n\\n\\n\\n\\n\\n\\n\\n\\nVideo entries\\nALVIN LANGDON\\'S \\'THE OCTOPUS\\' (1909) AT THE MAX WEBER EXHIBITION \\nArtist Focus\\n14 July 2014\\nWeber expert Dr. Percy North discusses Alvin Langdon Coburn\\'s photography within the context of the Ben Uri exhibition of the work of Coburn\\'s friend and peer, the American-Jewish artist Max...\\n\\n\\n\\n\\n\\n\\n\\n\\n\\nVideo entries\\n\\'DANCE\\' IN THE WORK OF CUBIST ARTIST MAX WEBER AT BEN URI\\nArtist  Focus\\n14 July 2014\\nWeber expert Dr. Percy North discusses the theme of \\'dance\\' in the work of American-Jewish artist Max Weber. This was part of the Ben Uri exhibition, Max Weber: An American...\\n\\n\\n\\n\\n\\n\\n\\n\\n\\nVideo entries\\nCUBIST MAX WEBER\\'S STILL LIFE & PORTRAIT PAINTING\\nArtist Focus\\n4 July 2014\\nProfessor Anna Gruetzner Robins of the University of Reading compares still lifes and portraits featured in the Ben Uri exhibition on Cubist Jewish-American artist Max Weber.    \\n\\n\\n\\n\\n\\n\\n\\n\\n\\nVideo entries\\nCUBIST MAX WEBER\\'S \\'BROOKLYN BRIDGE\\' EXPLAINED\\nArtist Focus\\n4 July 2014\\nProfessor Anna Gruetzner Robins of the University of Reading discusses Cubist artist Max Weber\\'s painting Brooklyn Bridge (1912) and the influence of friend and photographer Alvin Langdon Coburn (1882-1966). \\n\\n\\n\\n\\n\\n\\n\\n\\n\\n\\n\\n\\n\\n\\nVideo entries\\nUNSEEN: LONDON, PARIS & NEW YORK 1940S-1960\\nExhibition Openings: Opening Nights and Private Viewings of BU Exhibitions \\n13 July 2016\\n\\xa0\\n\\xa0\\n\\n\\n\\xa0\\nDrop here!\\n\\n\\n\\n\\n\\n\\n\\nDavid Breuer-Weil\\n\\n\\n\\n\\n\\n\\n\\n\\n\\nVideo entries\\nDAVID BREUER-WEIL | THE COVIAD | BEN URI GALLERY\\n11 April 2021\\n \\n\\n\\n\\n\\n\\n\\n\\n\\n\\nVideo entries\\nGOLDEN DRAWINGS: INSIGHTS BY ARTIST DAVID BREUER-WEIL\\nA guided tour\\n11 April 2021\\nWatch as David Breuer-Weil walks us through his most recent online exhibition with Ben Uri Gallery and Museum — Golden Drawings and the Coviad.      \\n\\n\\n\\n\\n\\n\\n\\n\\n\\n\\n\\n\\n\\n\\nVideo entries\\nMoulding Alderney\\nAn Investigation with Piers Secunda\\n \\n\\n\\n\\n\\n\\n\\n\\n\\n\\n\\n\\nVideo entries\\nYalta 1945 exhibition\\nBBC Russia report\\nWatch a video by the BBC (Russian service) on the Yalta 1945 exhibition . \\n\\n\\n\\n\\n\\nRoman Halter\\n\\n\\n\\n\\n\\n\\n\\n\\n\\nVideo entries\\nROMAN HALTER: LIFE AND ART THROUGH STAINED-GLASS AT BEN URI\\nExhibition Openings: Opening Nights and Private Viewings of BU Exhibitions \\n3 June 2014\\nCuratorial assistant, Thomas Hughes, introduces the work of Roman Halter and explains how stained-glass influences the entirety of his work.          \\n\\n\\n\\n\\n\\n\\n\\n\\n\\nVideo entries\\nROMAN HALTER\\nTalking Art Series: Discussions at the London Jewish Cultural Centre and Ben Uri Gallery and Museum\\n6 July 2014\\nTalk on \\'Roman Halter (1927-2012): Life and Art Through Stained Glass\\' with his son and artist Ardyn Halter, Colin Wiggins of The National Gallery and journalist and filmmaker, Fergal Keane.\\n\\n\\n\\n\\n\\n\\n\\n\\n\\nVideo entries\\nVISITOR AT ROMAN HALTER EXHIBITION\\nExhibition Openings: Opening Nights and Private Viewings of BU Exhibitions \\n3 June 2014\\nA visitor at the Ben Uri Gallery and Museum comments on the work of Roman Halter.              \\n\\n\\n\\n\\n\\n\\n\\n\\n\\nVideo entries\\nROMAN HALTER EXHIBITION AT BEN URI: WATERCOLOURS\\nExhibition Openings: Opening Nights and Private Viewings of BU Exhibitions \\n3 June 2014\\nCuratorial assistant, Thomas Hughes, tells the story behind Roman Halter\\'s fascinating watercolours which were shown at the Ben Uri Gallery and Museum.        \\n\\n\\n\\n\\n\\n\\n\\n\\n\\nVideo entries\\nROMAN HALTER EXHIBITION AT BEN URI: DEINSTALLATION\\nExhibition Openings: Opening Nights and Private Viewings of BU Exhibitions \\n17 June 2014\\nWhat happens to paintings when an exhibition ends? Ben Uri curatorial assistant, Thomas Hughes, explains.               \\n\\n\\n\\n\\n\\n\\n\\n\\n\\n\\n\\n\\n\\n\\nVideo entries\\nJUDY CHICAGO TOURS HER EXHIBITION AT BEN URI GALLERY AND MUSEUM \\nArtist Focus\\n8 March 2013\\nShortened version of the Judy Chicago tour of the Ben Uri exhibition, Judy Chicago and Louise Bourgeois, Helen Chadwick, Tracey Emin: A Transatlantic Dialogue. Judy Chicago is accompanied by contemporary...\\n\\n\\n\\n\\n\\n\\n\\n\\n\\n\\n\\nVideo entries\\n\"ELIZABETH-ANTIQUA\": A FILM ON ELIZABETH FRIEDLÄNDER\\nDirected, written and animated by Pixie Kolesa\\n13 April 2021\\nDirected, written and animated by Pixie Kolesa Elizabeth-Antiqua is a short, animated documentary about Elizabeth Friedländer, the first woman to design a commercial Latin typeface. Friedländer made history while facing...\\n\\n\\n\\n\\n\\n\\n\\n\\n\\n\\n\\nVideo entries\\nBEN URI EXHIBITION \\'SUZANNE PERLMAN PAINTING LONDON\\' OPENING\\nExhibition Openings: Opening Nights and Private Viewings of BU Exhibitions \\n1 June 2014\\nBen Uri\\'s Suzanne Perlman: Painting London exhibition was hosted at The Gallery in Cork Street (30th April — 17th May 2014). The Hungarian ambassador opened the exhibition with the Hungarian-born...\\n\\n\\n\\n\\n\\n\\n\\n\\n\\n\\n\\nVideo entries\\nBEN URI EXHIBITION: \\'SHELL\\' AMATEURS COMMUNITY PHOTOGRAPHY\\nExhibition Openings: Opening Nights and Private Viewings of BU Exhibitions \\n2 April 2014\\nBen Uri exhibited The SHELL Amateurs present Community Photography Exhibition in March 2014. This fascinating exhibition offered a glimpse into the local area of Camden and our neighbouring residents, exploring...\\n\\n\\n\\n\\n\\nTalking art\\n\\xa0\\n\\n\\n\\n\\n\\n\\n\\n\\n\\n\\n\\nVideo entries\\nBEN URI, THE FIRST FULL SCALE VIRTUAL MUSEUM & RESEARCH CENTRE\\n1 January 2021\\n \\n\\n\\n\\n\\n\\n\\n\\n\\n\\nVideo entries\\nDAVID HERMAN TALKS ABOUT HIS FATHER, JOSEF HERMAN\\nJosef Herman: Insights on the Polish Artist and Talks on the Josef Herman Exhibition between 21 September 2011 - 15 January 2012 \\n5 October 2012\\nDavid Herman talks about his father Josef Herman RA at the Josef Herman exhibition at the Ben Uri Gallery and Museum.         \\n\\n\\n\\n\\n\\n\\n\\n\\n\\nVideo entries\\nJAKUB KRUPA\\'S TALK ON POLISH MIGRANTS IN BRITAIN\\nExhibition Focus\\n20 July 2017\\nUK Correspondent Jakub Krupa delivers a fascinating talk about Polish migrants living in Britain.                \\n\\n\\n\\n\\n\\n\\n\\n\\n\\nVideo entries\\nROMAN HALTER\\nTalking Art Series: Discussions at the London Jewish Cultural Centre and Ben Uri Gallery and Museum\\n6 July 2014\\nTalk on \\'Roman Halter (1927-2012): Life and Art Through Stained Glass\\' with his son and artist Ardyn Halter, Colin Wiggins of The National Gallery and journalist and filmmaker, Fergal Keane.\\n\\n\\n\\n\\n\\n\\n\\n\\n\\nVideo entries\\nTALKING ART: ORANGE NIGHT\\nTalking Art Series: Discussions at the London Jewish Cultural Centre and Ben Uri Gallery and Museum\\n31 July 2014\\nCelebrated actress, Thelma Ruby, tells the fascinating life story of internationally acclaimed painter, Sam Bak, who had his first exhibition as a child in a Lithuanian ghetto. Sam Bak then...\\n\\n\\n\\n\\n\\n\\n\\n\\n\\nVideo entries\\n\\'NAZI-LOOTED ART\\' AND YOM HASHOAH\\nTalking Art Series: Discussions at the London Jewish Cultural Centre and Ben Uri Gallery and Museum\\n14 July 2014\\nNew York attorney, Howard Spiegler, discusses the issues surrounding Nazi-looted art.                   \\n\\n\\n\\n\\n\\n\\n\\n\\n\\nVideo entries\\n WHAT MAKES BEN URI DIFFERENT\\nBen Uri Today: Talks, Interviews and Films on Ben Uri\\'s social and cultural significance \\n17 July 2020\\nBen Uri Chairman, David Glasser, discusses Ben Uri\\'s exhibitions. Sep 9, 2015                  \\n\\n\\n\\n\\n\\n\\n\\n\\n\\nVideo entries\\nTHE FUTURE OF JEWISH CULTURAL PROVIDERS POST-COVID\\nA presentation by David Glasser, Chairman of the Ben Uri Gallery and Museum\\n \\n\\n\\n\\n\\n\\n\\n\\n\\nBen Uri Arts and Health\\n\\n\\n\\n\\nCommunity and Schools\\n\\xa0\\n\\n\\n\\n\\n\\n\\n\\n\\n\\n\\n\\nVideo entries\\nWAYS INTO ART: OVERVIEW\\nArts and Health: Films on the Ben Uri Arts and Health Institute (BUAH) \\n30 June 2020\\nFirst of five films: An overview of the Ways into Art programme.                  \\n\\n\\n\\n\\n\\n\\n\\n\\n\\nVideo entries\\nART IN RESIDENCE: BEN URI AT NIGHTINGALE HOUSE - YEAR 1\\nArts and Health: Films on the Ben Uri Arts and Health Institute (BUAH) \\n15 August 2019\\nOverview of the Art in Residence programme.                       \\n\\n\\n\\n\\n\\n\\n\\n\\n\\nVideo entries\\nART IN RESIDENCE: BEN URI AT NIGHTINGALE HOUSE - YEAR 2\\nArts and Health: Films on the Ben Uri Arts and Health Institute (BUAH) \\n14 October 2019\\nOverview of the Art in Residence programme.                       \\n\\n\\n\\n\\n\\n\\n\\n\\n\\nVideo entries\\nINTERVIEW WITH JANE LANDES ABOUT BEN URI\\nBen Uri Today: Talks, Interviews and Films on Ben Uri\\'s social and cultural significance \\n11 September 2015\\nArt therapist, Jane Landes talks about working with Ben Uri in seeking to improve the quality of life for people living with dementia.       \\n\\n\\n\\n\\n\\n\\n\\n\\n\\n\\n\\n\\n\\n\\n\\nVideo entries\\nAFTER SCHOOL ANIMATION CLUB: SHOWREEL FEBRUARY 2018\\nArts and Schools: Films on Ben Uri\\'s Learning and Community programmes \\n15 February 2018\\nA five week After School Family Animation Club. Families responded to Chagall\\'s original lithographs exhibited at the gallery, which illustrate Shakespeare\\'s The Tempest. They devised their stories, made props, shot...\\n\\n\\n\\n\\n\\n\\n\\n\\n\\nVideo entries\\nAFTER SCHOOL FILM CLUB\\nArts and Schools: Films on Ben Uri\\'s Learning and Community programmes \\n22 March 2017\\nA six-week film project conducted by children and parents/carers, which focused on a different aspect of filmmaking each week.           \\n\\n\\n\\n\\n\\n\\n\\n\\n\\nVideo entries\\nBEN URI COMMUNITY PROJECTS\\nArts and Schools: Films on Ben Uri\\'s Learning and Community programmes \\n11 August 2015\\nLondon Locals participant Shoda (with Sienna and Max) shares her experiences of working with SHAK and Ben Uri.            \\n\\n\\n\\n\\n\\n\\n\\n\\n\\nVideo entries\\nJOHN BOYLE FROM SHAK\\nArts and Schools: Films on Ben Uri\\'s Learning and Community programmes \\n5 August 2015\\nDirector of SHAK, John Boyle, talks about the positive impact the collaboration between SHAK and Ben Uri has had on participants.         \\n\\n\\n\\n\\n\\n\\n\\n\\nInterview\\n\\xa0\\n\\n\\n\\n\\n\\n\\n\\n\\n\\n\\n\\nVideo entries\\nINTERVIEW WITH JAKE CHAPMAN\\nBen Uri Today: Talks, Interviews and Films on Ben Uri\\'s social and cultural significance \\n11 September 2015\\nArtist Jake Chapman discusses his artwork and migration.                      \\n\\n\\n\\n\\n\\n\\n\\n\\n\\nVideo entries\\nINTERVIEW WITH DIANNE ABBOTT\\nBen Uri Today: Talks, Interviews and Films on Ben Uri\\'s social and cultural significance \\n11 September 2015\\nDianne Abbott, MP for Hackney North and Stoke Newington, discusses migration and the importance of diversity as it is represented in the Ben Uri collection.     \\n\\n\\n\\n\\n\\n\\n\\n\\n\\nVideo entries\\nINTERVIEW WITH SANDY NAIRNE \\nBen Uri Today: Talks, Interviews and Films on Ben Uri\\'s social and cultural significance \\n11 September 2015\\nWriter and curator Sandy Nairne discusses migration, art, and Ben Uri.                   \\n\\n\\n\\n\\n\\n\\n\\n\\n\\nVideo entries\\nINTERVIEW WITH STUART HOBLEY\\nBen Uri Today: Talks, Interviews and Films on Ben Uri\\'s social and cultural significance \\n9 September 2015\\nStuart Hobley, Head of the Heritage Lottery Fund in London, comments on the intersection of art and heritage explored through the Ben Uri collection.      \\n\\n\\n\\n\\n\\n\\n\\n\\n\\nVideo entries\\nINTERVIEW WITH JACKIE WULLSCHLAGER\\xa0\\nBen Uri Today: Talks, Interviews and Films on Ben Uri\\'s social and cultural significance \\n7 September 2015\\nJackie Wullschlager, Chief Art Critic of The Financial Times, discusses the historical importance of Ben Uri\\'s collection.             \\n\\n\\n\\n\\n\\n\\n\\n\\n\\nVideo entries\\nINTERVIEW WITH ALAN YENTOB\\nBen Uri Today: Talks, Interviews and Films on Ben Uri\\'s social and cultural significance \\n7 September 2015\\nAlan Yentob, Creative Director of the BBC, reflects on how the Ben Uri collection relates to the history of migration in England.        \\n\\n\\n\\n\\n\\n\\n\\n\\n\\n\\n\\n\\n\\n\\n\\nVideo entries\\nBEN URI CHAIR DAVID GLASSER ON THE HISTORY OF BEN URI: PART 1\\nBen Uri Chairman, David Glasser discusses the early years of Ben Uri.\\n20 July 2020\\nSep 7, 2015                           \\n\\n\\n\\n\\n\\n\\n\\n\\n\\nVideo entries\\nBEN URI CHAIR DAVID GLASSER ON THE HISTORY OF BEN URI: PART 2\\nBen Uri Chairman, David Glasser continues his discussion of Ben Uri post WWII and how it has changed and continues to do so in the 21st century.\\n19 July 2020\\nSep 7, 2015                           \\n\\n\\n\\n\\n\\n\\n\\n\\n\\nVideo entries\\nDAVID GLASSER ON THE  STRATEGIC EVOLUTION OF BEN URI: Part 3\\nBen Uri Chairman, David Glasser discusses the evolution of Ben Uri.\\n18 July 2020\\nSep 8, 2015                           \\n\\n\\n\\n\\n\\n\\n\\n\\n\\nVideo entries\\n WHAT MAKES BEN URI DIFFERENT\\nBen Uri Today: Talks, Interviews and Films on Ben Uri\\'s social and cultural significance \\n17 July 2020\\nBen Uri Chairman, David Glasser, discusses Ben Uri\\'s exhibitions. Sep 9, 2015                  \\n\\n\\n\\n\\n\\n\\n\\n\\n\\nVideo entries\\nBEN URI CENTENARY : THE FILM JULY 15\\nBen Uri Today: Talks, Interviews and Films on Ben Uri\\'s social and cultural significance \\n30 June 2015\\nA short film documenting Ben Uri\\'s past, present and future, featuring some of London’s leading artists, curators, critics and museum directors.         \\n\\n\\n\\n\\n\\n\\n\\n\\n\\nVideo entries\\nABOUT BEN URI GALLERY AND MUSEUM\\nBen Uri Today: Talks, Interviews and Films on Ben Uri\\'s social and cultural significance \\n28 June 2012\\nAddress on Ben Uri\\'s collection needing a permanent museum building to be on permanent display in the heart of central London.         \\n\\n\\n\\n\\n\\n\\n\\n\\n\\nVideo entries\\nBEN URI, THE FIRST FULL SCALE VIRTUAL MUSEUM & RESEARCH CENTRE\\n1 January 2021\\n \\n\\n\\n\\n\\n\\n\\n\\n\\n\\nVideo entries\\nQ&A BEN URI\\'S FUTURE\\nSenior members of Ben Uri answering questions on our digital future. \\nBen Uri: Survival & A Purposeful Future With the successful launch last year of Ben Uri as the First Full-scale Virtual Art Museum and Research Centre, and content, engagement and...\\n\\n\\n\\n\\n\\n\\n\\n\\n\\nVideo entries\\nTHE BAGEL PHILOSOPHY\\nBen Uri Today: Talks, Interviews and Films on Ben Uri\\'s social and cultural significance \\n3 February 2016\\nDavid Glasser explains what needs to be done during Ben Uri\\'s next hundred years.                \\n\\n\\n\\n\\n\\n\\n\\n\\n\\nVideo entries\\nDAVID GLASSER SPEAKING AT MUSEUM NEXT CONFERENCE\\nDavid Glasser, Chair of Ben Uri Gallery and Museum, speaking at MuseumNext conference 2021\\n18 June 2021\\n \\n\\n\\n\\n\\n\\n\\n\\n\\n\\n\\n\\n\\n\\n\\nVideo entries\\nShanti Panchal: Interview | Harrow | 13 December 2022\\nCourtesy of Studio International                          \\n\\n\\n\\n\\n\\n\\n\\n\\n\\n\\n\\n\\n\\nBe the first to know – Sign Up here\\n\\n\\n\\n\\n\\nFirst name *\\n\\n\\n\\nLast name *\\n\\n\\n\\nEmail *\\n\\n\\n\\nPhone *\\n\\n\\n\\n\\n\\n\\n\\n\\n\\n\\n\\n\\n\\n\\nSign up\\n\\n\\n\\n\\n\\n            * denotes required fields\\n        \\n\\nThis website uses cookies to improve your experience. If you are not happy with this, you can opt-out below.\\xa0\\n\\xa0\\nRead More\\n\\n\\n\\n\\n\\n\\n\\nVISIT US\\n108a Boundary Road,\\xa0St John’s Wood,\\xa0London,\\xa0NW8 0RH\\nNow open Wednesday to Friday 10 am - 5.30 pm\\nPlease check the dates on\\xa0What\\'s on.\\nadmin@benuri.org\\n\\xa0\\n\\n\\xa0\\n\\n\\n\\nHomepage\\nWhat’s On\\nAbout\\nContact\\nSupport\\n\\n\\nExhibitions\\nCollections\\nResearch Unit\\nEssays / Catalogues\\nLoans\\xa0\\n\\r\\n window.dataLayer = window.dataLayer || []; function gtag(){dataLayer.push(arguments);} gtag(\\'js\\', new Date()); gtag(\\'config\\', \\'AW-315810374\\'); \\r\\n// \\n\\n\\nBU TV\\nPodcasts\\nHealth\\nKids\\nPress\\n\\n\\nFacebook, opens in a new tab.Instagram, opens in a new tab.Twitter, opens in a new tab.Youtube, opens in a new tab.Pinterest, opens in a new tab.LinkedIn, opens in a new tab.Vimeo, opens in a new tab.Artsy, opens in a new tab.Send an email\\n\\n\\n\\n\\nPrivacy Policy\\nAccessibility Policy\\nManage cookies\\n\\n\\n\\n                    Copyright © 2024 Ben Uri Gallery and Museum\\n            \\n\\n                Site by Artlogic\\n        \\n\\n\\n\\n\\n\\n\\n\\n\\n\\nWe use cookies to make our website work more efficiently, to provide you with more personalised services or advertising, and to analyse traffic on our website. For more information please read our cookies policy. If you don\\'t agree to the use of our cookies, the quality of your experience of our website may be lessened.\\n\\nManage cookies\\nAccept \\n\\n\\n\\n\\n\\n\\n\\n\\n\\n\\n\\n\\n\\n\\n\\n\\n\\nCookie preferences\\nCheck the boxes for the cookie categories you allow our site to use\\n\\n\\n\\n\\nCookie options\\n\\n Strictly necessary\\nRequired for the website to function and cannot be disabled.\\n\\n\\n Preferences and functionality\\nImprove your experience on the website by storing choices you make about how it should function.\\n\\n\\n Statistics\\nAllow us to collect anonymous usage data in order to improve the experience on our website.\\n\\n\\n Marketing\\nAllow us to identify our visitors so that we can offer personalised, targeted marketing.\\n\\n\\n\\nSave preferences\\n\\n\\n\\n\\n\\n\\n\\n\\n\\nSelect LanguageEnglishArabicChinese (Simplified)FrenchGermanHindiItalianJapanesePortugueseRussianSpanishHebrewArmenian\\n\\n\\n \\n\\n\\n\\n\\n'"
      ]
     },
     "execution_count": 90,
     "metadata": {},
     "output_type": "execute_result"
    }
   ],
   "source": [
    "documents[0].page_content"
   ]
  },
  {
   "cell_type": "markdown",
   "metadata": {},
   "source": [
    "## 2.1 Clean up the webpage content \n",
    "To remove unnecessary whitespaces, newlines, and non-printable characters like \\xa0."
   ]
  },
  {
   "cell_type": "code",
   "execution_count": 91,
   "metadata": {},
   "outputs": [],
   "source": [
    "import re\n",
    "\n",
    "def clean_webpage_text(text):\n",
    "    # Remove excessive whitespace\n",
    "    text = re.sub(r'\\s+', ' ', text)\n",
    "    \n",
    "    # Remove non-printable characters like \\xa0\n",
    "    text = re.sub(r'\\xa0', ' ', text)\n",
    "    \n",
    "    # Strip leading/trailing whitespace\n",
    "    text = text.strip()\n",
    "    \n",
    "    return text"
   ]
  },
  {
   "cell_type": "code",
   "execution_count": 92,
   "metadata": {},
   "outputs": [],
   "source": [
    "for doc in documents:\n",
    "    raw_text = doc.page_content\n",
    "    clean_text = clean_webpage_text(raw_text)\n",
    "    doc.page_content = clean_text"
   ]
  },
  {
   "cell_type": "code",
   "execution_count": 93,
   "metadata": {},
   "outputs": [
    {
     "data": {
      "text/plain": [
       "'BU TV | Ben Uri Gallery and Museum Ben Uri Gallery and Museum Skip to main content Menu Homepage About Ben Uri What\\'s on Visit Us Exhibitions Collections Research Unit Diaspora Artists Museum Partnerships Essays / Catalogues BU TV Podcasts Bookshop Kids Programme Arts and Mental Health Bloomberg Connects Support Us Contact Us FAQ Facebook, opens in a new tab.Youtube, opens in a new tab.Instagram, opens in a new tab.Twitter, opens in a new tab.LinkedIn, opens in a new tab.Send an email Cart 0 items £ Checkout Item added to cart View cart & checkout Continue shopping Facebook, opens in a new tab.Youtube, opens in a new tab.Instagram, opens in a new tab.Twitter, opens in a new tab.LinkedIn, opens in a new tab.Send an email Menu BU TV BU TV Watch over 100 short films about artists, exhibitions and Ben Uri’s history and ethos Below are films and video content accompanying Ben Uri exhibitions, curator talks and related events, followed by important interviews reflecting personal experiences about periods and artworks under scrutiny. If you are interested in upcoming videos and more content, please visit and subscribe to our Youtube channel by clicking this link. VIDEO OF THE WEEK Video entries You\\'re Joking, Aren\\'t You? by Rachel Garfield Videos: London Art Fair 2023 Video entries Using Art Differently - Part 1 London Art Fair 2023 Video entries Using Art Differently - Part 2 London Art Fair 2023 Video entries Ben Uri’s impact at the London Art Fair 2023 Video entries Becoming Virtual: History Part 1 Video entries Becoming Virtual: Building Part 2 Video entries Becoming Virtual: Road Part 3 Video entries Becoming Virtual: Vision Part 4 Video entries Becoming Virtual: The Future Part 5 Videos: Migration Video entries OPEN COURTAULD HOUR - BRITISH ART, IMMIGRATION AND MIGRATION Season 3, Episode 2 5 November 2020 Sarah MacDougall speaks at this online event hosted by Leyla Bumbra for The Courtauld Research Forum. Other speakers include: Anna Eavis from English Heritage, Farhanah Mamooje who runs The Ayahs\\'... Video entries ‘INSIDERS/OUTSIDERS’: THE BEN URI ART SOCIETY AND ÉMIGRÉ ARTISTS, 1933-1945 Speaker: Rachel Dickson 8 May 2019 The Insiders/Outsiders Festival in 2019 celebrates the indelible contribution of the artists, photographers, writers, architects, designers, actors, film-makers, dancers and musicians, art historians, dealers, collectors, and publishers who, in fleeing... Video entries IN CONVERSATION: REFUGEE ARTISTS AND THE BEN URI COLLECTION 20 June 2021 To mark World Refugee Day, this year on Sunday 20th of June, we are delighted to be hosting a bonus Open Courtauld event. Drop here! Video entries BEN URI\\'S POSITION ON IMMIGRATION AND IMMIGRANT ARTISTS TO BRITAIN Ben Uri Today: Talks, Interviews and Films on Ben Uri\\'s social and cultural significance 28 November 2017 Chairman and Chief Executive of Ben Uri, David Glasser, explains Ben Uri\\'s endorsement and exhibitions of immigrant and refugee artists to modern Britain. Video entries BEN URI\\'S STATEMENT ON ART & THE IMMIGRATION DEBATE Ben Uri Today: Talks, Interviews and Films on Ben Uri\\'s social and cultural significance 25 February 2014 Chairman & CEO David Glasser issues a statement from the Ben Uri Gallery and Museum, calling on greater context & balance to be brought to the frenzy of the immigration... Video entries THIRTY SIX POUNDS AND FIVE PENCE Exhibition Focus 4 July 2017 In honour of Refugee Week, Ben Uri Gallery and New Art Studio celebrate “our shared future” through a partnership of refugee and asylum seekers\\' artwork. Contrary to common belief, asylum... Video entries NOTTING HILL CARNIVAL: THE A-Z OF ELIMU CARNIVAL BAND 1980-2014 Exhibition Openings: Opening Nights and Private Viewings of BU Exhibitions 11 March 2015 Ben Uri gallery hosted an exhibition curated by Paddington Arts exploring the history of the Elimu Carnival band, formed in 1980 and based at Paddington Arts since 2001. The exhibition... Video entries MIGRATION, ART AND IDENTITY - SHAK Arts and Schools: Films on Ben Uri\\'s Learning and Community programmes 29 June 2015 Video entries BEN URI: ART, IDENTITY AND MIGRATION SEMINAR AT SOUTHAMPTON UNIVERSITY Exhibition Focus 16 April 2014 Head of Collections Sarah MacDougall and Ben Uri Chairman David Glasser present their research Art, Identity and Migration — The Spielberg Question, in a seminar at Southampton University on 29th... Video entries Michelle Franklin interviewed by Sarah MacDougall Video entries BIRDS OF PASSAGE BOOK 03 By Hormazd Narielwalla Videos: Artists / Exhibitions Video entries ART UNLOCKED: BEN URI GALLERY AND MUSEUM Talk given by our Director Sarah MacDougall for ArtUK on 13th October 2021 Art Unlocked is an online talk series brought to you by Art UK in collaboration with Bloomberg Philanthropies. Each week, different museum and gallery curators and directors from across the... Bomberg Video entries INTRODUCTION TO DAVID BOMBERG Sarah MacDougall and Rachel Dickson talk about Bomberg in the light of the exhibition at Ben Uri Gallery and Museum, 2018 28 August 2018 Ben Uri\\'s Curators, Sarah MacDougall and Rachel Dickson\\'s introduction to David Bomberg in the exhibition at Ben Uri Gallery and Museum, 21 June 2018 - 16 September 2018. Drop here! Video entries DAVID BOMBERG\\'S \\'GHETTO THEATRE\\' I In \\'Uproar! The First 50 Years of the London Group\\' exhibition 20 May 2014 Sarah MacDougall, curator of Uproar!\\': The First Fifty Years of The London Group 1913-1963, which was held between 1st November 2013 — 2nd March 2014, discusses David Bomberg\\'s Ghetto Theatre... Video entries INSIGHT INTO THE BOMBERG EXHIBITION Bomberg: Exhibition at Ben Uri Gallery and Museum, 21 June 2018 - 16 September 2018 28 August 2018 Video entries A FAMILY PORTRAIT BY CECILY BOMBERG AND JULIET LAMONT Bomberg: Exhibition at Ben Uri Gallery and Museum, 21 June 2018 - 16 September 2018 28 August 2018 Video entries INTERVIEW WITH LESLIE MARR ON BOMBERG Bomberg: Exhibition at Ben Uri Gallery and Museum, 21 June 2018 - 16 September 2018 28 August 2018 Video entries INTERVIEW WITH RICHARD CORK ON BOMBERG Bomberg: Exhibition at Ben Uri Gallery and Museum, 21 June 2018 - 16 September 2018 28 August 2018 Video entries OUT OF CHAOS:PRIVATE VIEW, BEN URI CENTENARY CELEBRATION Exhibition Openings: Opening Nights and Private Viewings of BU Exhibitions 11 September 2015 Drop here! Videos: Gustav Metzger Video entries CURATOR NICOLA BAIRD ON THE \\'BECOMING GUSTAV METZGER\\' EXHIBITION As part of the Fritz Ascher Society’s monthly series “Flight or Fight: Stories of Artists Under Repression” Becoming Gustav Metzger curator, Nicola Baird (Ben Uri Research Unit) gives an online lecture to the Fritz Ascher Society, New York. Serving as an in-depth exploration of the early life... Video entries 100 FOR 100: BEN URI\\'S PAST, PRESENT AND FUTURE Exhibition Focus 7 June 2016 Drop here! Videos: Refiguring the 50s Video entries INTRODUCTION TO \\'REFIGURING THE 50S\\' EXHIBITION Exhibition Focus 12 November 2014 Introduction to the exhibition, Refiguring the 50s: Joan Eardley, Sheila Fell, Eva Frankfurther, Josef Herman and L S Lowry, curated by Sarah MacDougall. Video entries FEMALE PAINTERS IN REFIGURING THE 50S EXHIBITION Artist Focus 17 December 2014 Curator Sarah MacDougall explores the connections between the female painters whose works form part of the exhibition, Refiguring the 50s. She talks about Joan Eardley, Sheila Fell and Eva Frankfurther. Video entries MALE PAINTERS IN REFIGURING THE 50S EXHIBITION Artist Focus 2 February 2015 Curator Sarah MacDougall explores the connections between Josef Herman and L. S. Lowry whose works form part of the Ben Uri exhibition, Refiguring the 50s, held between 14th November 2014... Video entries A FAREWELL TO ART: CHAGALL, SHAKESPEARE AND PROSPERO EXHIBITION OPENING NIGHT Exhibition Openings: Opening Nights and Private Viewings of BU Exhibitions 6 November 2017 Drop here! Max Weber Video entries INTRODUCING MAX WEBER, AMERICA\\'S FIRST CUBIST PAINTER Artist Focus 14 July 2014 Weber expert Dr Percy North introduces American-Jewish artist Max Weber, America\\'s first Cubist painter. He studied with Matisse and developed his cubist style, having been influenced by Picasso. Video entries PRIVATE VIEWING OF THE EXHIBITION, MAX WEBER:AN AMERICAN CUBIST IN PARS AND LONDON 1905-15 Artist Focus 10 July 2014 Private view of the Ben Uri exhibition Max Weber: An American Cubist in Paris and London 1905-1915, held on 24th June 2014 at the Ben Uri Gallery and Museum. Max... Video entries ALVIN LANGDON\\'S \\'THE OCTOPUS\\' (1909) AT THE MAX WEBER EXHIBITION Artist Focus 14 July 2014 Weber expert Dr. Percy North discusses Alvin Langdon Coburn\\'s photography within the context of the Ben Uri exhibition of the work of Coburn\\'s friend and peer, the American-Jewish artist Max... Video entries \\'DANCE\\' IN THE WORK OF CUBIST ARTIST MAX WEBER AT BEN URI Artist Focus 14 July 2014 Weber expert Dr. Percy North discusses the theme of \\'dance\\' in the work of American-Jewish artist Max Weber. This was part of the Ben Uri exhibition, Max Weber: An American... Video entries CUBIST MAX WEBER\\'S STILL LIFE & PORTRAIT PAINTING Artist Focus 4 July 2014 Professor Anna Gruetzner Robins of the University of Reading compares still lifes and portraits featured in the Ben Uri exhibition on Cubist Jewish-American artist Max Weber. Video entries CUBIST MAX WEBER\\'S \\'BROOKLYN BRIDGE\\' EXPLAINED Artist Focus 4 July 2014 Professor Anna Gruetzner Robins of the University of Reading discusses Cubist artist Max Weber\\'s painting Brooklyn Bridge (1912) and the influence of friend and photographer Alvin Langdon Coburn (1882-1966). Video entries UNSEEN: LONDON, PARIS & NEW YORK 1940S-1960 Exhibition Openings: Opening Nights and Private Viewings of BU Exhibitions 13 July 2016 Drop here! David Breuer-Weil Video entries DAVID BREUER-WEIL | THE COVIAD | BEN URI GALLERY 11 April 2021 Video entries GOLDEN DRAWINGS: INSIGHTS BY ARTIST DAVID BREUER-WEIL A guided tour 11 April 2021 Watch as David Breuer-Weil walks us through his most recent online exhibition with Ben Uri Gallery and Museum — Golden Drawings and the Coviad. Video entries Moulding Alderney An Investigation with Piers Secunda Video entries Yalta 1945 exhibition BBC Russia report Watch a video by the BBC (Russian service) on the Yalta 1945 exhibition . Roman Halter Video entries ROMAN HALTER: LIFE AND ART THROUGH STAINED-GLASS AT BEN URI Exhibition Openings: Opening Nights and Private Viewings of BU Exhibitions 3 June 2014 Curatorial assistant, Thomas Hughes, introduces the work of Roman Halter and explains how stained-glass influences the entirety of his work. Video entries ROMAN HALTER Talking Art Series: Discussions at the London Jewish Cultural Centre and Ben Uri Gallery and Museum 6 July 2014 Talk on \\'Roman Halter (1927-2012): Life and Art Through Stained Glass\\' with his son and artist Ardyn Halter, Colin Wiggins of The National Gallery and journalist and filmmaker, Fergal Keane. Video entries VISITOR AT ROMAN HALTER EXHIBITION Exhibition Openings: Opening Nights and Private Viewings of BU Exhibitions 3 June 2014 A visitor at the Ben Uri Gallery and Museum comments on the work of Roman Halter. Video entries ROMAN HALTER EXHIBITION AT BEN URI: WATERCOLOURS Exhibition Openings: Opening Nights and Private Viewings of BU Exhibitions 3 June 2014 Curatorial assistant, Thomas Hughes, tells the story behind Roman Halter\\'s fascinating watercolours which were shown at the Ben Uri Gallery and Museum. Video entries ROMAN HALTER EXHIBITION AT BEN URI: DEINSTALLATION Exhibition Openings: Opening Nights and Private Viewings of BU Exhibitions 17 June 2014 What happens to paintings when an exhibition ends? Ben Uri curatorial assistant, Thomas Hughes, explains. Video entries JUDY CHICAGO TOURS HER EXHIBITION AT BEN URI GALLERY AND MUSEUM Artist Focus 8 March 2013 Shortened version of the Judy Chicago tour of the Ben Uri exhibition, Judy Chicago and Louise Bourgeois, Helen Chadwick, Tracey Emin: A Transatlantic Dialogue. Judy Chicago is accompanied by contemporary... Video entries \"ELIZABETH-ANTIQUA\": A FILM ON ELIZABETH FRIEDLÄNDER Directed, written and animated by Pixie Kolesa 13 April 2021 Directed, written and animated by Pixie Kolesa Elizabeth-Antiqua is a short, animated documentary about Elizabeth Friedländer, the first woman to design a commercial Latin typeface. Friedländer made history while facing... Video entries BEN URI EXHIBITION \\'SUZANNE PERLMAN PAINTING LONDON\\' OPENING Exhibition Openings: Opening Nights and Private Viewings of BU Exhibitions 1 June 2014 Ben Uri\\'s Suzanne Perlman: Painting London exhibition was hosted at The Gallery in Cork Street (30th April — 17th May 2014). The Hungarian ambassador opened the exhibition with the Hungarian-born... Video entries BEN URI EXHIBITION: \\'SHELL\\' AMATEURS COMMUNITY PHOTOGRAPHY Exhibition Openings: Opening Nights and Private Viewings of BU Exhibitions 2 April 2014 Ben Uri exhibited The SHELL Amateurs present Community Photography Exhibition in March 2014. This fascinating exhibition offered a glimpse into the local area of Camden and our neighbouring residents, exploring... Talking art Video entries BEN URI, THE FIRST FULL SCALE VIRTUAL MUSEUM & RESEARCH CENTRE 1 January 2021 Video entries DAVID HERMAN TALKS ABOUT HIS FATHER, JOSEF HERMAN Josef Herman: Insights on the Polish Artist and Talks on the Josef Herman Exhibition between 21 September 2011 - 15 January 2012 5 October 2012 David Herman talks about his father Josef Herman RA at the Josef Herman exhibition at the Ben Uri Gallery and Museum. Video entries JAKUB KRUPA\\'S TALK ON POLISH MIGRANTS IN BRITAIN Exhibition Focus 20 July 2017 UK Correspondent Jakub Krupa delivers a fascinating talk about Polish migrants living in Britain. Video entries ROMAN HALTER Talking Art Series: Discussions at the London Jewish Cultural Centre and Ben Uri Gallery and Museum 6 July 2014 Talk on \\'Roman Halter (1927-2012): Life and Art Through Stained Glass\\' with his son and artist Ardyn Halter, Colin Wiggins of The National Gallery and journalist and filmmaker, Fergal Keane. Video entries TALKING ART: ORANGE NIGHT Talking Art Series: Discussions at the London Jewish Cultural Centre and Ben Uri Gallery and Museum 31 July 2014 Celebrated actress, Thelma Ruby, tells the fascinating life story of internationally acclaimed painter, Sam Bak, who had his first exhibition as a child in a Lithuanian ghetto. Sam Bak then... Video entries \\'NAZI-LOOTED ART\\' AND YOM HASHOAH Talking Art Series: Discussions at the London Jewish Cultural Centre and Ben Uri Gallery and Museum 14 July 2014 New York attorney, Howard Spiegler, discusses the issues surrounding Nazi-looted art. Video entries WHAT MAKES BEN URI DIFFERENT Ben Uri Today: Talks, Interviews and Films on Ben Uri\\'s social and cultural significance 17 July 2020 Ben Uri Chairman, David Glasser, discusses Ben Uri\\'s exhibitions. Sep 9, 2015 Video entries THE FUTURE OF JEWISH CULTURAL PROVIDERS POST-COVID A presentation by David Glasser, Chairman of the Ben Uri Gallery and Museum Ben Uri Arts and Health Community and Schools Video entries WAYS INTO ART: OVERVIEW Arts and Health: Films on the Ben Uri Arts and Health Institute (BUAH) 30 June 2020 First of five films: An overview of the Ways into Art programme. Video entries ART IN RESIDENCE: BEN URI AT NIGHTINGALE HOUSE - YEAR 1 Arts and Health: Films on the Ben Uri Arts and Health Institute (BUAH) 15 August 2019 Overview of the Art in Residence programme. Video entries ART IN RESIDENCE: BEN URI AT NIGHTINGALE HOUSE - YEAR 2 Arts and Health: Films on the Ben Uri Arts and Health Institute (BUAH) 14 October 2019 Overview of the Art in Residence programme. Video entries INTERVIEW WITH JANE LANDES ABOUT BEN URI Ben Uri Today: Talks, Interviews and Films on Ben Uri\\'s social and cultural significance 11 September 2015 Art therapist, Jane Landes talks about working with Ben Uri in seeking to improve the quality of life for people living with dementia. Video entries AFTER SCHOOL ANIMATION CLUB: SHOWREEL FEBRUARY 2018 Arts and Schools: Films on Ben Uri\\'s Learning and Community programmes 15 February 2018 A five week After School Family Animation Club. Families responded to Chagall\\'s original lithographs exhibited at the gallery, which illustrate Shakespeare\\'s The Tempest. They devised their stories, made props, shot... Video entries AFTER SCHOOL FILM CLUB Arts and Schools: Films on Ben Uri\\'s Learning and Community programmes 22 March 2017 A six-week film project conducted by children and parents/carers, which focused on a different aspect of filmmaking each week. Video entries BEN URI COMMUNITY PROJECTS Arts and Schools: Films on Ben Uri\\'s Learning and Community programmes 11 August 2015 London Locals participant Shoda (with Sienna and Max) shares her experiences of working with SHAK and Ben Uri. Video entries JOHN BOYLE FROM SHAK Arts and Schools: Films on Ben Uri\\'s Learning and Community programmes 5 August 2015 Director of SHAK, John Boyle, talks about the positive impact the collaboration between SHAK and Ben Uri has had on participants. Interview Video entries INTERVIEW WITH JAKE CHAPMAN Ben Uri Today: Talks, Interviews and Films on Ben Uri\\'s social and cultural significance 11 September 2015 Artist Jake Chapman discusses his artwork and migration. Video entries INTERVIEW WITH DIANNE ABBOTT Ben Uri Today: Talks, Interviews and Films on Ben Uri\\'s social and cultural significance 11 September 2015 Dianne Abbott, MP for Hackney North and Stoke Newington, discusses migration and the importance of diversity as it is represented in the Ben Uri collection. Video entries INTERVIEW WITH SANDY NAIRNE Ben Uri Today: Talks, Interviews and Films on Ben Uri\\'s social and cultural significance 11 September 2015 Writer and curator Sandy Nairne discusses migration, art, and Ben Uri. Video entries INTERVIEW WITH STUART HOBLEY Ben Uri Today: Talks, Interviews and Films on Ben Uri\\'s social and cultural significance 9 September 2015 Stuart Hobley, Head of the Heritage Lottery Fund in London, comments on the intersection of art and heritage explored through the Ben Uri collection. Video entries INTERVIEW WITH JACKIE WULLSCHLAGER Ben Uri Today: Talks, Interviews and Films on Ben Uri\\'s social and cultural significance 7 September 2015 Jackie Wullschlager, Chief Art Critic of The Financial Times, discusses the historical importance of Ben Uri\\'s collection. Video entries INTERVIEW WITH ALAN YENTOB Ben Uri Today: Talks, Interviews and Films on Ben Uri\\'s social and cultural significance 7 September 2015 Alan Yentob, Creative Director of the BBC, reflects on how the Ben Uri collection relates to the history of migration in England. Video entries BEN URI CHAIR DAVID GLASSER ON THE HISTORY OF BEN URI: PART 1 Ben Uri Chairman, David Glasser discusses the early years of Ben Uri. 20 July 2020 Sep 7, 2015 Video entries BEN URI CHAIR DAVID GLASSER ON THE HISTORY OF BEN URI: PART 2 Ben Uri Chairman, David Glasser continues his discussion of Ben Uri post WWII and how it has changed and continues to do so in the 21st century. 19 July 2020 Sep 7, 2015 Video entries DAVID GLASSER ON THE STRATEGIC EVOLUTION OF BEN URI: Part 3 Ben Uri Chairman, David Glasser discusses the evolution of Ben Uri. 18 July 2020 Sep 8, 2015 Video entries WHAT MAKES BEN URI DIFFERENT Ben Uri Today: Talks, Interviews and Films on Ben Uri\\'s social and cultural significance 17 July 2020 Ben Uri Chairman, David Glasser, discusses Ben Uri\\'s exhibitions. Sep 9, 2015 Video entries BEN URI CENTENARY : THE FILM JULY 15 Ben Uri Today: Talks, Interviews and Films on Ben Uri\\'s social and cultural significance 30 June 2015 A short film documenting Ben Uri\\'s past, present and future, featuring some of London’s leading artists, curators, critics and museum directors. Video entries ABOUT BEN URI GALLERY AND MUSEUM Ben Uri Today: Talks, Interviews and Films on Ben Uri\\'s social and cultural significance 28 June 2012 Address on Ben Uri\\'s collection needing a permanent museum building to be on permanent display in the heart of central London. Video entries BEN URI, THE FIRST FULL SCALE VIRTUAL MUSEUM & RESEARCH CENTRE 1 January 2021 Video entries Q&A BEN URI\\'S FUTURE Senior members of Ben Uri answering questions on our digital future. Ben Uri: Survival & A Purposeful Future With the successful launch last year of Ben Uri as the First Full-scale Virtual Art Museum and Research Centre, and content, engagement and... Video entries THE BAGEL PHILOSOPHY Ben Uri Today: Talks, Interviews and Films on Ben Uri\\'s social and cultural significance 3 February 2016 David Glasser explains what needs to be done during Ben Uri\\'s next hundred years. Video entries DAVID GLASSER SPEAKING AT MUSEUM NEXT CONFERENCE David Glasser, Chair of Ben Uri Gallery and Museum, speaking at MuseumNext conference 2021 18 June 2021 Video entries Shanti Panchal: Interview | Harrow | 13 December 2022 Courtesy of Studio International Be the first to know – Sign Up here First name * Last name * Email * Phone * Sign up * denotes required fields This website uses cookies to improve your experience. If you are not happy with this, you can opt-out below. Read More VISIT US 108a Boundary Road, St John’s Wood, London, NW8 0RH Now open Wednesday to Friday 10 am - 5.30 pm Please check the dates on What\\'s on. admin@benuri.org Homepage What’s On About Contact Support Exhibitions Collections Research Unit Essays / Catalogues Loans window.dataLayer = window.dataLayer || []; function gtag(){dataLayer.push(arguments);} gtag(\\'js\\', new Date()); gtag(\\'config\\', \\'AW-315810374\\'); // BU TV Podcasts Health Kids Press Facebook, opens in a new tab.Instagram, opens in a new tab.Twitter, opens in a new tab.Youtube, opens in a new tab.Pinterest, opens in a new tab.LinkedIn, opens in a new tab.Vimeo, opens in a new tab.Artsy, opens in a new tab.Send an email Privacy Policy Accessibility Policy Manage cookies Copyright © 2024 Ben Uri Gallery and Museum Site by Artlogic We use cookies to make our website work more efficiently, to provide you with more personalised services or advertising, and to analyse traffic on our website. For more information please read our cookies policy. If you don\\'t agree to the use of our cookies, the quality of your experience of our website may be lessened. Manage cookies Accept Cookie preferences Check the boxes for the cookie categories you allow our site to use Cookie options Strictly necessary Required for the website to function and cannot be disabled. Preferences and functionality Improve your experience on the website by storing choices you make about how it should function. Statistics Allow us to collect anonymous usage data in order to improve the experience on our website. Marketing Allow us to identify our visitors so that we can offer personalised, targeted marketing. Save preferences Select LanguageEnglishArabicChinese (Simplified)FrenchGermanHindiItalianJapanesePortugueseRussianSpanishHebrewArmenian'"
      ]
     },
     "execution_count": 93,
     "metadata": {},
     "output_type": "execute_result"
    }
   ],
   "source": [
    "documents[0].page_content"
   ]
  },
  {
   "cell_type": "markdown",
   "metadata": {},
   "source": [
    "# 3. Index document in a vector store using LangChain"
   ]
  },
  {
   "cell_type": "markdown",
   "metadata": {},
   "source": [
    "Just follow my own code from the respository [resume-worth](https://github.com/luisrodriguesphd/resume-worth/tree/main)."
   ]
  },
  {
   "cell_type": "code",
   "execution_count": null,
   "metadata": {},
   "outputs": [],
   "source": []
  }
 ],
 "metadata": {
  "kernelspec": {
   "display_name": "Python 3.12.2 ('venv': venv)",
   "language": "python",
   "name": "python3"
  },
  "language_info": {
   "codemirror_mode": {
    "name": "ipython",
    "version": 3
   },
   "file_extension": ".py",
   "mimetype": "text/x-python",
   "name": "python",
   "nbconvert_exporter": "python",
   "pygments_lexer": "ipython3",
   "version": "3.12.2"
  },
  "orig_nbformat": 4,
  "vscode": {
   "interpreter": {
    "hash": "9fec38cd8ce5c790690e1b9e059ac9a9a8bff1e8e6071a760c5d50046cc42a4a"
   }
  }
 },
 "nbformat": 4,
 "nbformat_minor": 2
}
